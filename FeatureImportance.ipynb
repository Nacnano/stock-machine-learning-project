{
 "cells": [
  {
   "cell_type": "code",
   "execution_count": 3,
   "metadata": {},
   "outputs": [],
   "source": [
    "import numpy as np\n",
    "import pandas as pd\n",
    "from sklearn.preprocessing import StandardScaler\n",
    "import joblib"
   ]
  },
  {
   "cell_type": "markdown",
   "metadata": {},
   "source": [
    "## Functions for Feature Importance"
   ]
  },
  {
   "cell_type": "code",
   "execution_count": 4,
   "metadata": {},
   "outputs": [],
   "source": [
    "def get_linear_regression_feature_importance(model_file, feature_names):\n",
    "    \"\"\"\n",
    "    Extracts feature importance from a linear regression model stored in a .sav file.\n",
    "    \n",
    "    Parameters:\n",
    "    - model_file (str): File path to the .sav file containing the linear regression model.\n",
    "    - feature_names (list): List of feature names.\n",
    "    \n",
    "    Returns:\n",
    "    - DataFrame: DataFrame containing the feature names and their corresponding importance.\n",
    "    \"\"\"\n",
    "\n",
    "    model = joblib.load(model_file)\n",
    "\n",
    "    coefficients = model.coef_\n",
    "\n",
    "    absolute_coefficients = np.abs(coefficients)\n",
    "\n",
    "    scaler = StandardScaler()\n",
    "    normalized_coefficients = scaler.fit_transform(absolute_coefficients.reshape(-1, 1)).flatten()\n",
    "\n",
    "    feature_importance_df = pd.DataFrame({'Feature': feature_names, 'Importance': normalized_coefficients})\n",
    "\n",
    "    feature_importance_df = feature_importance_df.sort_values(by='Importance', ascending=False)\n",
    "\n",
    "    return feature_importance_df\n",
    "\n",
    "\n",
    "def get_svm_feature_importance(model_file, feature_names, X_train):\n",
    "    \"\"\"\n",
    "    Extracts feature importance from an SVM model stored in a .sav file.\n",
    "    \n",
    "    Parameters:\n",
    "    - model_file (str): File path to the .sav file containing the SVM model.\n",
    "    - feature_names (list): List of feature names.\n",
    "    - X_train (DataFrame or array-like): Training data used to fit the SVM model.\n",
    "    \n",
    "    Returns:\n",
    "    - DataFrame: DataFrame containing the feature names and their corresponding importance.\n",
    "    \"\"\"\n",
    "    model = joblib.load(model_file)\n",
    "\n",
    "    if model.kernel == 'linear':\n",
    "        coefficients = model.coef_.flatten()\n",
    "        importance = np.abs(coefficients)\n",
    "    else:\n",
    "        raise NotImplementedError(\"Feature importance for non-linear SVMs is not implemented yet.\")\n",
    "\n",
    "    scaler = StandardScaler()\n",
    "    normalized_importance = scaler.fit_transform(importance.reshape(-1, 1)).flatten()\n",
    "\n",
    "    feature_importance_df = pd.DataFrame({'Feature': feature_names, 'Importance': normalized_importance})\n",
    "\n",
    "    feature_importance_df = feature_importance_df.sort_values(by='Importance', ascending=False)\n",
    "\n",
    "    return feature_importance_df"
   ]
  },
  {
   "cell_type": "markdown",
   "metadata": {},
   "source": [
    "## Linear Regression"
   ]
  },
  {
   "cell_type": "code",
   "execution_count": 5,
   "metadata": {},
   "outputs": [
    {
     "name": "stdout",
     "output_type": "stream",
     "text": [
      "Ranked Feature Importance:\n",
      "  Feature  Importance\n",
      "3   Close    1.997547\n",
      "2     Low   -0.435193\n",
      "1    High   -0.457862\n",
      "0    Open   -0.531928\n",
      "4  Volume   -0.572564\n"
     ]
    },
    {
     "name": "stderr",
     "output_type": "stream",
     "text": [
      "C:\\Users\\Vivobook\\AppData\\Local\\Packages\\PythonSoftwareFoundation.Python.3.11_qbz5n2kfra8p0\\LocalCache\\local-packages\\Python311\\site-packages\\sklearn\\base.py:376: InconsistentVersionWarning: Trying to unpickle estimator LinearRegression from version 1.4.2 when using version 1.4.0. This might lead to breaking code or invalid results. Use at your own risk. For more info please refer to:\n",
      "https://scikit-learn.org/stable/model_persistence.html#security-maintainability-limitations\n",
      "  warnings.warn(\n"
     ]
    }
   ],
   "source": [
    "path = \"models/LinearRegression.sav\"\n",
    "feature_names = [\"Open\", \"High\", \"Low\", \"Close\", \"Volume\"]\n",
    "\n",
    "feature_importance_df = get_linear_regression_feature_importance(path, feature_names)\n",
    "print(feature_importance_df)"
   ]
  },
  {
   "cell_type": "code",
   "execution_count": 6,
   "metadata": {},
   "outputs": [
    {
     "name": "stdout",
     "output_type": "stream",
     "text": [
      "  Feature  Importance\n",
      "3   Close    1.182225\n",
      "1    High    0.615189\n",
      "0    Open    0.202764\n",
      "2     Low   -0.231189\n",
      "4  Volume   -1.768990\n"
     ]
    },
    {
     "name": "stderr",
     "output_type": "stream",
     "text": [
      "C:\\Users\\Vivobook\\AppData\\Local\\Packages\\PythonSoftwareFoundation.Python.3.11_qbz5n2kfra8p0\\LocalCache\\local-packages\\Python311\\site-packages\\sklearn\\base.py:376: InconsistentVersionWarning: Trying to unpickle estimator LinearRegression from version 1.4.2 when using version 1.4.0. This might lead to breaking code or invalid results. Use at your own risk. For more info please refer to:\n",
      "https://scikit-learn.org/stable/model_persistence.html#security-maintainability-limitations\n",
      "  warnings.warn(\n"
     ]
    }
   ],
   "source": [
    "path = \"models/LinearRegression_log.sav\"\n",
    "feature_names = [\"Open\", \"High\", \"Low\", \"Close\", \"Volume\"]\n",
    "\n",
    "feature_importance_df = get_linear_regression_feature_importance(path, feature_names)\n",
    "print(feature_importance_df)"
   ]
  },
  {
   "cell_type": "markdown",
   "metadata": {},
   "source": [
    "## SVM"
   ]
  },
  {
   "cell_type": "code",
   "execution_count": null,
   "metadata": {},
   "outputs": [],
   "source": [
    "model_file_path = 'models/SVM.sav'\n",
    "feature_names =  [\"Open\", \"High\", \"Low\", \"Close\", \"Volume\"]\n",
    "X_train = ...  # training data (How to get this easily without running the model file)\n",
    "feature_importance = get_svm_feature_importance(model_file_path, feature_names, X_train)\n",
    "print(feature_importance)"
   ]
  }
 ],
 "metadata": {
  "kernelspec": {
   "display_name": "Python 3",
   "language": "python",
   "name": "python3"
  },
  "language_info": {
   "codemirror_mode": {
    "name": "ipython",
    "version": 3
   },
   "file_extension": ".py",
   "mimetype": "text/x-python",
   "name": "python",
   "nbconvert_exporter": "python",
   "pygments_lexer": "ipython3",
   "version": "3.11.9"
  }
 },
 "nbformat": 4,
 "nbformat_minor": 2
}
