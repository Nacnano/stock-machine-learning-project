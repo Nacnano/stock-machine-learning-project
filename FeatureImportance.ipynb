{
 "cells": [
  {
   "cell_type": "code",
   "execution_count": null,
   "metadata": {},
   "outputs": [],
   "source": [
    "import numpy as np\n",
    "import pandas as pd\n",
    "from sklearn.preprocessing import StandardScaler\n",
    "from sklearn.inspection import permutation_importance\n",
    "\n",
    "import matplotlib.pyplot as plt\n",
    "\n",
    "import joblib\n",
    "\n",
    "import torch\n",
    "import torch.nn as nn\n",
    "\n",
    "# import tensorflow as tf\n",
    "# from innvestigate.utils.keras import checks\n",
    "# from innvestigate.utils.keras import checks as kchecks\n",
    "# from innvestigate.utils.keras import backend as kb\n",
    "# from innvestigate.utils.keras import applications as kapp\n",
    "# from innvestigate import create_analyzer"
   ]
  },
  {
   "cell_type": "markdown",
   "metadata": {},
   "source": [
    "## Functions for Feature Importance"
   ]
  },
  {
   "cell_type": "code",
   "execution_count": null,
   "metadata": {},
   "outputs": [],
   "source": [
    "def get_linear_regression_feature_importance(model_file, feature_names):\n",
    "    \"\"\"\n",
    "    Extracts feature importance from a linear regression model stored in a .sav file.\n",
    "    \n",
    "    Parameters:\n",
    "    - model_file (str): File path to the .sav file containing the linear regression model.\n",
    "    - feature_names (list): List of feature names.\n",
    "    \n",
    "    Returns:\n",
    "    - DataFrame: DataFrame containing the feature names and their corresponding importance.\n",
    "    \"\"\"\n",
    "\n",
    "    model = joblib.load(model_file)\n",
    "\n",
    "    coefficients = model.coef_\n",
    "\n",
    "    absolute_coefficients = np.abs(coefficients)\n",
    "\n",
    "    scaler = StandardScaler()\n",
    "    normalized_coefficients = scaler.fit_transform(absolute_coefficients.reshape(-1, 1)).flatten()\n",
    "\n",
    "    feature_importance_df = pd.DataFrame({'Feature': feature_names, 'Importance': normalized_coefficients})\n",
    "    feature_importance_df = feature_importance_df.sort_values(by='Importance', ascending=False)\n",
    "\n",
    "    return feature_importance_df\n",
    "\n",
    "def get_svm_feature_importance_df(svm_model, feature_names=None):\n",
    "    \"\"\"\n",
    "    Get feature importance from SVM model as a pandas DataFrame.\n",
    "\n",
    "    Parameters:\n",
    "    svm_model (object): Trained SVM model.\n",
    "    feature_names (list): List of feature names.\n",
    "\n",
    "    Returns:\n",
    "    pandas.DataFrame: DataFrame containing feature names and corresponding feature importances.\n",
    "    \"\"\"\n",
    "\n",
    "    if hasattr(svm_model, 'coef_'):\n",
    "        if feature_names is None or len(feature_names) != len(svm_model.coef_[0]):\n",
    "            feature_names = [f'Feature_{i}' for i in range(len(svm_model.coef_[0]))]\n",
    "        \n",
    "        feature_importance = {feature_names[i]: coef for i, coef in enumerate(svm_model.coef_[0])}\n",
    "        df = pd.DataFrame.from_dict(feature_importance, orient='index', columns=['Importance'])\n",
    "        df = df.abs()\n",
    "        df = df.sort_values(by='Importance', ascending=False)\n",
    "        return df\n",
    "    \n",
    "    elif svm_model.kernel == 'linear':\n",
    "        print(\"Warning: Model doesn't have coef_ attribute. Feature importance cannot be extracted.\")\n",
    "        return None\n",
    "    \n",
    "    else:\n",
    "        print(\"Warning: This SVM model type doesn't support direct feature importance extraction.\")\n",
    "        return None\n",
    "\n",
    "\n",
    "def get_permutation_importance_svr(model, X, y, scoring='neg_mean_squared_error', feature_names=None):\n",
    "    \"\"\"\n",
    "    Get feature importance using permutation importance for SVR model.\n",
    "\n",
    "    Parameters:\n",
    "    model (object): Trained SVR model.\n",
    "    X (array-like or sparse matrix): Input features.\n",
    "    y (array-like): Target values.\n",
    "    scoring (str): Scoring method for permutation importance. Default is 'neg_mean_squared_error'.\n",
    "    feature_names (list): List of feature names.\n",
    "\n",
    "    Returns:\n",
    "    pandas.DataFrame: DataFrame containing feature names and corresponding permutation importance scores.\n",
    "    \"\"\"\n",
    "\n",
    "    results = permutation_importance(model, X, y, scoring=scoring)\n",
    "    \n",
    "    importance = results.importances_mean\n",
    "\n",
    "    if feature_names is None:\n",
    "        feature_names = [f'Feature_{i}' for i in range(X.shape[1])]\n",
    "\n",
    "    feature_importance_df = pd.DataFrame({'Feature': feature_names, 'Importance': importance})\n",
    "    feature_importance_df = feature_importance_df.sort_values(by='Importance', ascending=False)\n",
    "    \n",
    "    return feature_importance_df\n",
    "\n",
    "\n",
    "def get_lstm_feature_importance_from_file(model_file, feature_names, device=\"cpu\"):\n",
    "    \"\"\"\n",
    "    Extracts feature importance from the weights of an LSTM model stored in a .pth.tar file.\n",
    "    \n",
    "    Parameters:\n",
    "    - model_file (str): File path to the .pth.tar file containing the weights of the LSTM model.\n",
    "    - feature_names (list): List of feature names.\n",
    "    \n",
    "    Returns:\n",
    "    - DataFrame: DataFrame containing the feature names and their corresponding importance.\n",
    "    \"\"\"\n",
    "    state_dict = torch.load(model_file, map_location=torch.device(device))\n",
    "    model_state_dict = state_dict['model']\n",
    "\n",
    "    hidden_size = 256\n",
    "    input_size = 1\n",
    "    num_layers = 4\n",
    "    lstm = nn.LSTM(input_size, hidden_size, num_layers, batch_first=True)\n",
    "    linear1 = nn.Linear(hidden_size, 64)\n",
    "    linear2 = nn.Linear(64, 1)\n",
    "\n",
    "    # Depends on the architecture\n",
    "    lstm_weight_ih = model_state_dict['layer1.weight_ih_l0'].T  # Shape: (hidden_size*4, input_size)\n",
    "    lstm_weight_hh = model_state_dict['layer1.weight_hh_l0'].T  # Shape: (hidden_size*4, hidden_size)\n",
    "    lstm_bias_ih = model_state_dict['layer1.bias_ih_l0']  # Shape: (hidden_size*4,)\n",
    "    lstm_bias_hh = model_state_dict['layer1.bias_hh_l0']  # Shape: (hidden_size*4,)\n",
    "    linear1_weight = model_state_dict['layer2.0.weight'].T  # Shape: (64, hidden_size)\n",
    "    linear1_bias = model_state_dict['layer2.0.bias']  # Shape: (64,)\n",
    "    linear2_weight = model_state_dict['layer3.weight'].T  # Shape: (1, 64)\n",
    "    linear2_bias = model_state_dict['layer3.bias']  # Shape: (1,)\n",
    "\n",
    "    importance1 = np.abs(np.matmul(lstm_weight_ih, np.diag(lstm_weight_hh.flatten())) + lstm_bias_ih + lstm_bias_hh)\n",
    "    importance2 = np.abs(np.matmul(linear1_weight, linear2_weight.flatten())) + linear1_bias + linear2_bias\n",
    "    importance = np.concatenate((importance1.flatten(), importance2))\n",
    "\n",
    "    feature_importance_df = pd.DataFrame({'Feature': feature_names, 'Importance': importance})\n",
    "    feature_importance_df = feature_importance_df.sort_values(by='Importance', ascending=False)\n",
    "\n",
    "    return feature_importance_df\n",
    "\n",
    "\n",
    "def get_xgboost_feature_importance(model, feature_names):\n",
    "    \"\"\"\n",
    "    Extracts feature importance from an XGBoost model.\n",
    "    \n",
    "    Parameters:\n",
    "    - model: Trained XGBoost model.\n",
    "    - feature_names (list): List of feature names.\n",
    "    \n",
    "    Returns:\n",
    "    - DataFrame: DataFrame containing the feature names and their corresponding importance.\n",
    "    \"\"\"\n",
    "    importance = model.feature_importances_\n",
    "\n",
    "    feature_importance_df = pd.DataFrame({'Feature': feature_names, 'Importance': importance})\n",
    "    feature_importance_df = feature_importance_df.sort_values(by='Importance', ascending=False)\n",
    "\n",
    "    return feature_importance_df\n",
    "\n"
   ]
  },
  {
   "cell_type": "markdown",
   "metadata": {},
   "source": [
    "# Example usages"
   ]
  },
  {
   "cell_type": "markdown",
   "metadata": {},
   "source": [
    "## Linear Regression"
   ]
  },
  {
   "cell_type": "code",
   "execution_count": null,
   "metadata": {},
   "outputs": [],
   "source": [
    "# path = \"models/LinearRegression.sav\"\n",
    "# feature_names = [\"Open\", \"High\", \"Low\", \"Close\", \"Volume\"]\n",
    "\n",
    "# feature_importance_df = get_linear_regression_feature_importance(path, feature_names)\n",
    "# print(feature_importance_df)"
   ]
  },
  {
   "cell_type": "markdown",
   "metadata": {},
   "source": [
    "## SVM"
   ]
  },
  {
   "cell_type": "code",
   "execution_count": null,
   "metadata": {},
   "outputs": [],
   "source": [
    "# parse an SVM model directly in the function \n",
    "# feature_names =  [\"Open\", \"High\", \"Low\", \"Close\", \"Volume\"]\n",
    "# feature_importance_df = get_svm_feature_importance(model, feature_names)\n",
    "# print(feature_importance_df)"
   ]
  },
  {
   "cell_type": "markdown",
   "metadata": {},
   "source": [
    "## SVR"
   ]
  },
  {
   "cell_type": "code",
   "execution_count": null,
   "metadata": {},
   "outputs": [],
   "source": [
    "# parse an SVR model directly in the function\n",
    "# model = SVR() something\n",
    "# permutation_importance_df = get_permutation_importance_svr(model, X, y, feature_names=['Feature1', 'Feature2', ...])\n",
    "# print(permutation_importance_df)"
   ]
  },
  {
   "cell_type": "markdown",
   "metadata": {},
   "source": [
    "## XGBoost"
   ]
  },
  {
   "cell_type": "code",
   "execution_count": null,
   "metadata": {},
   "outputs": [],
   "source": [
    "# parse an XGBoost model directly in the function \n",
    "# feature_importance = get_xgboost_feature_importance(xgb_model, feature_names)\n",
    "# print(\"Ranked Feature Importance:\")\n",
    "# print(feature_importance)"
   ]
  },
  {
   "cell_type": "markdown",
   "metadata": {},
   "source": [
    "## LSTM"
   ]
  },
  {
   "cell_type": "code",
   "execution_count": null,
   "metadata": {},
   "outputs": [],
   "source": [
    "\n",
    "# model_file_path = 'models/LSTM1.pth.tar'\n",
    "# feature_names = [\"Open\", \"High\", \"Low\", \"Close\", \"Volume\"]\n",
    "\n",
    "# feature_importance = get_lstm_feature_importance_from_file(model_file_path, feature_names)\n",
    "# print(\"Ranked Feature Importance:\")\n",
    "# print(feature_importance)"
   ]
  }
 ],
 "metadata": {
  "kernelspec": {
   "display_name": "Python 3",
   "language": "python",
   "name": "python3"
  },
  "language_info": {
   "codemirror_mode": {
    "name": "ipython",
    "version": 3
   },
   "file_extension": ".py",
   "mimetype": "text/x-python",
   "name": "python",
   "nbconvert_exporter": "python",
   "pygments_lexer": "ipython3",
   "version": "3.11.9"
  }
 },
 "nbformat": 4,
 "nbformat_minor": 2
}
