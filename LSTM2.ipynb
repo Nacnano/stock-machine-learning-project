{
 "cells": [
  {
   "cell_type": "code",
   "execution_count": 1,
   "metadata": {},
   "outputs": [],
   "source": [
    "#!nvidia-smi"
   ]
  },
  {
   "cell_type": "code",
   "execution_count": 1,
   "metadata": {},
   "outputs": [],
   "source": [
    "import torch\n",
    "from torch import nn\n",
    "from torch.utils.data import DataLoader\n",
    "import torch.nn.functional as F\n",
    "from torchsummary import summary\n",
    "\n",
    "from DatasetLogReturn import StockDatasetLogReturn\n",
    "from tqdm.notebook import tqdm\n",
    "\n",
    "from sklearn.model_selection import train_test_split\n",
    "\n",
    "import numpy as np\n",
    "import pandas as pd\n",
    "import random as rd\n",
    "import matplotlib.pyplot as plt"
   ]
  },
  {
   "cell_type": "code",
   "execution_count": 2,
   "metadata": {},
   "outputs": [],
   "source": [
    "configs = {\n",
    "    \"batch_size\" : 128,\n",
    "    \"max_file_count\" : 2179,\n",
    "    \"train_file\" : 50,\n",
    "    \"validation_file\" : 15,\n",
    "    \"test_file\" : 15,\n",
    "    \"input_size\" : 50,\n",
    "    \"output_size\" : 1,\n",
    "    \"init_learning_rate\" : 1e-2,\n",
    "    \"scheduler_factor\": 0.6,\n",
    "    \"scheduler_patience\": 5,\n",
    "    \"scheduler_min_lr\": 5e-4,\n",
    "    \"epoch\" : 10,\n",
    "    \"model_name\" : \"LSTM2\",\n",
    "}\n",
    "\n",
    "configs[\"file_count\"] = configs[\"train_file\"] + configs[\"validation_file\"] + configs[\"test_file\"]\n",
    "configs[\"model_folder\"] = f\"./models/{configs[\"model_name\"]}/\"\n",
    "\n",
    "device = torch.device(\"cuda\" if torch.cuda.is_available() else \"cpu\")"
   ]
  },
  {
   "cell_type": "code",
   "execution_count": 7,
   "metadata": {},
   "outputs": [
    {
     "data": {
      "application/vnd.jupyter.widget-view+json": {
       "model_id": "8e418b7ee36946c29d9430b5e1d12ff8",
       "version_major": 2,
       "version_minor": 0
      },
      "text/plain": [
       "  0%|          | 0/50 [00:00<?, ?it/s]"
      ]
     },
     "metadata": {},
     "output_type": "display_data"
    },
    {
     "data": {
      "application/vnd.jupyter.widget-view+json": {
       "model_id": "e76f812801ca4e87b8581c64fa62dc34",
       "version_major": 2,
       "version_minor": 0
      },
      "text/plain": [
       "  0%|          | 0/296682 [00:00<?, ?it/s]"
      ]
     },
     "metadata": {},
     "output_type": "display_data"
    },
    {
     "data": {
      "application/vnd.jupyter.widget-view+json": {
       "model_id": "7af138a3bf1141c29af5c2ab88b3ffb0",
       "version_major": 2,
       "version_minor": 0
      },
      "text/plain": [
       "  0%|          | 0/15 [00:00<?, ?it/s]"
      ]
     },
     "metadata": {},
     "output_type": "display_data"
    },
    {
     "data": {
      "application/vnd.jupyter.widget-view+json": {
       "model_id": "44c30833599c418183824557cd948cec",
       "version_major": 2,
       "version_minor": 0
      },
      "text/plain": [
       "  0%|          | 0/64608 [00:00<?, ?it/s]"
      ]
     },
     "metadata": {},
     "output_type": "display_data"
    },
    {
     "data": {
      "application/vnd.jupyter.widget-view+json": {
       "model_id": "2f822cc0e33841469e053cd95e9f01a3",
       "version_major": 2,
       "version_minor": 0
      },
      "text/plain": [
       "  0%|          | 0/15 [00:00<?, ?it/s]"
      ]
     },
     "metadata": {},
     "output_type": "display_data"
    },
    {
     "data": {
      "application/vnd.jupyter.widget-view+json": {
       "model_id": "82c06f3b9afa423cbe11a54ade1a988e",
       "version_major": 2,
       "version_minor": 0
      },
      "text/plain": [
       "  0%|          | 0/91813 [00:00<?, ?it/s]"
      ]
     },
     "metadata": {},
     "output_type": "display_data"
    },
    {
     "name": "stderr",
     "output_type": "stream",
     "text": [
      "d:\\Programming\\Pattern_Reg_Final\\DatasetLogReturn.py:48: RuntimeWarning: divide by zero encountered in log\n",
      "  c = np.log(b)\n"
     ]
    }
   ],
   "source": [
    "tickers = list(map(str.strip,open(\"tickers.txt\",\"r\").readlines()))\n",
    "filenames = [\"./data/\" + x + \".csv\" for x in tickers]\n",
    "rd.shuffle(filenames)\n",
    "filenames = filenames[:configs[\"file_count\"]]\n",
    "\n",
    "train_files, test_files = train_test_split(filenames,test_size=configs[\"test_file\"]/configs[\"file_count\"])\n",
    "train_files, val_files = train_test_split(train_files,test_size=configs[\"validation_file\"]/(configs[\"train_file\"] + configs[\"validation_file\"]))\n",
    "\n",
    "train_dataset = StockDatasetLogReturn(train_files, configs[\"input_size\"], configs[\"output_size\"])\n",
    "train_dataset.Preprocess()\n",
    "train_loader = DataLoader(train_dataset,batch_size=configs[\"batch_size\"],shuffle=True)\n",
    "\n",
    "val_dataset = StockDatasetLogReturn(val_files,configs[\"input_size\"],configs[\"output_size\"])\n",
    "val_dataset.Preprocess()\n",
    "val_loader = DataLoader(val_dataset,batch_size=configs[\"batch_size\"],shuffle=True)\n",
    "\n",
    "test_dataset = StockDatasetLogReturn(test_files,configs[\"input_size\"],configs[\"output_size\"])\n",
    "test_dataset.Preprocess()\n",
    "test_loader = DataLoader(test_dataset,batch_size=configs[\"batch_size\"],shuffle=True)"
   ]
  },
  {
   "cell_type": "code",
   "execution_count": 4,
   "metadata": {},
   "outputs": [],
   "source": [
    "torch.set_default_dtype(torch.float32)\n",
    "class StockLSTM(nn.Module) :\n",
    "    def __init__(self) :\n",
    "        super().__init__()\n",
    "        self.hidden_size = 1024\n",
    "        self.batch_size = configs[\"batch_size\"]\n",
    "        self.h0 = torch.zeros((2,self.batch_size,self.hidden_size)).to(device)\n",
    "        self.c0 = torch.zeros((2,self.batch_size,self.hidden_size)).to(device)\n",
    "        self.layer1 = nn.LSTM(1,self.hidden_size,2,dropout=0.2,batch_first=True)\n",
    "        self.layer2 = nn.Sequential(\n",
    "            nn.Linear(self.hidden_size,128),\n",
    "            nn.ReLU()\n",
    "        )\n",
    "        self.layer3 = nn.Linear(128,1)\n",
    "\n",
    "    def forward(self, input) :\n",
    "        h1,(hn,cn) = self.layer1(input,(self.h0,self.c0))\n",
    "        h2 = self.layer2(h1[:,-1,:])\n",
    "        output = self.layer3(h2)\n",
    "        return output\n"
   ]
  },
  {
   "cell_type": "code",
   "execution_count": 26,
   "metadata": {},
   "outputs": [
    {
     "name": "stdout",
     "output_type": "stream",
     "text": [
      "=================================================================\n",
      "Layer (type:depth-idx)                   Param #\n",
      "=================================================================\n",
      "├─LSTM: 1-1                              12,603,392\n",
      "├─Sequential: 1-2                        --\n",
      "|    └─Linear: 2-1                       131,200\n",
      "|    └─ReLU: 2-2                         --\n",
      "├─Linear: 1-3                            129\n",
      "=================================================================\n",
      "Total params: 12,734,721\n",
      "Trainable params: 12,734,721\n",
      "Non-trainable params: 0\n",
      "=================================================================\n"
     ]
    },
    {
     "data": {
      "text/plain": [
       "=================================================================\n",
       "Layer (type:depth-idx)                   Param #\n",
       "=================================================================\n",
       "├─LSTM: 1-1                              12,603,392\n",
       "├─Sequential: 1-2                        --\n",
       "|    └─Linear: 2-1                       131,200\n",
       "|    └─ReLU: 2-2                         --\n",
       "├─Linear: 1-3                            129\n",
       "=================================================================\n",
       "Total params: 12,734,721\n",
       "Trainable params: 12,734,721\n",
       "Non-trainable params: 0\n",
       "================================================================="
      ]
     },
     "execution_count": 26,
     "metadata": {},
     "output_type": "execute_result"
    }
   ],
   "source": [
    "model = StockLSTM()\n",
    "model = model.to(device)\n",
    "\n",
    "summary(model,input_size=(configs[\"batch_size\"],configs[\"input_size\"],1))"
   ]
  },
  {
   "cell_type": "code",
   "execution_count": 12,
   "metadata": {},
   "outputs": [],
   "source": [
    "loss_fn = torch.nn.L1Loss()"
   ]
  },
  {
   "cell_type": "code",
   "execution_count": 11,
   "metadata": {},
   "outputs": [
    {
     "ename": "NameError",
     "evalue": "name 'model' is not defined",
     "output_type": "error",
     "traceback": [
      "\u001b[1;31m---------------------------------------------------------------------------\u001b[0m",
      "\u001b[1;31mNameError\u001b[0m                                 Traceback (most recent call last)",
      "Cell \u001b[1;32mIn[11], line 1\u001b[0m\n\u001b[1;32m----> 1\u001b[0m optimizer \u001b[38;5;241m=\u001b[39m torch\u001b[38;5;241m.\u001b[39moptim\u001b[38;5;241m.\u001b[39mAdam(\u001b[43mmodel\u001b[49m\u001b[38;5;241m.\u001b[39mparameters(), lr \u001b[38;5;241m=\u001b[39m configs[\u001b[38;5;124m\"\u001b[39m\u001b[38;5;124minit_learning_rate\u001b[39m\u001b[38;5;124m\"\u001b[39m])\n\u001b[0;32m      2\u001b[0m scheduler \u001b[38;5;241m=\u001b[39m torch\u001b[38;5;241m.\u001b[39moptim\u001b[38;5;241m.\u001b[39mlr_scheduler\u001b[38;5;241m.\u001b[39mReduceLROnPlateau(\n\u001b[0;32m      3\u001b[0m     optimizer,\n\u001b[0;32m      4\u001b[0m     \u001b[38;5;124m'\u001b[39m\u001b[38;5;124mmin\u001b[39m\u001b[38;5;124m'\u001b[39m,\n\u001b[1;32m   (...)\u001b[0m\n\u001b[0;32m      7\u001b[0m     min_lr\u001b[38;5;241m=\u001b[39mconfigs[\u001b[38;5;124m'\u001b[39m\u001b[38;5;124mscheduler_min_lr\u001b[39m\u001b[38;5;124m'\u001b[39m]\n\u001b[0;32m      8\u001b[0m )\n\u001b[0;32m      9\u001b[0m loss_fn \u001b[38;5;241m=\u001b[39m torch\u001b[38;5;241m.\u001b[39mnn\u001b[38;5;241m.\u001b[39mL1Loss()\n",
      "\u001b[1;31mNameError\u001b[0m: name 'model' is not defined"
     ]
    }
   ],
   "source": [
    "optimizer = torch.optim.Adam(model.parameters(), lr = configs[\"init_learning_rate\"])\n",
    "scheduler = torch.optim.lr_scheduler.ReduceLROnPlateau(\n",
    "    optimizer,\n",
    "    'min',\n",
    "    factor=configs['scheduler_factor'],\n",
    "    patience=configs['scheduler_patience'],\n",
    "    min_lr=configs['scheduler_min_lr']\n",
    ")\n"
   ]
  },
  {
   "cell_type": "code",
   "execution_count": 32,
   "metadata": {},
   "outputs": [
    {
     "data": {
      "application/vnd.jupyter.widget-view+json": {
       "model_id": "9929ef9496ef467dbde667dc5eb50b31",
       "version_major": 2,
       "version_minor": 0
      },
      "text/plain": [
       "  0%|          | 0/10 [00:00<?, ?it/s]"
      ]
     },
     "metadata": {},
     "output_type": "display_data"
    },
    {
     "data": {
      "application/vnd.jupyter.widget-view+json": {
       "model_id": "36a600c79dd24701824244520c3c316c",
       "version_major": 2,
       "version_minor": 0
      },
      "text/plain": [
       "  0%|          | 0/2161 [00:00<?, ?it/s]"
      ]
     },
     "metadata": {},
     "output_type": "display_data"
    },
    {
     "data": {
      "application/vnd.jupyter.widget-view+json": {
       "model_id": "9dfb2be667b245df99878ce6ef4a361b",
       "version_major": 2,
       "version_minor": 0
      },
      "text/plain": [
       "  0%|          | 0/955 [00:00<?, ?it/s]"
      ]
     },
     "metadata": {},
     "output_type": "display_data"
    },
    {
     "name": "stdout",
     "output_type": "stream",
     "text": [
      "train loss :  0.016268097573925777\n",
      "val loss :  0.013543832692780398\n"
     ]
    },
    {
     "data": {
      "application/vnd.jupyter.widget-view+json": {
       "model_id": "f1ae71ec40ce45f597ac418f738be52f",
       "version_major": 2,
       "version_minor": 0
      },
      "text/plain": [
       "  0%|          | 0/2161 [00:00<?, ?it/s]"
      ]
     },
     "metadata": {},
     "output_type": "display_data"
    },
    {
     "data": {
      "application/vnd.jupyter.widget-view+json": {
       "model_id": "24d981be7a2c4f819e6109447e8edb10",
       "version_major": 2,
       "version_minor": 0
      },
      "text/plain": [
       "  0%|          | 0/955 [00:00<?, ?it/s]"
      ]
     },
     "metadata": {},
     "output_type": "display_data"
    },
    {
     "name": "stdout",
     "output_type": "stream",
     "text": [
      "train loss :  0.016291676818703613\n",
      "val loss :  0.012619610394564003\n"
     ]
    },
    {
     "data": {
      "application/vnd.jupyter.widget-view+json": {
       "model_id": "5d654c38ef5245ddad8963abfdb29f04",
       "version_major": 2,
       "version_minor": 0
      },
      "text/plain": [
       "  0%|          | 0/2161 [00:00<?, ?it/s]"
      ]
     },
     "metadata": {},
     "output_type": "display_data"
    },
    {
     "data": {
      "application/vnd.jupyter.widget-view+json": {
       "model_id": "1cbd964e211a4ef2a3f3a6318c10d7db",
       "version_major": 2,
       "version_minor": 0
      },
      "text/plain": [
       "  0%|          | 0/955 [00:00<?, ?it/s]"
      ]
     },
     "metadata": {},
     "output_type": "display_data"
    },
    {
     "name": "stdout",
     "output_type": "stream",
     "text": [
      "train loss :  0.0163004113675992\n",
      "val loss :  0.013166177984662901\n"
     ]
    },
    {
     "data": {
      "application/vnd.jupyter.widget-view+json": {
       "model_id": "93966f437a23402883b3d8ab6b42f112",
       "version_major": 2,
       "version_minor": 0
      },
      "text/plain": [
       "  0%|          | 0/2161 [00:00<?, ?it/s]"
      ]
     },
     "metadata": {},
     "output_type": "display_data"
    },
    {
     "data": {
      "application/vnd.jupyter.widget-view+json": {
       "model_id": "b5a7a6111fd642c8b15bf84eb5247094",
       "version_major": 2,
       "version_minor": 0
      },
      "text/plain": [
       "  0%|          | 0/955 [00:00<?, ?it/s]"
      ]
     },
     "metadata": {},
     "output_type": "display_data"
    },
    {
     "name": "stdout",
     "output_type": "stream",
     "text": [
      "train loss :  0.01628198956389463\n",
      "val loss :  0.012688510964353193\n"
     ]
    },
    {
     "data": {
      "application/vnd.jupyter.widget-view+json": {
       "model_id": "161471f75f4143f28114e62832382b4a",
       "version_major": 2,
       "version_minor": 0
      },
      "text/plain": [
       "  0%|          | 0/2161 [00:00<?, ?it/s]"
      ]
     },
     "metadata": {},
     "output_type": "display_data"
    },
    {
     "data": {
      "application/vnd.jupyter.widget-view+json": {
       "model_id": "526ca5c82ce747a3b03a10d5278cf6e7",
       "version_major": 2,
       "version_minor": 0
      },
      "text/plain": [
       "  0%|          | 0/955 [00:00<?, ?it/s]"
      ]
     },
     "metadata": {},
     "output_type": "display_data"
    },
    {
     "name": "stdout",
     "output_type": "stream",
     "text": [
      "train loss :  0.016290977520057585\n",
      "val loss :  0.01283024232815053\n"
     ]
    },
    {
     "data": {
      "application/vnd.jupyter.widget-view+json": {
       "model_id": "c53fcf5cb83f462dac9487e07bf3bec4",
       "version_major": 2,
       "version_minor": 0
      },
      "text/plain": [
       "  0%|          | 0/2161 [00:00<?, ?it/s]"
      ]
     },
     "metadata": {},
     "output_type": "display_data"
    },
    {
     "data": {
      "application/vnd.jupyter.widget-view+json": {
       "model_id": "5dc2e6c9c97a4cf2908366c931753507",
       "version_major": 2,
       "version_minor": 0
      },
      "text/plain": [
       "  0%|          | 0/955 [00:00<?, ?it/s]"
      ]
     },
     "metadata": {},
     "output_type": "display_data"
    },
    {
     "name": "stdout",
     "output_type": "stream",
     "text": [
      "train loss :  0.016280790734001332\n",
      "val loss :  0.012631292787792485\n"
     ]
    },
    {
     "data": {
      "application/vnd.jupyter.widget-view+json": {
       "model_id": "6d01219969734f59b470ff48b3d32df3",
       "version_major": 2,
       "version_minor": 0
      },
      "text/plain": [
       "  0%|          | 0/2161 [00:00<?, ?it/s]"
      ]
     },
     "metadata": {},
     "output_type": "display_data"
    },
    {
     "data": {
      "application/vnd.jupyter.widget-view+json": {
       "model_id": "9ed132d886a54c0bbd7c7fdff5109544",
       "version_major": 2,
       "version_minor": 0
      },
      "text/plain": [
       "  0%|          | 0/955 [00:00<?, ?it/s]"
      ]
     },
     "metadata": {},
     "output_type": "display_data"
    },
    {
     "name": "stdout",
     "output_type": "stream",
     "text": [
      "train loss :  0.016288584317253142\n",
      "val loss :  0.012679644965759988\n"
     ]
    },
    {
     "data": {
      "application/vnd.jupyter.widget-view+json": {
       "model_id": "5b323066de7a41b4920d776798c379ad",
       "version_major": 2,
       "version_minor": 0
      },
      "text/plain": [
       "  0%|          | 0/2161 [00:00<?, ?it/s]"
      ]
     },
     "metadata": {},
     "output_type": "display_data"
    },
    {
     "data": {
      "application/vnd.jupyter.widget-view+json": {
       "model_id": "efa4bc042b9b4051b2dac0520e265b81",
       "version_major": 2,
       "version_minor": 0
      },
      "text/plain": [
       "  0%|          | 0/955 [00:00<?, ?it/s]"
      ]
     },
     "metadata": {},
     "output_type": "display_data"
    },
    {
     "name": "stdout",
     "output_type": "stream",
     "text": [
      "train loss :  0.016293054839371945\n",
      "val loss :  0.012928150748478667\n"
     ]
    },
    {
     "data": {
      "application/vnd.jupyter.widget-view+json": {
       "model_id": "b62d940972824b1683494d97504a96a4",
       "version_major": 2,
       "version_minor": 0
      },
      "text/plain": [
       "  0%|          | 0/2161 [00:00<?, ?it/s]"
      ]
     },
     "metadata": {},
     "output_type": "display_data"
    },
    {
     "data": {
      "application/vnd.jupyter.widget-view+json": {
       "model_id": "2a5a41ea226147e49061e2f2864cb6f2",
       "version_major": 2,
       "version_minor": 0
      },
      "text/plain": [
       "  0%|          | 0/955 [00:00<?, ?it/s]"
      ]
     },
     "metadata": {},
     "output_type": "display_data"
    },
    {
     "name": "stdout",
     "output_type": "stream",
     "text": [
      "train loss :  0.0162123630534754\n",
      "val loss :  0.01270299232847973\n"
     ]
    },
    {
     "data": {
      "application/vnd.jupyter.widget-view+json": {
       "model_id": "b3769ac32adc44108f5878bac5811c00",
       "version_major": 2,
       "version_minor": 0
      },
      "text/plain": [
       "  0%|          | 0/2161 [00:00<?, ?it/s]"
      ]
     },
     "metadata": {},
     "output_type": "display_data"
    },
    {
     "data": {
      "application/vnd.jupyter.widget-view+json": {
       "model_id": "94ebb49e62cb4fb9a992f1498087bb37",
       "version_major": 2,
       "version_minor": 0
      },
      "text/plain": [
       "  0%|          | 0/955 [00:00<?, ?it/s]"
      ]
     },
     "metadata": {},
     "output_type": "display_data"
    },
    {
     "name": "stdout",
     "output_type": "stream",
     "text": [
      "train loss :  0.01620636124258723\n",
      "val loss :  0.01266559507635342\n"
     ]
    }
   ],
   "source": [
    "train_losses = []\n",
    "val_losses = []\n",
    "model_folder = configs[\"model_folder\"]\n",
    "best_loss = 1000000\n",
    "\n",
    "for epoch in tqdm(range(configs[\"epoch\"])) :\n",
    "\n",
    "    model.train()\n",
    "\n",
    "    cur_train_loss = []\n",
    "    for input,target in tqdm(train_loader) :\n",
    "\n",
    "        close_price_input = input[:,4,:,None]\n",
    "        close_price_target = target[:,4,:]\n",
    "        close_price_input = close_price_input.to(device)\n",
    "        close_price_target = close_price_target.to(device)\n",
    "\n",
    "        if(close_price_input.shape[0] != configs[\"batch_size\"]) :\n",
    "            continue\n",
    "\n",
    "        optimizer.zero_grad()\n",
    "\n",
    "        output = model(close_price_input)\n",
    "\n",
    "        loss = loss_fn(output,close_price_target)\n",
    "\n",
    "        loss.backward()\n",
    "\n",
    "        optimizer.step()\n",
    "\n",
    "        train_losses.append(loss.to(torch.device(\"cpu\")).item())\n",
    "        cur_train_loss.append(loss.to(torch.device(\"cpu\")).item())\n",
    "\n",
    "    avarage_train_loss = np.mean(np.array(cur_train_loss))\n",
    "\n",
    "    model.eval()\n",
    "\n",
    "    with torch.no_grad() :\n",
    "        cur_val_loss = []\n",
    "        for input,target in tqdm(val_loader) :\n",
    "\n",
    "            close_price_input = input[:,4,:,None]\n",
    "            close_price_target = target[:,4,:]\n",
    "            close_price_input = close_price_input.to(device)\n",
    "            close_price_target = close_price_target.to(device)\n",
    "\n",
    "            if(close_price_input.shape[0] != configs[\"batch_size\"]) :\n",
    "                continue\n",
    "\n",
    "            output = model(close_price_input)\n",
    "\n",
    "            loss = loss_fn(output,close_price_target)\n",
    "\n",
    "            val_losses.append(loss.to(torch.device(\"cpu\")).item())\n",
    "            cur_val_loss.append(loss.to(torch.device(\"cpu\")).item())\n",
    "\n",
    "        avarage_val_loss = np.mean(np.array(cur_val_loss))\n",
    "\n",
    "        scheduler.step(avarage_val_loss)\n",
    "        \n",
    "        if(best_loss > avarage_val_loss) :\n",
    "\n",
    "            state = {\n",
    "                'epoch': epoch,\n",
    "                'model': model.state_dict(),\n",
    "                'optimizer': optimizer.state_dict(),\n",
    "                'scheduler': scheduler.state_dict(),\n",
    "                'train_loss': avarage_train_loss,\n",
    "                'val_loss': avarage_val_loss,\n",
    "                'best_val_loss': best_loss,\n",
    "            }\n",
    "\n",
    "            torch.save(state, model_folder + \"LSTM.pth.tar\")\n",
    "\n",
    "    print(\"train loss : \",avarage_train_loss)\n",
    "    print(\"val loss : \",avarage_val_loss)\n"
   ]
  },
  {
   "cell_type": "code",
   "execution_count": 33,
   "metadata": {},
   "outputs": [
    {
     "data": {
      "image/png": "[encoded data removed]",
      "text/plain": [
       "<Figure size 640x480 with 1 Axes>"
      ]
     },
     "metadata": {},
     "output_type": "display_data"
    }
   ],
   "source": [
    "plt.plot(train_losses)\n",
    "plt.plot(val_losses)\n",
    "plt.show()"
   ]
  },
  {
   "cell_type": "code",
   "execution_count": 35,
   "metadata": {},
   "outputs": [],
   "source": [
    "train_losses_file = open(configs[\"model_folder\"] + \"train_losses.txt\",'w')\n",
    "val_losses_file = open(configs[\"model_folder\"] + \"val_losses.txt\",\"w\")\n",
    "\n",
    "for value in train_losses :\n",
    "    train_losses_file.write(f\"{value}\\n\")\n",
    "\n",
    "for value in val_losses :\n",
    "    val_losses_file.write(f\"{value}\\n\")\n",
    "\n",
    "train_losses_file.close()\n",
    "val_losses_file.close()"
   ]
  },
  {
   "cell_type": "code",
   "execution_count": 13,
   "metadata": {},
   "outputs": [
    {
     "data": {
      "application/vnd.jupyter.widget-view+json": {
       "model_id": "4dd0867e40fd4b089ca79d1c25595039",
       "version_major": 2,
       "version_minor": 0
      },
      "text/plain": [
       "  0%|          | 0/718 [00:00<?, ?it/s]"
      ]
     },
     "metadata": {},
     "output_type": "display_data"
    },
    {
     "name": "stdout",
     "output_type": "stream",
     "text": [
      "0.013961459273625701\n"
     ]
    }
   ],
   "source": [
    "best_model = StockLSTM()\n",
    "best_model.load_state_dict(torch.load(configs[\"model_folder\"] + \"LSTM.pth.tar\")['model'])\n",
    "\n",
    "best_model.to(device)\n",
    "best_model.eval()\n",
    "\n",
    "with torch.no_grad() :\n",
    "    cur_test_loss = []\n",
    "    for input,target in tqdm(test_loader) :\n",
    "\n",
    "        close_price_input = input[:,4,:,None]\n",
    "        close_price_target = target[:,4,:]\n",
    "        close_price_input = close_price_input.to(device)\n",
    "        close_price_target = close_price_target.to(device)\n",
    "\n",
    "        if(close_price_input.shape[0] != configs[\"batch_size\"]) :\n",
    "            continue\n",
    "\n",
    "        output = best_model(close_price_input)\n",
    "\n",
    "        loss = loss_fn(output,close_price_target)\n",
    "\n",
    "        cur_test_loss.append(loss.to(torch.device(\"cpu\")).item())\n",
    "\n",
    "    avarage_test_loss = np.mean(np.array(cur_test_loss))\n",
    "\n",
    "print(avarage_test_loss)"
   ]
  }
 ],
 "metadata": {
  "kernelspec": {
   "display_name": "Python 3",
   "language": "python",
   "name": "python3"
  },
  "language_info": {
   "codemirror_mode": {
    "name": "ipython",
    "version": 3
   },
   "file_extension": ".py",
   "mimetype": "text/x-python",
   "name": "python",
   "nbconvert_exporter": "python",
   "pygments_lexer": "ipython3",
   "version": "3.12.1"
  }
 },
 "nbformat": 4,
 "nbformat_minor": 2
}
