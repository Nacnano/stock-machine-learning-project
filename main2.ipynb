{
 "cells": [
  {
   "cell_type": "code",
   "execution_count": 1,
   "metadata": {},
   "outputs": [],
   "source": [
    "# import warnings\n",
    "# warnings.filterwarnings('ignore')\n",
    "\n",
    "import os\n",
    "import yfinance as yf\n",
    "import pandas as pd\n",
    "import numpy as np\n",
    "import matplotlib.pyplot as plt\n",
    "\n",
    "# Technical Analysis\n",
    "from talib import RSI, BBANDS, ATR, NATR, MACD\n",
    "\n",
    "# scikit-learn\n",
    "from sklearn.linear_model import LinearRegression, LogisticRegression\n",
    "from sklearn.svm import SVR\n",
    "from sklearn.ensemble import RandomForestRegressor\n",
    "from sklearn.metrics import mean_absolute_error, mean_squared_error\n",
    "\n",
    "# neural network\n",
    "from tqdm import tqdm\n",
    "import torch\n",
    "import torch.nn as nn\n",
    "  # our model\n",
    "from LSTM import LSTM"
   ]
  },
  {
   "cell_type": "markdown",
   "metadata": {},
   "source": [
    "# Data Preprocessing"
   ]
  },
  {
   "cell_type": "code",
   "execution_count": 2,
   "metadata": {},
   "outputs": [],
   "source": [
    "# def read_tickers_sp500(file_path):\n",
    "#     with open(file_path, 'r') as file:\n",
    "#         tickers_sp500 = [line.strip() for line in file]\n",
    "#     return tickers_sp500\n",
    "\n",
    "# tickers_sp500 = read_tickers_sp500('tickers_sp500.txt')\n",
    "# print(tickers_sp500)"
   ]
  },
  {
   "cell_type": "code",
   "execution_count": 3,
   "metadata": {},
   "outputs": [
    {
     "name": "stderr",
     "output_type": "stream",
     "text": [
      "[*********************100%%**********************]  8 of 8 completed\n"
     ]
    }
   ],
   "source": [
    "# Download data\n",
    "\n",
    "# Stocks list\n",
    "# top 7 MarketCap in S&P500(^GSPC)\n",
    "tickers = ['^GSPC', 'AAPL', 'MSFT', 'AMZN', 'NVDA', 'GOOGL', 'TSLA', 'META']\n",
    "# tickers = tickers_sp500\n",
    "start_date = None\n",
    "end_date = None\n",
    "\n",
    "df_prices_download = yf.download(tickers=tickers, start=start_date, end=end_date, group_by='ticker')"
   ]
  },
  {
   "cell_type": "code",
   "execution_count": 4,
   "metadata": {},
   "outputs": [
    {
     "name": "stderr",
     "output_type": "stream",
     "text": [
      "/var/folders/m6/fz_qjnl51s70hy69d_st2z240000gn/T/ipykernel_49584/4093512458.py:5: FutureWarning: The previous implementation of stack is deprecated and will be removed in a future version of pandas. See the What's New notes for pandas 2.1.0 for details. Specify future_stack=True to adopt the new implementation and silence this warning.\n",
      "  df_prices = df_prices_download.stack(level=0, dropna=False)\n"
     ]
    },
    {
     "data": {
      "text/html": [
       "<div>\n",
       "<style scoped>\n",
       "    .dataframe tbody tr th:only-of-type {\n",
       "        vertical-align: middle;\n",
       "    }\n",
       "\n",
       "    .dataframe tbody tr th {\n",
       "        vertical-align: top;\n",
       "    }\n",
       "\n",
       "    .dataframe thead th {\n",
       "        text-align: right;\n",
       "    }\n",
       "</style>\n",
       "<table border=\"1\" class=\"dataframe\">\n",
       "  <thead>\n",
       "    <tr style=\"text-align: right;\">\n",
       "      <th></th>\n",
       "      <th>Price</th>\n",
       "      <th>Open</th>\n",
       "      <th>High</th>\n",
       "      <th>Low</th>\n",
       "      <th>Close</th>\n",
       "      <th>Volume</th>\n",
       "    </tr>\n",
       "    <tr>\n",
       "      <th>Ticker</th>\n",
       "      <th>Date</th>\n",
       "      <th></th>\n",
       "      <th></th>\n",
       "      <th></th>\n",
       "      <th></th>\n",
       "      <th></th>\n",
       "    </tr>\n",
       "  </thead>\n",
       "  <tbody>\n",
       "    <tr>\n",
       "      <th rowspan=\"5\" valign=\"top\">AAPL</th>\n",
       "      <th>1980-12-12</th>\n",
       "      <td>0.128348</td>\n",
       "      <td>0.128906</td>\n",
       "      <td>0.128348</td>\n",
       "      <td>0.099192</td>\n",
       "      <td>4.690336e+08</td>\n",
       "    </tr>\n",
       "    <tr>\n",
       "      <th>1980-12-15</th>\n",
       "      <td>0.122210</td>\n",
       "      <td>0.122210</td>\n",
       "      <td>0.121652</td>\n",
       "      <td>0.094017</td>\n",
       "      <td>1.758848e+08</td>\n",
       "    </tr>\n",
       "    <tr>\n",
       "      <th>1980-12-16</th>\n",
       "      <td>0.113281</td>\n",
       "      <td>0.113281</td>\n",
       "      <td>0.112723</td>\n",
       "      <td>0.087117</td>\n",
       "      <td>1.057280e+08</td>\n",
       "    </tr>\n",
       "    <tr>\n",
       "      <th>1980-12-17</th>\n",
       "      <td>0.115513</td>\n",
       "      <td>0.116071</td>\n",
       "      <td>0.115513</td>\n",
       "      <td>0.089273</td>\n",
       "      <td>8.644160e+07</td>\n",
       "    </tr>\n",
       "    <tr>\n",
       "      <th>1980-12-18</th>\n",
       "      <td>0.118862</td>\n",
       "      <td>0.119420</td>\n",
       "      <td>0.118862</td>\n",
       "      <td>0.091861</td>\n",
       "      <td>7.344960e+07</td>\n",
       "    </tr>\n",
       "    <tr>\n",
       "      <th>...</th>\n",
       "      <th>...</th>\n",
       "      <td>...</td>\n",
       "      <td>...</td>\n",
       "      <td>...</td>\n",
       "      <td>...</td>\n",
       "      <td>...</td>\n",
       "    </tr>\n",
       "    <tr>\n",
       "      <th rowspan=\"5\" valign=\"top\">^GSPC</th>\n",
       "      <th>2024-05-03</th>\n",
       "      <td>5122.779785</td>\n",
       "      <td>5139.120117</td>\n",
       "      <td>5101.220215</td>\n",
       "      <td>5127.790039</td>\n",
       "      <td>3.924990e+09</td>\n",
       "    </tr>\n",
       "    <tr>\n",
       "      <th>2024-05-06</th>\n",
       "      <td>5142.419922</td>\n",
       "      <td>5181.000000</td>\n",
       "      <td>5142.419922</td>\n",
       "      <td>5180.740234</td>\n",
       "      <td>3.683250e+09</td>\n",
       "    </tr>\n",
       "    <tr>\n",
       "      <th>2024-05-07</th>\n",
       "      <td>5187.200195</td>\n",
       "      <td>5200.229980</td>\n",
       "      <td>5178.959961</td>\n",
       "      <td>5187.700195</td>\n",
       "      <td>3.987890e+09</td>\n",
       "    </tr>\n",
       "    <tr>\n",
       "      <th>2024-05-08</th>\n",
       "      <td>5168.979980</td>\n",
       "      <td>5191.950195</td>\n",
       "      <td>5165.859863</td>\n",
       "      <td>5187.669922</td>\n",
       "      <td>3.842100e+09</td>\n",
       "    </tr>\n",
       "    <tr>\n",
       "      <th>2024-05-09</th>\n",
       "      <td>5189.029785</td>\n",
       "      <td>5209.779785</td>\n",
       "      <td>5180.410156</td>\n",
       "      <td>5205.279785</td>\n",
       "      <td>1.031058e+09</td>\n",
       "    </tr>\n",
       "  </tbody>\n",
       "</table>\n",
       "<p>69388 rows × 5 columns</p>\n",
       "</div>"
      ],
      "text/plain": [
       "Price                     Open         High          Low        Close  \\\n",
       "Ticker Date                                                             \n",
       "AAPL   1980-12-12     0.128348     0.128906     0.128348     0.099192   \n",
       "       1980-12-15     0.122210     0.122210     0.121652     0.094017   \n",
       "       1980-12-16     0.113281     0.113281     0.112723     0.087117   \n",
       "       1980-12-17     0.115513     0.116071     0.115513     0.089273   \n",
       "       1980-12-18     0.118862     0.119420     0.118862     0.091861   \n",
       "...                        ...          ...          ...          ...   \n",
       "^GSPC  2024-05-03  5122.779785  5139.120117  5101.220215  5127.790039   \n",
       "       2024-05-06  5142.419922  5181.000000  5142.419922  5180.740234   \n",
       "       2024-05-07  5187.200195  5200.229980  5178.959961  5187.700195   \n",
       "       2024-05-08  5168.979980  5191.950195  5165.859863  5187.669922   \n",
       "       2024-05-09  5189.029785  5209.779785  5180.410156  5205.279785   \n",
       "\n",
       "Price                    Volume  \n",
       "Ticker Date                      \n",
       "AAPL   1980-12-12  4.690336e+08  \n",
       "       1980-12-15  1.758848e+08  \n",
       "       1980-12-16  1.057280e+08  \n",
       "       1980-12-17  8.644160e+07  \n",
       "       1980-12-18  7.344960e+07  \n",
       "...                         ...  \n",
       "^GSPC  2024-05-03  3.924990e+09  \n",
       "       2024-05-06  3.683250e+09  \n",
       "       2024-05-07  3.987890e+09  \n",
       "       2024-05-08  3.842100e+09  \n",
       "       2024-05-09  1.031058e+09  \n",
       "\n",
       "[69388 rows x 5 columns]"
      ]
     },
     "execution_count": 4,
     "metadata": {},
     "output_type": "execute_result"
    }
   ],
   "source": [
    "# Format into large table\n",
    "# col: OHLCV\n",
    "# rows(multi-index): Ticker, Date\n",
    "\n",
    "df_prices = df_prices_download.stack(level=0, dropna=False)\n",
    "df_prices = df_prices.swaplevel(0, 1)\n",
    "df_prices = df_prices.loc[tickers].sort_index(level='Ticker')\n",
    "df_prices.dropna(inplace=True)\n",
    "\n",
    "# Use 'Adj Close' instead of 'Close'\n",
    "df_prices.drop('Close', axis=1, inplace=True)\n",
    "df_prices.rename(columns={'Adj Close': 'Close'}, inplace=True)\n",
    "\n",
    "df_prices"
   ]
  },
  {
   "cell_type": "markdown",
   "metadata": {},
   "source": [
    "### Remove stocks with less than 10 years of data"
   ]
  },
  {
   "cell_type": "code",
   "execution_count": 5,
   "metadata": {},
   "outputs": [
    {
     "name": "stdout",
     "output_type": "stream",
     "text": [
      "Amount tickers_to_drop: 0\n"
     ]
    }
   ],
   "source": [
    "min_obs_days = 10 * 252 # NYSE and NASDAQ average 252 trading days a year\n",
    "num_obs = df_prices.groupby(level='Ticker').size()\n",
    "\n",
    "tickers_to_drop = num_obs[num_obs < min_obs_days].index\n",
    "print(f'Amount tickers_to_drop: {tickers_to_drop.size}')\n",
    "\n",
    "df_prices.drop(tickers_to_drop, level='Ticker', inplace=True)"
   ]
  },
  {
   "cell_type": "markdown",
   "metadata": {},
   "source": [
    "# Feature Engineering"
   ]
  },
  {
   "cell_type": "markdown",
   "metadata": {},
   "source": [
    "### RSI - Relative Strength Index\n",
    "RSI compares the magnitude of recent price changes across stocks to identify stocks as overbought or oversold."
   ]
  },
  {
   "cell_type": "code",
   "execution_count": 8,
   "metadata": {},
   "outputs": [],
   "source": [
    "rsi = df_prices.groupby(level='Ticker', group_keys=False).Close.apply(RSI)\n",
    "df_prices['RSI'] = rsi"
   ]
  },
  {
   "cell_type": "markdown",
   "metadata": {},
   "source": [
    "### Bollinger Bands\n",
    "Bollinger Bands is a technical analysis tool used to determine where prices are high and low relative to each other."
   ]
  },
  {
   "cell_type": "code",
   "execution_count": 9,
   "metadata": {},
   "outputs": [],
   "source": [
    "def compute_bb(close):\n",
    "    high, mid, low = BBANDS(np.log1p(close), timeperiod=20)\n",
    "    return pd.DataFrame({'BB_High': high,\n",
    "                         'BB_Mid': mid, # SMA20\n",
    "                         'BB_Low': low},\n",
    "                        index=close.index)\n",
    "\n",
    "bbands = df_prices.groupby(level='Ticker', group_keys=False).Close.apply(compute_bb)\n",
    "df_prices = pd.concat([df_prices, bbands], axis=1)"
   ]
  },
  {
   "cell_type": "markdown",
   "metadata": {},
   "source": [
    "### ATR - Average True Range\n",
    "The average true range (ATR) indicator shows the volatility of the market."
   ]
  },
  {
   "cell_type": "code",
   "execution_count": 10,
   "metadata": {},
   "outputs": [],
   "source": [
    "by_ticker = df_prices.groupby('Ticker', group_keys=False)\n",
    "\n",
    "def compute_atr(stock_data):\n",
    "    atr = ATR(stock_data.High,\n",
    "              stock_data.Low,\n",
    "              stock_data.Close,\n",
    "              timeperiod=14)\n",
    "    return atr.sub(atr.mean()).div(atr.std())\n",
    "\n",
    "df_prices['ATR'] = by_ticker.apply(compute_atr)\n",
    "# Normalized Average True Range (NATR)\n",
    "df_prices['NATR'] = by_ticker.apply(lambda x: NATR(high=x.High, low=x.Low, close=x.Close))"
   ]
  },
  {
   "cell_type": "markdown",
   "metadata": {},
   "source": [
    "### MACD - Moving Average Convergence/Divergence"
   ]
  },
  {
   "cell_type": "code",
   "execution_count": 11,
   "metadata": {},
   "outputs": [],
   "source": [
    "def compute_macd(close):\n",
    "    macd = MACD(close)[0]\n",
    "    return macd.sub(macd.mean()).div(macd.std())\n",
    "\n",
    "df_prices['MACD'] = df_prices.groupby(level='Ticker', group_keys=False).Close.apply(compute_macd)"
   ]
  },
  {
   "cell_type": "markdown",
   "metadata": {},
   "source": [
    "## Determine Investment Universe"
   ]
  },
  {
   "cell_type": "markdown",
   "metadata": {},
   "source": [
    "### Dollar Volume"
   ]
  },
  {
   "cell_type": "code",
   "execution_count": null,
   "metadata": {},
   "outputs": [],
   "source": [
    "# Close: USD\n",
    "# Volumn: Amount\n",
    "df_prices['Dollar_Volume'] = (df_prices.loc[:, 'Close']\n",
    "                           .mul(df_prices.loc[:, 'Volume'], axis=0))\n",
    "\n",
    "df_prices.Dollar_Volume /= 1e6 # Dollar_Volume: Million USD"
   ]
  },
  {
   "cell_type": "markdown",
   "metadata": {},
   "source": [
    "### Resample Monthly Freq."
   ]
  },
  {
   "cell_type": "code",
   "execution_count": null,
   "metadata": {},
   "outputs": [],
   "source": [
    "..."
   ]
  },
  {
   "cell_type": "markdown",
   "metadata": {},
   "source": [
    "### Select 10 most-traded equities\n",
    "Select the 10 most-traded stocks based on a 5-year rolling average of dollar volume."
   ]
  },
  {
   "cell_type": "code",
   "execution_count": null,
   "metadata": {},
   "outputs": [
    {
     "name": "stdout",
     "output_type": "stream",
     "text": [
      "Index(['AAPL', 'AMZN', 'GOOGL', 'META', 'MSFT', 'NVDA', 'TSLA', '^GSPC'], dtype='object', name='Ticker')\n"
     ]
    }
   ],
   "source": [
    "df_prices['Dollar_Volume'] = (df_prices.loc[:, 'Dollar_Volume']\n",
    "                         .unstack('Ticker')\n",
    "                         .rolling(window=5*12, min_periods=12)\n",
    "                         .mean()\n",
    "                         .stack()\n",
    "                         .swaplevel())\n",
    "\n",
    "df_prices['Dollar_Volume_Rank'] = (df_prices\n",
    "                           .groupby('Date')\n",
    "                           .Dollar_Volume\n",
    "                           .rank(ascending=False))\n",
    "\n",
    "df_prices = df_prices[df_prices.Dollar_Volume_Rank < 10].drop(['Dollar_Volume', 'Dollar_Volume_Rank'], axis=1)\n",
    "print(df_prices.index.unique('Ticker'))"
   ]
  },
  {
   "cell_type": "markdown",
   "metadata": {},
   "source": [
    "## Monthly Return"
   ]
  },
  {
   "cell_type": "code",
   "execution_count": 13,
   "metadata": {},
   "outputs": [
    {
     "name": "stdout",
     "output_type": "stream",
     "text": [
      "<class 'pandas.core.frame.DataFrame'>\n",
      "MultiIndex: 69294 entries, ('^GSPC', Timestamp('1928-01-18 00:00:00')) to ('^GSPC', Timestamp('2024-05-09 00:00:00'))\n",
      "Data columns (total 4 columns):\n",
      " #   Column      Non-Null Count  Dtype  \n",
      "---  ------      --------------  -----  \n",
      " 0   return_1m   69294 non-null  float64\n",
      " 1   return_3m   69278 non-null  float64\n",
      " 2   return_6m   69254 non-null  float64\n",
      " 3   return_12m  69206 non-null  float64\n",
      "dtypes: float64(4)\n",
      "memory usage: 3.0+ MB\n"
     ]
    },
    {
     "name": "stderr",
     "output_type": "stream",
     "text": [
      "/var/folders/m6/fz_qjnl51s70hy69d_st2z240000gn/T/ipykernel_49584/1092318962.py:6: FutureWarning: The default fill_method='pad' in DataFrame.pct_change is deprecated and will be removed in a future version. Either fill in any non-leading NA values prior to calling pct_change or specify 'fill_method=None' to not fill NA values.\n",
      "  returns.append(df_prices\n",
      "/var/folders/m6/fz_qjnl51s70hy69d_st2z240000gn/T/ipykernel_49584/1092318962.py:6: FutureWarning: The default fill_method='pad' in DataFrame.pct_change is deprecated and will be removed in a future version. Either fill in any non-leading NA values prior to calling pct_change or specify 'fill_method=None' to not fill NA values.\n",
      "  returns.append(df_prices\n",
      "/var/folders/m6/fz_qjnl51s70hy69d_st2z240000gn/T/ipykernel_49584/1092318962.py:6: FutureWarning: The default fill_method='pad' in DataFrame.pct_change is deprecated and will be removed in a future version. Either fill in any non-leading NA values prior to calling pct_change or specify 'fill_method=None' to not fill NA values.\n",
      "  returns.append(df_prices\n",
      "/var/folders/m6/fz_qjnl51s70hy69d_st2z240000gn/T/ipykernel_49584/1092318962.py:6: FutureWarning: The default fill_method='pad' in DataFrame.pct_change is deprecated and will be removed in a future version. Either fill in any non-leading NA values prior to calling pct_change or specify 'fill_method=None' to not fill NA values.\n",
      "  returns.append(df_prices\n"
     ]
    }
   ],
   "source": [
    "# outlier_cutoff = 0.01\n",
    "# lags = [1, 3, 6, 12]\n",
    "# returns = []\n",
    "\n",
    "# for lag in lags:\n",
    "#     returns.append(df_prices\n",
    "#                    .Close\n",
    "#                    .unstack('Ticker')\n",
    "#                    .sort_index()\n",
    "#                    .pct_change(lag)\n",
    "#                    .stack('Ticker')\n",
    "#                    .pipe(lambda x: x.clip(lower=x.quantile(outlier_cutoff),\n",
    "#                                           upper=x.quantile(1-outlier_cutoff)))\n",
    "#                    .add(1)\n",
    "#                    .pow(1/lag)\n",
    "#                    .sub(1)\n",
    "#                    .to_frame(f'return_{lag}m')\n",
    "#                    )\n",
    "\n",
    "# returns = pd.concat(returns, axis=1).swaplevel()\n",
    "# returns.info()"
   ]
  },
  {
   "cell_type": "code",
   "execution_count": null,
   "metadata": {},
   "outputs": [
    {
     "ename": "SyntaxError",
     "evalue": "invalid syntax (2389114725.py, line 1)",
     "output_type": "error",
     "traceback": [
      "\u001b[0;36m  Cell \u001b[0;32mIn[12], line 1\u001b[0;36m\u001b[0m\n\u001b[0;31m    assert\u001b[0m\n\u001b[0m          ^\u001b[0m\n\u001b[0;31mSyntaxError\u001b[0m\u001b[0;31m:\u001b[0m invalid syntax\n"
     ]
    }
   ],
   "source": [
    "assert"
   ]
  },
  {
   "cell_type": "markdown",
   "metadata": {},
   "source": [
    "# Model"
   ]
  },
  {
   "cell_type": "code",
   "execution_count": null,
   "metadata": {},
   "outputs": [],
   "source": [
    "df_to_model = df_prices"
   ]
  },
  {
   "cell_type": "code",
   "execution_count": null,
   "metadata": {},
   "outputs": [],
   "source": [
    "df_to_model"
   ]
  },
  {
   "cell_type": "code",
   "execution_count": null,
   "metadata": {},
   "outputs": [],
   "source": [
    "Ntest = 1000\n",
    "df_train = df_to_model.iloc[1:-Ntest]\n",
    "df_test = df_to_model.iloc[-Ntest:-1]\n",
    "\n",
    "X_train = df_train.drop(columns=['^GSPC_log_return'])\n",
    "X_test = df_test.drop(columns=['^GSPC_log_return'])\n",
    "\n",
    "y_train = df_train['^GSPC_log_return']\n",
    "y_test = df_test['^GSPC_log_return']"
   ]
  },
  {
   "cell_type": "markdown",
   "metadata": {},
   "source": [
    "## Train Model"
   ]
  },
  {
   "cell_type": "code",
   "execution_count": null,
   "metadata": {},
   "outputs": [],
   "source": [
    "if torch.cuda.is_available():\n",
    "    # Nvidia CUDA\n",
    "    device = torch.device(\"cuda\")\n",
    "elif torch.backends.mps.is_available():\n",
    "    # Apple Metal\n",
    "    device = torch.device(\"mps\")\n",
    "else:\n",
    "    device = torch.device(\"cpu\")\n",
    "\n",
    "print(f'Device: {device}')"
   ]
  },
  {
   "cell_type": "code",
   "execution_count": null,
   "metadata": {},
   "outputs": [],
   "source": [
    "naive_model = None\n",
    "linear_model = LinearRegression()\n",
    "# logistic_model = LogisticRegression()\n",
    "svr_model = SVR()\n",
    "rfr_model = RandomForestRegressor()\n",
    "lstm_model = LSTM()\n",
    "\n",
    "models = {\n",
    "    'NaiveForecast': naive_model,\n",
    "    'LinearRegression': linear_model,\n",
    "    # 'LogisticRegression': logistic_model,\n",
    "    'SVR': svr_model,\n",
    "    'RFR': rfr_model,\n",
    "    'LSTM': lstm_model\n",
    "}"
   ]
  },
  {
   "cell_type": "code",
   "execution_count": null,
   "metadata": {},
   "outputs": [],
   "source": [
    "results = {}\n",
    "\n",
    "for name, model in models.items():\n",
    "    print(\"Training: \", name)\n",
    "\n",
    "    if name == 'NaiveForecast':\n",
    "        y_pred_test = y_test.shift(1).fillna(y_test.iloc[0]) # Backward Filling\n",
    "        y_pred_train = y_train.shift(1).fillna(y_train.iloc[0])\n",
    "    elif name == 'LSTM':\n",
    "        X_train_tensor = torch.tensor(X_train.values, dtype=torch.float32)\n",
    "        X_test_tensor = torch.tensor(X_test.values, dtype=torch.float32)\n",
    "        y_train_tensor = torch.tensor(y_train.values, dtype=torch.float32)\n",
    "        y_test_tensor = torch.tensor(y_test.values, dtype=torch.float32)\n",
    "\n",
    "        train_data = torch.utils.data.TensorDataset(X_train_tensor, y_train_tensor)\n",
    "        train_loader = torch.utils.data.DataLoader(train_data, batch_size=32, shuffle=True)\n",
    "\n",
    "        loss_function = nn.MSELoss()\n",
    "        optimizer = torch.optim.Adam(model.parameters(), lr=0.001)\n",
    "\n",
    "        epochs = 30\n",
    "\n",
    "        model.to(device)\n",
    "        model.train()\n",
    "\n",
    "        for i in tqdm(range(epochs), desc='LSTM'):\n",
    "            total_loss = 0\n",
    "            for batch_X, batch_y in train_loader:\n",
    "                batch_X = batch_X[:,:,None].to(device)\n",
    "                batch_y = batch_y[:,None].to(device)\n",
    "\n",
    "                optimizer.zero_grad()\n",
    "                model.reset_hidden_state()\n",
    "                y_pred = model(batch_X)\n",
    "\n",
    "                loss = loss_function(y_pred, batch_y)\n",
    "                loss.backward()\n",
    "                optimizer.step()\n",
    "\n",
    "                total_loss += loss.to(torch.device('cpu')).item()\n",
    "\n",
    "        model.eval()\n",
    "\n",
    "        with torch.no_grad():\n",
    "            X_test_tensor = X_test_tensor[:,:,None].to(device)\n",
    "            y_pred_test = model(X_test_tensor)\n",
    "            y_pred_test = y_pred_test.to(torch.device('cpu')).numpy().reshape(-1)\n",
    "    else:\n",
    "        if name == 'LogisticRegression':\n",
    "            y_train_bool = (y_train > 0) # Continuos -> Discrete(bool)\n",
    "            model.fit(X_train, y_train_bool)\n",
    "        else:\n",
    "            model.fit(X_train, y_train)\n",
    "\n",
    "        y_pred_test = model.predict(X_test)\n",
    "\n",
    "    mae = mean_absolute_error(y_true=y_test, y_pred=y_pred_test)\n",
    "    mse = mean_squared_error(y_true=y_test, y_pred=y_pred_test)\n",
    "    rmse = np.sqrt(mse)\n",
    "    direction = ( np.mean(np.sign(y_pred_test) == np.sign(y_test)) )\n",
    "\n",
    "\n",
    "    results[name] = {\n",
    "        'model': model,\n",
    "        'y_pred_test': y_pred_test,\n",
    "        'mae': mae,\n",
    "        'mse': mse,\n",
    "        'rmse': rmse,\n",
    "        'direction': direction\n",
    "    }"
   ]
  },
  {
   "cell_type": "code",
   "execution_count": null,
   "metadata": {},
   "outputs": [],
   "source": [
    "for name, metrics in results.items():\n",
    "    print(f\"Model: {name}\")\n",
    "    print(f\"MAE: {metrics['mae']:.4f}\")\n",
    "    print(f\"MSE: {metrics['mse']:.4f}\")\n",
    "    print(f\"RMSE: {metrics['rmse']:.4f}\")\n",
    "    print(f\"direction: {metrics['direction']:.4f}\")\n",
    "\n",
    "    plt.figure(figsize=(21, 9))\n",
    "    plt.plot(y_test.index, y_test, label='Actual', marker='o')\n",
    "    plt.plot(y_test.index, metrics['y_pred_test'], label='Predicted', marker='x')\n",
    "    plt.xlabel('Date')\n",
    "    plt.ylabel('^GSPC_log_return')\n",
    "    plt.title(f'Actual vs Predicted ^GSPC_log_return ({name})')\n",
    "    plt.legend()\n",
    "    plt.show()"
   ]
  },
  {
   "cell_type": "markdown",
   "metadata": {},
   "source": [
    "# Trading"
   ]
  },
  {
   "cell_type": "markdown",
   "metadata": {},
   "source": [
    "Strategy\n",
    "- Position (Buy/Sell/do nothing) base on predicted '(log)return' of the next day\n",
    "    - return > 0 : buy\n",
    "    - return = 0 : do nothing\n",
    "    - return < 0 : sell\n",
    "- buy/sell all of portfolio in each transaction\n",
    "- no short position"
   ]
  },
  {
   "cell_type": "code",
   "execution_count": null,
   "metadata": {},
   "outputs": [],
   "source": [
    "df_trading = pd.DataFrame() # on test set\n",
    "df_trading['^GSPC_log_return'] = y_test\n",
    "\n",
    "for model_name in models:\n",
    "    pred_log_return = results[model_name]['y_pred_test']\n",
    "    position = ( pred_log_return > 0 ) # 1: Buy, 0: Sell\n",
    "    model_log_return = position * df_trading['^GSPC_log_return']\n",
    "    df_trading[model_name + '_log_return'] = model_log_return\n",
    "\n",
    "df_trading"
   ]
  },
  {
   "cell_type": "code",
   "execution_count": null,
   "metadata": {},
   "outputs": [],
   "source": [
    "df_trading.index = pd.to_datetime(df_trading.index)\n",
    "\n",
    "total_days = (df_trading.index[-1] - df_trading.index[0]).days\n",
    "years = total_days // 365\n",
    "months = (total_days % 365) // 30"
   ]
  },
  {
   "cell_type": "code",
   "execution_count": null,
   "metadata": {},
   "outputs": [],
   "source": [
    "buy_and_hold_total_return = np.exp(y_test.sum())\n",
    "\n",
    "print(f'Total(Gross) Return ({years} years {months} months)')\n",
    "print('----------')\n",
    "print(f'Buy & Hold (since {(df_trading.index[0]).date()}): {buy_and_hold_total_return *100:.2f}%')\n",
    "for model_name in models:\n",
    "    total_return = np.exp(df_trading[model_name + '_log_return'].sum())\n",
    "    print(f'{model_name}: {total_return *100:.2f}%')\n",
    "\n",
    "print(f'\\nNet Return ({years} years {months} months)')\n",
    "print('----------')\n",
    "print(f'Buy & Hold (since {(df_trading.index[0]).date()}): {(buy_and_hold_total_return-1) *100:.2f}%')\n",
    "for model_name in models:\n",
    "    total_return = np.exp(df_trading[model_name + '_log_return'].sum())\n",
    "    print(f'{model_name}: {(total_return-1) *100:.2f}%')\n",
    "\n",
    "print(f'\\nNet Return (per year)')\n",
    "print('----------')\n",
    "print(f'Buy & Hold (since {(df_trading.index[0]).date()}): {(buy_and_hold_total_return-1)/total_days*365 *100:.2f}%')\n",
    "for model_name in models:\n",
    "    total_return = np.exp(df_trading[model_name + '_log_return'].sum())\n",
    "    print(f'{model_name}: {(total_return-1)/total_days*365 *100:.2f}%')"
   ]
  }
 ],
 "metadata": {
  "kernelspec": {
   "display_name": "datascience",
   "language": "python",
   "name": "python3"
  },
  "language_info": {
   "codemirror_mode": {
    "name": "ipython",
    "version": 3
   },
   "file_extension": ".py",
   "mimetype": "text/x-python",
   "name": "python",
   "nbconvert_exporter": "python",
   "pygments_lexer": "ipython3",
   "version": "3.9.7"
  }
 },
 "nbformat": 4,
 "nbformat_minor": 2
}
