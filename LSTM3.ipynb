{
 "cells": [
  {
   "cell_type": "code",
   "execution_count": 1,
   "metadata": {},
   "outputs": [],
   "source": [
    "#!nvidia-smi"
   ]
  },
  {
   "cell_type": "code",
   "execution_count": 2,
   "metadata": {},
   "outputs": [],
   "source": [
    "import torch\n",
    "from torch import nn\n",
    "from torch.utils.data import DataLoader\n",
    "import torch.nn.functional as F\n",
    "from torchsummary import summary\n",
    "\n",
    "from DatasetLogReturn import StockDatasetLogReturn\n",
    "from tqdm.notebook import tqdm\n",
    "\n",
    "from sklearn.model_selection import train_test_split\n",
    "\n",
    "import math\n",
    "import numpy as np\n",
    "import pandas as pd\n",
    "import random as rd\n",
    "import matplotlib.pyplot as plt"
   ]
  },
  {
   "cell_type": "code",
   "execution_count": 3,
   "metadata": {},
   "outputs": [],
   "source": [
    "configs = {\n",
    "    \"batch_size\" : 32,\n",
    "    \"max_file_count\" : 2179,\n",
    "    \"train_file\" : 10,\n",
    "    \"validation_file\" : 3,\n",
    "    \"test_file\" : 3,\n",
    "    \"input_size\" : 8,\n",
    "    \"output_size\" : 1,\n",
    "    \"init_learning_rate\" : 1e-4,\n",
    "    \"scheduler_factor\": 0.5,\n",
    "    \"scheduler_patience\": 2,\n",
    "    \"scheduler_min_lr\": 3e-6,\n",
    "    \"epoch\" : 10,\n",
    "    \"model_name\" : \"LSTM2\",\n",
    "}\n",
    "\n",
    "configs[\"file_count\"] = configs[\"train_file\"] + configs[\"validation_file\"] + configs[\"test_file\"]\n",
    "configs[\"model_folder\"] = f\"./models/{configs[\"model_name\"]}/\"\n",
    "\n",
    "device = torch.device(\"cuda\" if torch.cuda.is_available() else \"cpu\")"
   ]
  },
  {
   "cell_type": "code",
   "execution_count": 4,
   "metadata": {},
   "outputs": [
    {
     "data": {
      "application/vnd.jupyter.widget-view+json": {
       "model_id": "d60180fa09664bd39a2ae04f474dc600",
       "version_major": 2,
       "version_minor": 0
      },
      "text/plain": [
       "  0%|          | 0/10 [00:00<?, ?it/s]"
      ]
     },
     "metadata": {},
     "output_type": "display_data"
    },
    {
     "data": {
      "application/vnd.jupyter.widget-view+json": {
       "model_id": "c61f313596c54fcf87480ac0c11b5a37",
       "version_major": 2,
       "version_minor": 0
      },
      "text/plain": [
       "  0%|          | 0/75530 [00:00<?, ?it/s]"
      ]
     },
     "metadata": {},
     "output_type": "display_data"
    },
    {
     "name": "stderr",
     "output_type": "stream",
     "text": [
      "d:\\Programming\\Pattern_Reg_Final\\DatasetLogReturn.py:48: RuntimeWarning: divide by zero encountered in log\n",
      "  c = np.log(b)\n"
     ]
    },
    {
     "data": {
      "application/vnd.jupyter.widget-view+json": {
       "model_id": "fd7faec0bf7f4a6884b5a940a434a55a",
       "version_major": 2,
       "version_minor": 0
      },
      "text/plain": [
       "  0%|          | 0/3 [00:00<?, ?it/s]"
      ]
     },
     "metadata": {},
     "output_type": "display_data"
    },
    {
     "data": {
      "application/vnd.jupyter.widget-view+json": {
       "model_id": "15e6e0c46bcb4af89c938be78d647871",
       "version_major": 2,
       "version_minor": 0
      },
      "text/plain": [
       "  0%|          | 0/30321 [00:00<?, ?it/s]"
      ]
     },
     "metadata": {},
     "output_type": "display_data"
    },
    {
     "data": {
      "application/vnd.jupyter.widget-view+json": {
       "model_id": "924f7767ba524e098d348c1f9b34ac5b",
       "version_major": 2,
       "version_minor": 0
      },
      "text/plain": [
       "  0%|          | 0/3 [00:00<?, ?it/s]"
      ]
     },
     "metadata": {},
     "output_type": "display_data"
    },
    {
     "data": {
      "application/vnd.jupyter.widget-view+json": {
       "model_id": "1f37c0d5ee21446b8dc07c311e7a4b8e",
       "version_major": 2,
       "version_minor": 0
      },
      "text/plain": [
       "  0%|          | 0/31689 [00:00<?, ?it/s]"
      ]
     },
     "metadata": {},
     "output_type": "display_data"
    }
   ],
   "source": [
    "tickers = list(map(str.strip,open(\"tickers_sp500.txt\",\"r\").readlines()))\n",
    "filenames = [\"./data/\" + x + \".csv\" for x in tickers]\n",
    "rd.shuffle(filenames)\n",
    "filenames = filenames[:configs[\"file_count\"]]\n",
    "\n",
    "train_files, test_files = train_test_split(filenames,test_size=configs[\"test_file\"]/configs[\"file_count\"])\n",
    "train_files, val_files = train_test_split(train_files,test_size=configs[\"validation_file\"]/(configs[\"train_file\"] + configs[\"validation_file\"]))\n",
    "\n",
    "train_dataset = StockDatasetLogReturn(train_files, configs[\"input_size\"], configs[\"output_size\"])\n",
    "train_dataset.Preprocess()\n",
    "train_loader = DataLoader(train_dataset,batch_size=configs[\"batch_size\"],shuffle=True)\n",
    "\n",
    "val_dataset = StockDatasetLogReturn(val_files,configs[\"input_size\"],configs[\"output_size\"])\n",
    "val_dataset.Preprocess()\n",
    "val_loader = DataLoader(val_dataset,batch_size=configs[\"batch_size\"],shuffle=True)\n",
    "\n",
    "test_dataset = StockDatasetLogReturn(test_files,configs[\"input_size\"],configs[\"output_size\"])\n",
    "test_dataset.Preprocess()\n",
    "test_loader = DataLoader(test_dataset,batch_size=configs[\"batch_size\"],shuffle=True)"
   ]
  },
  {
   "cell_type": "code",
   "execution_count": 4,
   "metadata": {},
   "outputs": [],
   "source": [
    "torch.set_default_dtype(torch.float32)\n",
    "\n",
    "class LSTMBlock(nn.Module) :\n",
    "    def __init__(self, input_size, output_size) :\n",
    "        super().__init__()\n",
    "        self.LSTM = nn.LSTM(input_size,output_size,1,batch_first=True,bias=False)\n",
    "        self.Dropout = nn.Dropout(p=0.2)\n",
    "        self.LayerNorm = nn.LayerNorm(output_size)\n",
    "    \n",
    "    def forward(self, input) :\n",
    "        h1,_ = self.LSTM(input)\n",
    "        h2 = self.Dropout(h1)\n",
    "        output = self.LayerNorm(h2)\n",
    "        return output\n",
    "\n",
    "class StockLSTM(nn.Module) :\n",
    "    def __init__(self) :\n",
    "        super().__init__()\n",
    "        self.hidden_size = 512\n",
    "        self.batch_size = configs[\"batch_size\"]\n",
    "        self.layer1 = LSTMBlock(1,self.hidden_size)\n",
    "        self.layer2 = LSTMBlock(self.hidden_size,self.hidden_size)\n",
    "        self.layer3 = LSTMBlock(self.hidden_size,self.hidden_size)\n",
    "        self.layer4 = LSTMBlock(self.hidden_size,self.hidden_size)\n",
    "        self.layer5 = nn.Linear(self.hidden_size,1,bias=False)\n",
    "\n",
    "    def forward(self, input) :\n",
    "        input = torch.multiply(input,25)\n",
    "        h1 = self.layer1(input)\n",
    "        h2 = self.layer2(h1)\n",
    "        h3 = h2 + input\n",
    "        h4 = self.layer3(h3)\n",
    "        h5 = self.layer4(h4)\n",
    "        output = self.layer5(h5[:,-1,:])\n",
    "        output = torch.multiply(output,0.04)\n",
    "        return output\n"
   ]
  },
  {
   "cell_type": "code",
   "execution_count": 6,
   "metadata": {},
   "outputs": [
    {
     "name": "stdout",
     "output_type": "stream",
     "text": [
      "=================================================================\n",
      "Layer (type:depth-idx)                   Param #\n",
      "=================================================================\n",
      "├─LSTMBlock: 1-1                         --\n",
      "|    └─LSTM: 2-1                         1,050,624\n",
      "|    └─Dropout: 2-2                      --\n",
      "|    └─LayerNorm: 2-3                    1,024\n",
      "├─LSTMBlock: 1-2                         --\n",
      "|    └─LSTM: 2-4                         2,097,152\n",
      "|    └─Dropout: 2-5                      --\n",
      "|    └─LayerNorm: 2-6                    1,024\n",
      "├─LSTMBlock: 1-3                         --\n",
      "|    └─LSTM: 2-7                         2,097,152\n",
      "|    └─Dropout: 2-8                      --\n",
      "|    └─LayerNorm: 2-9                    1,024\n",
      "├─LSTMBlock: 1-4                         --\n",
      "|    └─LSTM: 2-10                        2,097,152\n",
      "|    └─Dropout: 2-11                     --\n",
      "|    └─LayerNorm: 2-12                   1,024\n",
      "├─Linear: 1-5                            512\n",
      "=================================================================\n",
      "Total params: 7,346,688\n",
      "Trainable params: 7,346,688\n",
      "Non-trainable params: 0\n",
      "=================================================================\n"
     ]
    },
    {
     "data": {
      "text/plain": [
       "=================================================================\n",
       "Layer (type:depth-idx)                   Param #\n",
       "=================================================================\n",
       "├─LSTMBlock: 1-1                         --\n",
       "|    └─LSTM: 2-1                         1,050,624\n",
       "|    └─Dropout: 2-2                      --\n",
       "|    └─LayerNorm: 2-3                    1,024\n",
       "├─LSTMBlock: 1-2                         --\n",
       "|    └─LSTM: 2-4                         2,097,152\n",
       "|    └─Dropout: 2-5                      --\n",
       "|    └─LayerNorm: 2-6                    1,024\n",
       "├─LSTMBlock: 1-3                         --\n",
       "|    └─LSTM: 2-7                         2,097,152\n",
       "|    └─Dropout: 2-8                      --\n",
       "|    └─LayerNorm: 2-9                    1,024\n",
       "├─LSTMBlock: 1-4                         --\n",
       "|    └─LSTM: 2-10                        2,097,152\n",
       "|    └─Dropout: 2-11                     --\n",
       "|    └─LayerNorm: 2-12                   1,024\n",
       "├─Linear: 1-5                            512\n",
       "=================================================================\n",
       "Total params: 7,346,688\n",
       "Trainable params: 7,346,688\n",
       "Non-trainable params: 0\n",
       "================================================================="
      ]
     },
     "execution_count": 6,
     "metadata": {},
     "output_type": "execute_result"
    }
   ],
   "source": [
    "model = StockLSTM()\n",
    "model = model.to(device)\n",
    "\n",
    "summary(model,input_size=(configs[\"batch_size\"],configs[\"input_size\"],1))"
   ]
  },
  {
   "cell_type": "code",
   "execution_count": 14,
   "metadata": {},
   "outputs": [],
   "source": [
    "try_input = torch.zeros(configs[\"batch_size\"],configs[\"input_size\"],1)\n",
    "try_input = try_input.to(device=device)\n",
    "\n",
    "dataset = model(try_input)"
   ]
  },
  {
   "cell_type": "code",
   "execution_count": 15,
   "metadata": {},
   "outputs": [],
   "source": [
    "loss_fn = torch.nn.L1Loss()"
   ]
  },
  {
   "cell_type": "code",
   "execution_count": 16,
   "metadata": {},
   "outputs": [],
   "source": [
    "optimizer = torch.optim.Adam(model.parameters(), lr = configs[\"init_learning_rate\"])\n",
    "scheduler = torch.optim.lr_scheduler.ReduceLROnPlateau(\n",
    "    optimizer,\n",
    "    'min',\n",
    "    factor=configs['scheduler_factor'],\n",
    "    patience=configs['scheduler_patience'],\n",
    "    min_lr=configs['scheduler_min_lr']\n",
    ")\n"
   ]
  },
  {
   "cell_type": "code",
   "execution_count": 26,
   "metadata": {},
   "outputs": [
    {
     "data": {
      "application/vnd.jupyter.widget-view+json": {
       "model_id": "612f579199aa475785b219f6e5cab678",
       "version_major": 2,
       "version_minor": 0
      },
      "text/plain": [
       "  0%|          | 0/20 [00:00<?, ?it/s]"
      ]
     },
     "metadata": {},
     "output_type": "display_data"
    },
    {
     "data": {
      "application/vnd.jupyter.widget-view+json": {
       "model_id": "491bcd2f6b564e9796ec940ab239b6f3",
       "version_major": 2,
       "version_minor": 0
      },
      "text/plain": [
       "  0%|          | 0/2361 [00:00<?, ?it/s]"
      ]
     },
     "metadata": {},
     "output_type": "display_data"
    },
    {
     "data": {
      "application/vnd.jupyter.widget-view+json": {
       "model_id": "44e13095f12a47abb82fb15402dbc391",
       "version_major": 2,
       "version_minor": 0
      },
      "text/plain": [
       "  0%|          | 0/948 [00:00<?, ?it/s]"
      ]
     },
     "metadata": {},
     "output_type": "display_data"
    },
    {
     "name": "stdout",
     "output_type": "stream",
     "text": [
      "train loss :  0.014940300582458217\n",
      "val loss :  0.014900727952813775\n"
     ]
    },
    {
     "data": {
      "application/vnd.jupyter.widget-view+json": {
       "model_id": "ca896468e9da4f0bb9807346f1575356",
       "version_major": 2,
       "version_minor": 0
      },
      "text/plain": [
       "  0%|          | 0/2361 [00:00<?, ?it/s]"
      ]
     },
     "metadata": {},
     "output_type": "display_data"
    },
    {
     "data": {
      "application/vnd.jupyter.widget-view+json": {
       "model_id": "3d8804636015415890041a0b84b255b0",
       "version_major": 2,
       "version_minor": 0
      },
      "text/plain": [
       "  0%|          | 0/948 [00:00<?, ?it/s]"
      ]
     },
     "metadata": {},
     "output_type": "display_data"
    },
    {
     "name": "stdout",
     "output_type": "stream",
     "text": [
      "train loss :  0.014914150762182297\n",
      "val loss :  0.014892941281797389\n"
     ]
    },
    {
     "data": {
      "application/vnd.jupyter.widget-view+json": {
       "model_id": "5a6d7951fa2f4d918c110b54e64457cb",
       "version_major": 2,
       "version_minor": 0
      },
      "text/plain": [
       "  0%|          | 0/2361 [00:00<?, ?it/s]"
      ]
     },
     "metadata": {},
     "output_type": "display_data"
    },
    {
     "data": {
      "application/vnd.jupyter.widget-view+json": {
       "model_id": "907878792d1c4b90918c8756ccf861f6",
       "version_major": 2,
       "version_minor": 0
      },
      "text/plain": [
       "  0%|          | 0/948 [00:00<?, ?it/s]"
      ]
     },
     "metadata": {},
     "output_type": "display_data"
    },
    {
     "name": "stdout",
     "output_type": "stream",
     "text": [
      "train loss :  0.014890995602739059\n",
      "val loss :  0.014900118149443281\n"
     ]
    },
    {
     "data": {
      "application/vnd.jupyter.widget-view+json": {
       "model_id": "a4db01755e0f44f5860517be8616e36a",
       "version_major": 2,
       "version_minor": 0
      },
      "text/plain": [
       "  0%|          | 0/2361 [00:00<?, ?it/s]"
      ]
     },
     "metadata": {},
     "output_type": "display_data"
    },
    {
     "data": {
      "application/vnd.jupyter.widget-view+json": {
       "model_id": "aeaadefadb6843a9bc9a13d71a0bf21e",
       "version_major": 2,
       "version_minor": 0
      },
      "text/plain": [
       "  0%|          | 0/948 [00:00<?, ?it/s]"
      ]
     },
     "metadata": {},
     "output_type": "display_data"
    },
    {
     "name": "stdout",
     "output_type": "stream",
     "text": [
      "train loss :  0.014873481080748962\n",
      "val loss :  0.014896333243190424\n"
     ]
    },
    {
     "data": {
      "application/vnd.jupyter.widget-view+json": {
       "model_id": "247593c8c5db4c7c910071b39d13c630",
       "version_major": 2,
       "version_minor": 0
      },
      "text/plain": [
       "  0%|          | 0/2361 [00:00<?, ?it/s]"
      ]
     },
     "metadata": {},
     "output_type": "display_data"
    },
    {
     "data": {
      "application/vnd.jupyter.widget-view+json": {
       "model_id": "153f14d945f34e74b7a4ba63fafe0787",
       "version_major": 2,
       "version_minor": 0
      },
      "text/plain": [
       "  0%|          | 0/948 [00:00<?, ?it/s]"
      ]
     },
     "metadata": {},
     "output_type": "display_data"
    },
    {
     "name": "stdout",
     "output_type": "stream",
     "text": [
      "train loss :  0.014857910643331706\n",
      "val loss :  0.01490032972734512\n"
     ]
    },
    {
     "data": {
      "application/vnd.jupyter.widget-view+json": {
       "model_id": "cba7d8080dbd46579c0381218d7014a3",
       "version_major": 2,
       "version_minor": 0
      },
      "text/plain": [
       "  0%|          | 0/2361 [00:00<?, ?it/s]"
      ]
     },
     "metadata": {},
     "output_type": "display_data"
    },
    {
     "data": {
      "application/vnd.jupyter.widget-view+json": {
       "model_id": "f507467be3d84b7182f2a15dc3b056fd",
       "version_major": 2,
       "version_minor": 0
      },
      "text/plain": [
       "  0%|          | 0/948 [00:00<?, ?it/s]"
      ]
     },
     "metadata": {},
     "output_type": "display_data"
    },
    {
     "name": "stdout",
     "output_type": "stream",
     "text": [
      "train loss :  0.014847237874666954\n",
      "val loss :  0.014903790962615826\n"
     ]
    },
    {
     "data": {
      "application/vnd.jupyter.widget-view+json": {
       "model_id": "2180579a01e04e5e8f14c31590f64714",
       "version_major": 2,
       "version_minor": 0
      },
      "text/plain": [
       "  0%|          | 0/2361 [00:00<?, ?it/s]"
      ]
     },
     "metadata": {},
     "output_type": "display_data"
    },
    {
     "data": {
      "application/vnd.jupyter.widget-view+json": {
       "model_id": "cf4a74aa21354cce898c048a3b987ffe",
       "version_major": 2,
       "version_minor": 0
      },
      "text/plain": [
       "  0%|          | 0/948 [00:00<?, ?it/s]"
      ]
     },
     "metadata": {},
     "output_type": "display_data"
    },
    {
     "name": "stdout",
     "output_type": "stream",
     "text": [
      "train loss :  0.014829328064648909\n",
      "val loss :  0.014914845620943853\n"
     ]
    },
    {
     "data": {
      "application/vnd.jupyter.widget-view+json": {
       "model_id": "776d358df0fe4a8ab46de85515506901",
       "version_major": 2,
       "version_minor": 0
      },
      "text/plain": [
       "  0%|          | 0/2361 [00:00<?, ?it/s]"
      ]
     },
     "metadata": {},
     "output_type": "display_data"
    },
    {
     "data": {
      "application/vnd.jupyter.widget-view+json": {
       "model_id": "1cb7d18a8e264c5cbaa24cca83fc5058",
       "version_major": 2,
       "version_minor": 0
      },
      "text/plain": [
       "  0%|          | 0/948 [00:00<?, ?it/s]"
      ]
     },
     "metadata": {},
     "output_type": "display_data"
    },
    {
     "name": "stdout",
     "output_type": "stream",
     "text": [
      "train loss :  0.014809537794780364\n",
      "val loss :  0.014917129453531257\n"
     ]
    },
    {
     "data": {
      "application/vnd.jupyter.widget-view+json": {
       "model_id": "50f413311fac447493b1899aa3efceac",
       "version_major": 2,
       "version_minor": 0
      },
      "text/plain": [
       "  0%|          | 0/2361 [00:00<?, ?it/s]"
      ]
     },
     "metadata": {},
     "output_type": "display_data"
    },
    {
     "data": {
      "application/vnd.jupyter.widget-view+json": {
       "model_id": "4097f599240c454da04e5b6020f31215",
       "version_major": 2,
       "version_minor": 0
      },
      "text/plain": [
       "  0%|          | 0/948 [00:00<?, ?it/s]"
      ]
     },
     "metadata": {},
     "output_type": "display_data"
    },
    {
     "name": "stdout",
     "output_type": "stream",
     "text": [
      "train loss :  0.014810433354370801\n",
      "val loss :  0.014914149234568998\n"
     ]
    },
    {
     "data": {
      "application/vnd.jupyter.widget-view+json": {
       "model_id": "5170ad974f704f459c3e4c93669f3ea1",
       "version_major": 2,
       "version_minor": 0
      },
      "text/plain": [
       "  0%|          | 0/2361 [00:00<?, ?it/s]"
      ]
     },
     "metadata": {},
     "output_type": "display_data"
    },
    {
     "data": {
      "application/vnd.jupyter.widget-view+json": {
       "model_id": "079bb3016f3f48dd8958bd241aa72658",
       "version_major": 2,
       "version_minor": 0
      },
      "text/plain": [
       "  0%|          | 0/948 [00:00<?, ?it/s]"
      ]
     },
     "metadata": {},
     "output_type": "display_data"
    },
    {
     "name": "stdout",
     "output_type": "stream",
     "text": [
      "train loss :  0.014801611535653661\n",
      "val loss :  0.014914580366112993\n"
     ]
    },
    {
     "data": {
      "application/vnd.jupyter.widget-view+json": {
       "model_id": "23e5494385934fa29a8de08de810c957",
       "version_major": 2,
       "version_minor": 0
      },
      "text/plain": [
       "  0%|          | 0/2361 [00:00<?, ?it/s]"
      ]
     },
     "metadata": {},
     "output_type": "display_data"
    },
    {
     "data": {
      "application/vnd.jupyter.widget-view+json": {
       "model_id": "7acca7e7465f4387adaa034ad38a3632",
       "version_major": 2,
       "version_minor": 0
      },
      "text/plain": [
       "  0%|          | 0/948 [00:00<?, ?it/s]"
      ]
     },
     "metadata": {},
     "output_type": "display_data"
    },
    {
     "name": "stdout",
     "output_type": "stream",
     "text": [
      "train loss :  0.014805475927857777\n",
      "val loss :  0.014923327830605359\n"
     ]
    },
    {
     "data": {
      "application/vnd.jupyter.widget-view+json": {
       "model_id": "e275e8fde82a45879a5bedfe85c90110",
       "version_major": 2,
       "version_minor": 0
      },
      "text/plain": [
       "  0%|          | 0/2361 [00:00<?, ?it/s]"
      ]
     },
     "metadata": {},
     "output_type": "display_data"
    },
    {
     "data": {
      "application/vnd.jupyter.widget-view+json": {
       "model_id": "77a47415a4c1445088c1fbbf91d03ba9",
       "version_major": 2,
       "version_minor": 0
      },
      "text/plain": [
       "  0%|          | 0/948 [00:00<?, ?it/s]"
      ]
     },
     "metadata": {},
     "output_type": "display_data"
    },
    {
     "name": "stdout",
     "output_type": "stream",
     "text": [
      "train loss :  0.014784651924658693\n",
      "val loss :  0.0149240174213741\n"
     ]
    },
    {
     "data": {
      "application/vnd.jupyter.widget-view+json": {
       "model_id": "06e53dfe9ae7471185c6895863ab5734",
       "version_major": 2,
       "version_minor": 0
      },
      "text/plain": [
       "  0%|          | 0/2361 [00:00<?, ?it/s]"
      ]
     },
     "metadata": {},
     "output_type": "display_data"
    },
    {
     "data": {
      "application/vnd.jupyter.widget-view+json": {
       "model_id": "580cdead285543d9837d7540249b1c9a",
       "version_major": 2,
       "version_minor": 0
      },
      "text/plain": [
       "  0%|          | 0/948 [00:00<?, ?it/s]"
      ]
     },
     "metadata": {},
     "output_type": "display_data"
    },
    {
     "name": "stdout",
     "output_type": "stream",
     "text": [
      "train loss :  0.014788858760227213\n",
      "val loss :  0.01493119351455692\n"
     ]
    },
    {
     "data": {
      "application/vnd.jupyter.widget-view+json": {
       "model_id": "4b14cee5bcaf49d6b38937e35cd70cba",
       "version_major": 2,
       "version_minor": 0
      },
      "text/plain": [
       "  0%|          | 0/2361 [00:00<?, ?it/s]"
      ]
     },
     "metadata": {},
     "output_type": "display_data"
    },
    {
     "data": {
      "application/vnd.jupyter.widget-view+json": {
       "model_id": "62eed3b5c3e7497ba3e6de68d76a8d56",
       "version_major": 2,
       "version_minor": 0
      },
      "text/plain": [
       "  0%|          | 0/948 [00:00<?, ?it/s]"
      ]
     },
     "metadata": {},
     "output_type": "display_data"
    },
    {
     "name": "stdout",
     "output_type": "stream",
     "text": [
      "train loss :  0.014775595377136212\n",
      "val loss :  0.014925724112771948\n"
     ]
    },
    {
     "data": {
      "application/vnd.jupyter.widget-view+json": {
       "model_id": "ac3ece81d6254ec281f0c47450aebd80",
       "version_major": 2,
       "version_minor": 0
      },
      "text/plain": [
       "  0%|          | 0/2361 [00:00<?, ?it/s]"
      ]
     },
     "metadata": {},
     "output_type": "display_data"
    },
    {
     "data": {
      "application/vnd.jupyter.widget-view+json": {
       "model_id": "efe3525294454278af31a5e0cd710e64",
       "version_major": 2,
       "version_minor": 0
      },
      "text/plain": [
       "  0%|          | 0/948 [00:00<?, ?it/s]"
      ]
     },
     "metadata": {},
     "output_type": "display_data"
    },
    {
     "name": "stdout",
     "output_type": "stream",
     "text": [
      "train loss :  0.014774390685932427\n",
      "val loss :  0.014926875166500571\n"
     ]
    },
    {
     "data": {
      "application/vnd.jupyter.widget-view+json": {
       "model_id": "9f41bc829ee044a08f4bd7defcaad020",
       "version_major": 2,
       "version_minor": 0
      },
      "text/plain": [
       "  0%|          | 0/2361 [00:00<?, ?it/s]"
      ]
     },
     "metadata": {},
     "output_type": "display_data"
    },
    {
     "data": {
      "application/vnd.jupyter.widget-view+json": {
       "model_id": "5c0ffd482e9f4fa0b4e3ce353d7e8a46",
       "version_major": 2,
       "version_minor": 0
      },
      "text/plain": [
       "  0%|          | 0/948 [00:00<?, ?it/s]"
      ]
     },
     "metadata": {},
     "output_type": "display_data"
    },
    {
     "name": "stdout",
     "output_type": "stream",
     "text": [
      "train loss :  0.01476481041152788\n",
      "val loss :  0.014928138938780634\n"
     ]
    },
    {
     "data": {
      "application/vnd.jupyter.widget-view+json": {
       "model_id": "36e7f2d29dc4417ebc8990dc1c057d75",
       "version_major": 2,
       "version_minor": 0
      },
      "text/plain": [
       "  0%|          | 0/2361 [00:00<?, ?it/s]"
      ]
     },
     "metadata": {},
     "output_type": "display_data"
    },
    {
     "data": {
      "application/vnd.jupyter.widget-view+json": {
       "model_id": "be75608382754da980abb3cb24e2de23",
       "version_major": 2,
       "version_minor": 0
      },
      "text/plain": [
       "  0%|          | 0/948 [00:00<?, ?it/s]"
      ]
     },
     "metadata": {},
     "output_type": "display_data"
    },
    {
     "name": "stdout",
     "output_type": "stream",
     "text": [
      "train loss :  0.014758747662180815\n",
      "val loss :  0.014943357607214039\n"
     ]
    },
    {
     "data": {
      "application/vnd.jupyter.widget-view+json": {
       "model_id": "8b4f8ebc3e9e4239855fed47ebd083b5",
       "version_major": 2,
       "version_minor": 0
      },
      "text/plain": [
       "  0%|          | 0/2361 [00:00<?, ?it/s]"
      ]
     },
     "metadata": {},
     "output_type": "display_data"
    },
    {
     "data": {
      "application/vnd.jupyter.widget-view+json": {
       "model_id": "90e91a4894174d7e83c645701d5054cf",
       "version_major": 2,
       "version_minor": 0
      },
      "text/plain": [
       "  0%|          | 0/948 [00:00<?, ?it/s]"
      ]
     },
     "metadata": {},
     "output_type": "display_data"
    },
    {
     "name": "stdout",
     "output_type": "stream",
     "text": [
      "train loss :  0.014759376151013677\n",
      "val loss :  0.01493328715524112\n"
     ]
    },
    {
     "data": {
      "application/vnd.jupyter.widget-view+json": {
       "model_id": "c1ed071e6cfb4876958833c8acecf8b4",
       "version_major": 2,
       "version_minor": 0
      },
      "text/plain": [
       "  0%|          | 0/2361 [00:00<?, ?it/s]"
      ]
     },
     "metadata": {},
     "output_type": "display_data"
    },
    {
     "data": {
      "application/vnd.jupyter.widget-view+json": {
       "model_id": "1a262e5e81e54bd0bc3910ea265bc807",
       "version_major": 2,
       "version_minor": 0
      },
      "text/plain": [
       "  0%|          | 0/948 [00:00<?, ?it/s]"
      ]
     },
     "metadata": {},
     "output_type": "display_data"
    },
    {
     "name": "stdout",
     "output_type": "stream",
     "text": [
      "train loss :  0.014744447510279084\n",
      "val loss :  0.014936513674603785\n"
     ]
    },
    {
     "data": {
      "application/vnd.jupyter.widget-view+json": {
       "model_id": "b20b093a660e4afab286847f20699040",
       "version_major": 2,
       "version_minor": 0
      },
      "text/plain": [
       "  0%|          | 0/2361 [00:00<?, ?it/s]"
      ]
     },
     "metadata": {},
     "output_type": "display_data"
    },
    {
     "data": {
      "application/vnd.jupyter.widget-view+json": {
       "model_id": "3308837f0c714ec3b4123f4c88042f83",
       "version_major": 2,
       "version_minor": 0
      },
      "text/plain": [
       "  0%|          | 0/948 [00:00<?, ?it/s]"
      ]
     },
     "metadata": {},
     "output_type": "display_data"
    },
    {
     "name": "stdout",
     "output_type": "stream",
     "text": [
      "train loss :  0.014741238884004306\n",
      "val loss :  0.014930722269267945\n"
     ]
    }
   ],
   "source": [
    "train_losses = []\n",
    "val_losses = []\n",
    "avarage_train_losses = []\n",
    "avarage_val_losses = []\n",
    "learning_rates = []\n",
    "\n",
    "model_folder = configs[\"model_folder\"]\n",
    "best_loss = 1000000\n",
    "\n",
    "for epoch in tqdm(range(configs[\"epoch\"])) :\n",
    "\n",
    "    model.train()\n",
    "\n",
    "    learning_rates.append(optimizer.param_groups[0]['lr'])\n",
    "\n",
    "    cur_train_loss = []\n",
    "    for input,target in tqdm(train_loader) :\n",
    "\n",
    "        close_price_input = input[:,4,:,None]\n",
    "        close_price_target = target[:,4,:]\n",
    "        close_price_input = close_price_input.to(device)\n",
    "        close_price_target = close_price_target.to(device)\n",
    "\n",
    "        if(close_price_input.shape[0] != configs[\"batch_size\"]) :\n",
    "            continue\n",
    "\n",
    "        optimizer.zero_grad()\n",
    "\n",
    "        output = model(close_price_input)\n",
    "\n",
    "        loss = loss_fn(output,close_price_target)\n",
    "\n",
    "        loss.backward()\n",
    "\n",
    "        optimizer.step()\n",
    "\n",
    "        train_losses.append(loss.to(torch.device(\"cpu\")).item())\n",
    "        cur_train_loss.append(loss.to(torch.device(\"cpu\")).item())\n",
    "\n",
    "    avarage_train_loss = np.mean(np.array(cur_train_loss))\n",
    "    avarage_train_losses.append(avarage_train_loss)\n",
    "\n",
    "    model.eval()\n",
    "\n",
    "    with torch.no_grad() :\n",
    "        cur_val_loss = []\n",
    "        for input,target in tqdm(val_loader) :\n",
    "\n",
    "            close_price_input = input[:,4,:,None]\n",
    "            close_price_target = target[:,4,:]\n",
    "            close_price_input = close_price_input.to(device)\n",
    "            close_price_target = close_price_target.to(device)\n",
    "\n",
    "            if(close_price_input.shape[0] != configs[\"batch_size\"]) :\n",
    "                continue\n",
    "\n",
    "            output = model(close_price_input)\n",
    "\n",
    "            loss = loss_fn(output,close_price_target)\n",
    "\n",
    "            val_losses.append(loss.to(torch.device(\"cpu\")).item())\n",
    "            cur_val_loss.append(loss.to(torch.device(\"cpu\")).item())\n",
    "\n",
    "        avarage_val_loss = np.mean(np.array(cur_val_loss))\n",
    "        avarage_val_losses.append(avarage_val_loss)\n",
    "\n",
    "        scheduler.step(avarage_val_loss)\n",
    "        \n",
    "        if(best_loss > avarage_val_loss) :\n",
    "\n",
    "            state = {\n",
    "                'epoch': epoch,\n",
    "                'model': model.state_dict(),\n",
    "                'optimizer': optimizer.state_dict(),\n",
    "                'scheduler': scheduler.state_dict(),\n",
    "                'train_loss': avarage_train_loss,\n",
    "                'val_loss': avarage_val_loss,\n",
    "                'best_val_loss': best_loss,\n",
    "            }\n",
    "\n",
    "            best_loss = avarage_val_loss\n",
    "\n",
    "            torch.save(state, model_folder + \"LSTM.pth.tar\")\n",
    "\n",
    "    print(\"train loss : \",avarage_train_loss)\n",
    "    print(\"val loss : \",avarage_val_loss)\n"
   ]
  },
  {
   "cell_type": "code",
   "execution_count": 5,
   "metadata": {},
   "outputs": [
    {
     "ename": "NameError",
     "evalue": "name 'avarage_train_losses' is not defined",
     "output_type": "error",
     "traceback": [
      "\u001b[1;31m---------------------------------------------------------------------------\u001b[0m",
      "\u001b[1;31mNameError\u001b[0m                                 Traceback (most recent call last)",
      "Cell \u001b[1;32mIn[5], line 1\u001b[0m\n\u001b[1;32m----> 1\u001b[0m plt\u001b[38;5;241m.\u001b[39mplot(\u001b[43mavarage_train_losses\u001b[49m)\n\u001b[0;32m      2\u001b[0m plt\u001b[38;5;241m.\u001b[39mshow()\n\u001b[0;32m      3\u001b[0m plt\u001b[38;5;241m.\u001b[39mplot(avarage_val_losses)\n",
      "\u001b[1;31mNameError\u001b[0m: name 'avarage_train_losses' is not defined"
     ]
    }
   ],
   "source": [
    "plt.plot(avarage_train_losses)\n",
    "plt.show()\n",
    "plt.plot(avarage_val_losses)\n",
    "plt.show()"
   ]
  },
  {
   "cell_type": "code",
   "execution_count": 28,
   "metadata": {},
   "outputs": [],
   "source": [
    "train_losses_file = open(configs[\"model_folder\"] + \"train_losses.txt\",'w')\n",
    "val_losses_file = open(configs[\"model_folder\"] + \"val_losses.txt\",\"w\")\n",
    "\n",
    "for value in train_losses :\n",
    "    train_losses_file.write(f\"{value}\\n\")\n",
    "\n",
    "for value in val_losses :\n",
    "    val_losses_file.write(f\"{value}\\n\")\n",
    "\n",
    "train_losses_file.close()\n",
    "val_losses_file.close()"
   ]
  },
  {
   "cell_type": "code",
   "execution_count": 6,
   "metadata": {},
   "outputs": [
    {
     "data": {
      "text/plain": [
       "StockLSTM(\n",
       "  (layer1): LSTMBlock(\n",
       "    (LSTM): LSTM(1, 512, bias=False, batch_first=True)\n",
       "    (Dropout): Dropout(p=0.2, inplace=False)\n",
       "    (LayerNorm): LayerNorm((512,), eps=1e-05, elementwise_affine=True)\n",
       "  )\n",
       "  (layer2): LSTMBlock(\n",
       "    (LSTM): LSTM(512, 512, bias=False, batch_first=True)\n",
       "    (Dropout): Dropout(p=0.2, inplace=False)\n",
       "    (LayerNorm): LayerNorm((512,), eps=1e-05, elementwise_affine=True)\n",
       "  )\n",
       "  (layer3): LSTMBlock(\n",
       "    (LSTM): LSTM(512, 512, bias=False, batch_first=True)\n",
       "    (Dropout): Dropout(p=0.2, inplace=False)\n",
       "    (LayerNorm): LayerNorm((512,), eps=1e-05, elementwise_affine=True)\n",
       "  )\n",
       "  (layer4): LSTMBlock(\n",
       "    (LSTM): LSTM(512, 512, bias=False, batch_first=True)\n",
       "    (Dropout): Dropout(p=0.2, inplace=False)\n",
       "    (LayerNorm): LayerNorm((512,), eps=1e-05, elementwise_affine=True)\n",
       "  )\n",
       "  (layer5): Linear(in_features=512, out_features=1, bias=False)\n",
       ")"
      ]
     },
     "execution_count": 6,
     "metadata": {},
     "output_type": "execute_result"
    }
   ],
   "source": [
    "best_model = StockLSTM()\n",
    "best_model.load_state_dict(torch.load(configs[\"model_folder\"] + \"LSTM.pth.tar\")['model'])\n",
    "\n",
    "best_model.to(device)\n",
    "best_model.eval()"
   ]
  },
  {
   "cell_type": "code",
   "execution_count": 30,
   "metadata": {},
   "outputs": [
    {
     "data": {
      "application/vnd.jupyter.widget-view+json": {
       "model_id": "0b5814ef4a234919ac30cde3f5532784",
       "version_major": 2,
       "version_minor": 0
      },
      "text/plain": [
       "  0%|          | 0/991 [00:00<?, ?it/s]"
      ]
     },
     "metadata": {},
     "output_type": "display_data"
    },
    {
     "name": "stdout",
     "output_type": "stream",
     "text": [
      "0.017975411863263808\n"
     ]
    }
   ],
   "source": [
    "with torch.no_grad() :\n",
    "    cur_test_loss = []\n",
    "    for input,target in tqdm(test_loader) :\n",
    "\n",
    "        close_price_input = input[:,4,:,None]\n",
    "        close_price_target = target[:,4,:]\n",
    "        close_price_input = close_price_input.to(device)\n",
    "        close_price_target = close_price_target.to(device)\n",
    "\n",
    "        if(close_price_input.shape[0] != configs[\"batch_size\"]) :\n",
    "            continue\n",
    "\n",
    "        output = best_model(close_price_input)\n",
    "\n",
    "        loss = loss_fn(output,close_price_target)\n",
    "\n",
    "        cur_test_loss.append(loss.to(torch.device(\"cpu\")).item())\n",
    "\n",
    "    avarage_test_loss = np.mean(np.array(cur_test_loss))\n",
    "\n",
    "print(avarage_test_loss)"
   ]
  },
  {
   "cell_type": "code",
   "execution_count": 7,
   "metadata": {},
   "outputs": [],
   "source": [
    "def get_log_stock_prediction(model, stock_files) :\n",
    "    model.eval()\n",
    "    data_set = StockDatasetLogReturn(stock_files, configs[\"input_size\"], 1)\n",
    "    data_set.Preprocess()\n",
    "    data_loader = DataLoader(data_set,configs[\"batch_size\"])\n",
    "    predict_res = []\n",
    "    target_res = []\n",
    "    \n",
    "    with torch.no_grad() : \n",
    "        \n",
    "        for input,target in tqdm(data_loader) :\n",
    "            close_price_input = input[:,4,:,None]\n",
    "            close_price_target = target[:,4,:]\n",
    "            close_price_input = close_price_input.to(device)\n",
    "\n",
    "            output = model(close_price_input)\n",
    "\n",
    "            close_price_input = close_price_input.to(torch.device(\"cpu\"))\n",
    "            \n",
    "            predict_res += output.to(torch.device(\"cpu\")).reshape(-1).tolist()\n",
    "            target_res += close_price_target.to(torch.device(\"cpu\")).reshape(-1).tolist()\n",
    "\n",
    "    return np.array(predict_res),np.array(target_res)\n"
   ]
  },
  {
   "cell_type": "code",
   "execution_count": 8,
   "metadata": {},
   "outputs": [],
   "source": [
    "def trade_test(predict, real) :\n",
    "    buy_pos = predict > 0\n",
    "    total_profit = np.exp(np.sum(buy_pos * real))\n",
    "    return total_profit"
   ]
  },
  {
   "cell_type": "code",
   "execution_count": 9,
   "metadata": {},
   "outputs": [
    {
     "data": {
      "application/vnd.jupyter.widget-view+json": {
       "model_id": "b3a8c743df3d4e3a9667727a621e6c31",
       "version_major": 2,
       "version_minor": 0
      },
      "text/plain": [
       "  0%|          | 0/1 [00:00<?, ?it/s]"
      ]
     },
     "metadata": {},
     "output_type": "display_data"
    },
    {
     "data": {
      "application/vnd.jupyter.widget-view+json": {
       "model_id": "454acbf1bffb4b72803952691a528a98",
       "version_major": 2,
       "version_minor": 0
      },
      "text/plain": [
       "  0%|          | 0/6129 [00:00<?, ?it/s]"
      ]
     },
     "metadata": {},
     "output_type": "display_data"
    },
    {
     "data": {
      "application/vnd.jupyter.widget-view+json": {
       "model_id": "716580ca00464073956838c87cf0a69a",
       "version_major": 2,
       "version_minor": 0
      },
      "text/plain": [
       "  0%|          | 0/192 [00:00<?, ?it/s]"
      ]
     },
     "metadata": {},
     "output_type": "display_data"
    }
   ],
   "source": [
    "predict,target = get_log_stock_prediction(best_model, [\"./data/A.csv\"])"
   ]
  },
  {
   "cell_type": "code",
   "execution_count": 10,
   "metadata": {},
   "outputs": [
    {
     "data": {
      "image/png": "[encoded data removed]",
      "text/plain": [
       "<Figure size 640x480 with 1 Axes>"
      ]
     },
     "metadata": {},
     "output_type": "display_data"
    }
   ],
   "source": [
    "predict_percent = np.exp(predict)\n",
    "target_percent = np.exp(target)\n",
    "predict_plot = np.cumprod(predict_percent) * 100\n",
    "target_plot = np.cumprod(target_percent) * 100\n",
    "plt.plot(target_plot)\n",
    "plt.plot(predict_plot)\n",
    "plt.show()"
   ]
  },
  {
   "cell_type": "code",
   "execution_count": 11,
   "metadata": {},
   "outputs": [
    {
     "name": "stdout",
     "output_type": "stream",
     "text": [
      "total_profit :  16.305177101289566\n",
      "buy and hold :  4.5820224637360205\n",
      "random profit :  9.597825179263143\n"
     ]
    }
   ],
   "source": [
    "total_profit = trade_test(predict,target)\n",
    "print(\"total_profit : \",total_profit)\n",
    "buy_and_hold_profit = trade_test(np.ones(target.shape),target)\n",
    "print(\"buy and hold : \",buy_and_hold_profit)\n",
    "random_profit = trade_test(np.random.randint(low=0,high=2,size=target.shape),target)\n",
    "print(\"random profit : \",random_profit)"
   ]
  },
  {
   "cell_type": "code",
   "execution_count": 12,
   "metadata": {},
   "outputs": [
    {
     "data": {
      "text/plain": [
       "[]"
      ]
     },
     "execution_count": 12,
     "metadata": {},
     "output_type": "execute_result"
    },
    {
     "data": {
      "image/png": "[encoded data removed]",
      "text/plain": [
       "<Figure size 640x480 with 1 Axes>"
      ]
     },
     "metadata": {},
     "output_type": "display_data"
    }
   ],
   "source": [
    "plt.plot(target_percent)\n",
    "plt.plot(predict_percent)\n",
    "plt.plot()"
   ]
  },
  {
   "cell_type": "code",
   "execution_count": 13,
   "metadata": {},
   "outputs": [
    {
     "name": "stdout",
     "output_type": "stream",
     "text": [
      "0.5208027410670583\n"
     ]
    }
   ],
   "source": [
    "print(np.mean((np.log(np.array(target_percent)) * np.log(np.array(predict_percent))) > 0))"
   ]
  },
  {
   "cell_type": "code",
   "execution_count": 14,
   "metadata": {},
   "outputs": [
    {
     "ename": "NameError",
     "evalue": "name 'learning_rates' is not defined",
     "output_type": "error",
     "traceback": [
      "\u001b[1;31m---------------------------------------------------------------------------\u001b[0m",
      "\u001b[1;31mNameError\u001b[0m                                 Traceback (most recent call last)",
      "Cell \u001b[1;32mIn[14], line 1\u001b[0m\n\u001b[1;32m----> 1\u001b[0m plt\u001b[38;5;241m.\u001b[39mplot(\u001b[43mlearning_rates\u001b[49m)\n\u001b[0;32m      2\u001b[0m plt\u001b[38;5;241m.\u001b[39mshow()\n",
      "\u001b[1;31mNameError\u001b[0m: name 'learning_rates' is not defined"
     ]
    }
   ],
   "source": [
    "plt.plot(learning_rates)\n",
    "plt.show()"
   ]
  }
 ],
 "metadata": {
  "kernelspec": {
   "display_name": "Python 3",
   "language": "python",
   "name": "python3"
  },
  "language_info": {
   "codemirror_mode": {
    "name": "ipython",
    "version": 3
   },
   "file_extension": ".py",
   "mimetype": "text/x-python",
   "name": "python",
   "nbconvert_exporter": "python",
   "pygments_lexer": "ipython3",
   "version": "3.12.1"
  }
 },
 "nbformat": 4,
 "nbformat_minor": 2
}
