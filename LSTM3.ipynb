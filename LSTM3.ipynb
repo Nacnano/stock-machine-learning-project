{
 "cells": [
  {
   "cell_type": "code",
   "execution_count": 1,
   "metadata": {},
   "outputs": [],
   "source": [
    "#!nvidia-smi"
   ]
  },
  {
   "cell_type": "code",
   "execution_count": 21,
   "metadata": {},
   "outputs": [],
   "source": [
    "import torch\n",
    "from torch import nn\n",
    "from torch.utils.data import DataLoader\n",
    "import torch.nn.functional as F\n",
    "from torchsummary import summary\n",
    "\n",
    "from DatasetLogReturn import StockDatasetLogReturn\n",
    "from tqdm.notebook import tqdm\n",
    "\n",
    "from sklearn.model_selection import train_test_split\n",
    "\n",
    "import math\n",
    "import random\n",
    "import numpy as np\n",
    "import pandas as pd\n",
    "import random as rd\n",
    "import matplotlib.pyplot as plt"
   ]
  },
  {
   "cell_type": "code",
   "execution_count": 2,
   "metadata": {},
   "outputs": [],
   "source": [
    "configs = {\n",
    "    \"batch_size\" : 48,\n",
    "    \"max_file_count\" : 2179,\n",
    "    \"train_file\" : 7,\n",
    "    \"validation_file\" : 2,\n",
    "    \"test_file\" : 10,\n",
    "    \"input_size\" : 150,\n",
    "    \"output_size\" : 1,\n",
    "    \"init_learning_rate\" : 1e-2,\n",
    "    \"scheduler_factor\": 0.6,\n",
    "    \"scheduler_patience\": 5,\n",
    "    \"scheduler_min_lr\": 5e-4,\n",
    "    \"epoch\" : 7,\n",
    "    \"model_name\" : \"LSTM3\",\n",
    "}\n",
    "\n",
    "configs[\"file_count\"] = configs[\"train_file\"] + configs[\"validation_file\"] + configs[\"test_file\"]\n",
    "configs[\"model_folder\"] = f\"./models/{configs[\"model_name\"]}/\"\n",
    "\n",
    "device = torch.device(\"cuda\" if torch.cuda.is_available() else \"cpu\")"
   ]
  },
  {
   "cell_type": "code",
   "execution_count": 3,
   "metadata": {},
   "outputs": [
    {
     "data": {
      "application/vnd.jupyter.widget-view+json": {
       "model_id": "a3ff2ab49c854f12bc97eb601f1436f4",
       "version_major": 2,
       "version_minor": 0
      },
      "text/plain": [
       "  0%|          | 0/7 [00:00<?, ?it/s]"
      ]
     },
     "metadata": {},
     "output_type": "display_data"
    },
    {
     "data": {
      "application/vnd.jupyter.widget-view+json": {
       "model_id": "56381b53f37a4af0b575ae9548faf224",
       "version_major": 2,
       "version_minor": 0
      },
      "text/plain": [
       "  0%|          | 0/48384 [00:00<?, ?it/s]"
      ]
     },
     "metadata": {},
     "output_type": "display_data"
    },
    {
     "data": {
      "application/vnd.jupyter.widget-view+json": {
       "model_id": "eaad48d30fb644d4a14f6f5aff4d8997",
       "version_major": 2,
       "version_minor": 0
      },
      "text/plain": [
       "  0%|          | 0/2 [00:00<?, ?it/s]"
      ]
     },
     "metadata": {},
     "output_type": "display_data"
    },
    {
     "data": {
      "application/vnd.jupyter.widget-view+json": {
       "model_id": "037f9236cd38483a8ed1ab68de47c2e2",
       "version_major": 2,
       "version_minor": 0
      },
      "text/plain": [
       "  0%|          | 0/21910 [00:00<?, ?it/s]"
      ]
     },
     "metadata": {},
     "output_type": "display_data"
    },
    {
     "data": {
      "application/vnd.jupyter.widget-view+json": {
       "model_id": "8928abd31ed4410090ecd17cde864f2e",
       "version_major": 2,
       "version_minor": 0
      },
      "text/plain": [
       "  0%|          | 0/10 [00:00<?, ?it/s]"
      ]
     },
     "metadata": {},
     "output_type": "display_data"
    },
    {
     "data": {
      "application/vnd.jupyter.widget-view+json": {
       "model_id": "eb71be07e984460181a3e6cf4dd8861c",
       "version_major": 2,
       "version_minor": 0
      },
      "text/plain": [
       "  0%|          | 0/69615 [00:00<?, ?it/s]"
      ]
     },
     "metadata": {},
     "output_type": "display_data"
    }
   ],
   "source": [
    "tickers = list(map(str.strip,open(\"tickers.txt\",\"r\").readlines()))\n",
    "filenames = [\"./data/\" + x + \".csv\" for x in tickers]\n",
    "rd.shuffle(filenames)\n",
    "filenames = filenames[:configs[\"file_count\"]]\n",
    "\n",
    "train_files, test_files = train_test_split(filenames,test_size=configs[\"test_file\"]/configs[\"file_count\"])\n",
    "train_files, val_files = train_test_split(train_files,test_size=configs[\"validation_file\"]/(configs[\"train_file\"] + configs[\"validation_file\"]))\n",
    "\n",
    "train_dataset = StockDatasetLogReturn(train_files, configs[\"input_size\"], configs[\"output_size\"])\n",
    "train_dataset.Preprocess()\n",
    "train_loader = DataLoader(train_dataset,batch_size=configs[\"batch_size\"],shuffle=True)\n",
    "\n",
    "val_dataset = StockDatasetLogReturn(val_files,configs[\"input_size\"],configs[\"output_size\"])\n",
    "val_dataset.Preprocess()\n",
    "val_loader = DataLoader(val_dataset,batch_size=configs[\"batch_size\"],shuffle=True)\n",
    "\n",
    "test_dataset = StockDatasetLogReturn(test_files,configs[\"input_size\"],configs[\"output_size\"])\n",
    "test_dataset.Preprocess()\n",
    "test_loader = DataLoader(test_dataset,batch_size=configs[\"batch_size\"],shuffle=True)"
   ]
  },
  {
   "cell_type": "code",
   "execution_count": 4,
   "metadata": {},
   "outputs": [],
   "source": [
    "torch.set_default_dtype(torch.float32)\n",
    "class StockLSTM(nn.Module) :\n",
    "    def __init__(self) :\n",
    "        super().__init__()\n",
    "        self.hidden_size = 1650\n",
    "        self.batch_size = configs[\"batch_size\"]\n",
    "        self.h0 = torch.zeros((2,self.batch_size,self.hidden_size)).to(device)\n",
    "        self.c0 = torch.zeros((2,self.batch_size,self.hidden_size)).to(device)\n",
    "        self.layer1 = nn.LSTM(1,self.hidden_size,2,dropout=0.2,batch_first=True)\n",
    "        self.layer2 = nn.Sequential(\n",
    "            nn.Linear(self.hidden_size,512),\n",
    "            nn.ReLU()\n",
    "        )\n",
    "        self.layer3 = nn.Linear(512,256)\n",
    "        self.layer4 = nn.Linear(256,1)\n",
    "\n",
    "    def forward(self, input) :\n",
    "        h1,(hn,cn) = self.layer1(input,(self.h0,self.c0))\n",
    "        h2 = self.layer2(h1[:,-1,:])\n",
    "        h3 = self.layer3(h2)\n",
    "        output = self.layer4(h3)\n",
    "        return output\n"
   ]
  },
  {
   "cell_type": "code",
   "execution_count": 5,
   "metadata": {},
   "outputs": [
    {
     "name": "stdout",
     "output_type": "stream",
     "text": [
      "=================================================================\n",
      "Layer (type:depth-idx)                   Param #\n",
      "=================================================================\n",
      "├─LSTM: 1-1                              32,703,000\n",
      "├─Sequential: 1-2                        --\n",
      "|    └─Linear: 2-1                       845,312\n",
      "|    └─ReLU: 2-2                         --\n",
      "├─Linear: 1-3                            131,328\n",
      "├─Linear: 1-4                            257\n",
      "=================================================================\n",
      "Total params: 33,679,897\n",
      "Trainable params: 33,679,897\n",
      "Non-trainable params: 0\n",
      "=================================================================\n"
     ]
    },
    {
     "data": {
      "text/plain": [
       "=================================================================\n",
       "Layer (type:depth-idx)                   Param #\n",
       "=================================================================\n",
       "├─LSTM: 1-1                              32,703,000\n",
       "├─Sequential: 1-2                        --\n",
       "|    └─Linear: 2-1                       845,312\n",
       "|    └─ReLU: 2-2                         --\n",
       "├─Linear: 1-3                            131,328\n",
       "├─Linear: 1-4                            257\n",
       "=================================================================\n",
       "Total params: 33,679,897\n",
       "Trainable params: 33,679,897\n",
       "Non-trainable params: 0\n",
       "================================================================="
      ]
     },
     "execution_count": 5,
     "metadata": {},
     "output_type": "execute_result"
    }
   ],
   "source": [
    "model = StockLSTM()\n",
    "model = model.to(device)\n",
    "\n",
    "summary(model,input_size=(configs[\"batch_size\"],configs[\"input_size\"],1))"
   ]
  },
  {
   "cell_type": "code",
   "execution_count": 6,
   "metadata": {},
   "outputs": [],
   "source": [
    "loss_fn = torch.nn.L1Loss()"
   ]
  },
  {
   "cell_type": "code",
   "execution_count": 7,
   "metadata": {},
   "outputs": [],
   "source": [
    "optimizer = torch.optim.Adam(model.parameters(), lr = configs[\"init_learning_rate\"])\n",
    "scheduler = torch.optim.lr_scheduler.ReduceLROnPlateau(\n",
    "    optimizer,\n",
    "    'min',\n",
    "    factor=configs['scheduler_factor'],\n",
    "    patience=configs['scheduler_patience'],\n",
    "    min_lr=configs['scheduler_min_lr']\n",
    ")\n"
   ]
  },
  {
   "cell_type": "code",
   "execution_count": 8,
   "metadata": {},
   "outputs": [
    {
     "data": {
      "application/vnd.jupyter.widget-view+json": {
       "model_id": "6327f788b0e54bad8053f7a876cd2ce4",
       "version_major": 2,
       "version_minor": 0
      },
      "text/plain": [
       "  0%|          | 0/7 [00:00<?, ?it/s]"
      ]
     },
     "metadata": {},
     "output_type": "display_data"
    },
    {
     "data": {
      "application/vnd.jupyter.widget-view+json": {
       "model_id": "0bcdc2c3ec2f49d89a59d8fcf9005b84",
       "version_major": 2,
       "version_minor": 0
      },
      "text/plain": [
       "  0%|          | 0/1008 [00:00<?, ?it/s]"
      ]
     },
     "metadata": {},
     "output_type": "display_data"
    },
    {
     "data": {
      "application/vnd.jupyter.widget-view+json": {
       "model_id": "759ecfb9f292421c9d8b64dec28a6f55",
       "version_major": 2,
       "version_minor": 0
      },
      "text/plain": [
       "  0%|          | 0/457 [00:00<?, ?it/s]"
      ]
     },
     "metadata": {},
     "output_type": "display_data"
    },
    {
     "name": "stdout",
     "output_type": "stream",
     "text": [
      "train loss :  0.21445363997583397\n",
      "val loss :  0.017221680554365248\n"
     ]
    },
    {
     "data": {
      "application/vnd.jupyter.widget-view+json": {
       "model_id": "0deb2a38e45e4542bdfb16d791712a7d",
       "version_major": 2,
       "version_minor": 0
      },
      "text/plain": [
       "  0%|          | 0/1008 [00:00<?, ?it/s]"
      ]
     },
     "metadata": {},
     "output_type": "display_data"
    },
    {
     "data": {
      "application/vnd.jupyter.widget-view+json": {
       "model_id": "30930a637f96472e829ffb56df61ecc8",
       "version_major": 2,
       "version_minor": 0
      },
      "text/plain": [
       "  0%|          | 0/457 [00:00<?, ?it/s]"
      ]
     },
     "metadata": {},
     "output_type": "display_data"
    },
    {
     "name": "stdout",
     "output_type": "stream",
     "text": [
      "train loss :  0.014318022292129518\n",
      "val loss :  0.0171434547151684\n"
     ]
    },
    {
     "data": {
      "application/vnd.jupyter.widget-view+json": {
       "model_id": "2b6faa2157c04db8922ef574cf7d12da",
       "version_major": 2,
       "version_minor": 0
      },
      "text/plain": [
       "  0%|          | 0/1008 [00:00<?, ?it/s]"
      ]
     },
     "metadata": {},
     "output_type": "display_data"
    },
    {
     "data": {
      "application/vnd.jupyter.widget-view+json": {
       "model_id": "e1491d69b405456e84b36b86f04c826c",
       "version_major": 2,
       "version_minor": 0
      },
      "text/plain": [
       "  0%|          | 0/457 [00:00<?, ?it/s]"
      ]
     },
     "metadata": {},
     "output_type": "display_data"
    },
    {
     "name": "stdout",
     "output_type": "stream",
     "text": [
      "train loss :  0.014192861123269217\n",
      "val loss :  0.017413591167464722\n"
     ]
    },
    {
     "data": {
      "application/vnd.jupyter.widget-view+json": {
       "model_id": "a037bc61d4b8464087d5c119d18ba8df",
       "version_major": 2,
       "version_minor": 0
      },
      "text/plain": [
       "  0%|          | 0/1008 [00:00<?, ?it/s]"
      ]
     },
     "metadata": {},
     "output_type": "display_data"
    },
    {
     "data": {
      "application/vnd.jupyter.widget-view+json": {
       "model_id": "73e64bc7ebb64fe3bacab13ede781de3",
       "version_major": 2,
       "version_minor": 0
      },
      "text/plain": [
       "  0%|          | 0/457 [00:00<?, ?it/s]"
      ]
     },
     "metadata": {},
     "output_type": "display_data"
    },
    {
     "name": "stdout",
     "output_type": "stream",
     "text": [
      "train loss :  0.014077893718855367\n",
      "val loss :  0.017634559810782473\n"
     ]
    },
    {
     "data": {
      "application/vnd.jupyter.widget-view+json": {
       "model_id": "a3dc140b38ab4a6d95d6744dfa049c8b",
       "version_major": 2,
       "version_minor": 0
      },
      "text/plain": [
       "  0%|          | 0/1008 [00:00<?, ?it/s]"
      ]
     },
     "metadata": {},
     "output_type": "display_data"
    },
    {
     "data": {
      "application/vnd.jupyter.widget-view+json": {
       "model_id": "443c5f3671bf49f9833ee05336d37228",
       "version_major": 2,
       "version_minor": 0
      },
      "text/plain": [
       "  0%|          | 0/457 [00:00<?, ?it/s]"
      ]
     },
     "metadata": {},
     "output_type": "display_data"
    },
    {
     "name": "stdout",
     "output_type": "stream",
     "text": [
      "train loss :  0.014065877055852778\n",
      "val loss :  0.017147902315564192\n"
     ]
    },
    {
     "data": {
      "application/vnd.jupyter.widget-view+json": {
       "model_id": "adfd78b3c7524e2480cb8586b6dce2c1",
       "version_major": 2,
       "version_minor": 0
      },
      "text/plain": [
       "  0%|          | 0/1008 [00:00<?, ?it/s]"
      ]
     },
     "metadata": {},
     "output_type": "display_data"
    },
    {
     "data": {
      "application/vnd.jupyter.widget-view+json": {
       "model_id": "e914100ea7cb4a98a0789f90f06ca973",
       "version_major": 2,
       "version_minor": 0
      },
      "text/plain": [
       "  0%|          | 0/457 [00:00<?, ?it/s]"
      ]
     },
     "metadata": {},
     "output_type": "display_data"
    },
    {
     "name": "stdout",
     "output_type": "stream",
     "text": [
      "train loss :  0.01407207306733148\n",
      "val loss :  0.017458352601368046\n"
     ]
    },
    {
     "data": {
      "application/vnd.jupyter.widget-view+json": {
       "model_id": "db1567885ed94791a71720c25bd442cb",
       "version_major": 2,
       "version_minor": 0
      },
      "text/plain": [
       "  0%|          | 0/1008 [00:00<?, ?it/s]"
      ]
     },
     "metadata": {},
     "output_type": "display_data"
    },
    {
     "data": {
      "application/vnd.jupyter.widget-view+json": {
       "model_id": "8c612597390b49c186828ecdd2cfc4c2",
       "version_major": 2,
       "version_minor": 0
      },
      "text/plain": [
       "  0%|          | 0/457 [00:00<?, ?it/s]"
      ]
     },
     "metadata": {},
     "output_type": "display_data"
    },
    {
     "name": "stdout",
     "output_type": "stream",
     "text": [
      "train loss :  0.014067997313326313\n",
      "val loss :  0.01719579922664388\n"
     ]
    }
   ],
   "source": [
    "train_losses = []\n",
    "val_losses = []\n",
    "\n",
    "train_avarage_losses = []\n",
    "val_avarage_losses = []\n",
    "\n",
    "model_folder = configs[\"model_folder\"]\n",
    "best_loss = 1000000\n",
    "\n",
    "for epoch in tqdm(range(configs[\"epoch\"])) :\n",
    "\n",
    "    model.train()\n",
    "\n",
    "    cur_train_loss = []\n",
    "    for input,target in tqdm(train_loader) :\n",
    "\n",
    "        close_price_input = input[:,4,:,None]\n",
    "        close_price_target = target[:,4,:]\n",
    "        close_price_input = close_price_input.to(device)\n",
    "        close_price_target = close_price_target.to(device)\n",
    "\n",
    "        if(close_price_input.shape[0] != configs[\"batch_size\"]) :\n",
    "            continue\n",
    "\n",
    "        optimizer.zero_grad()\n",
    "\n",
    "        output = model(close_price_input)\n",
    "\n",
    "        loss = loss_fn(output,close_price_target)\n",
    "\n",
    "        loss.backward()\n",
    "\n",
    "        optimizer.step()\n",
    "\n",
    "        train_losses.append(loss.to(torch.device(\"cpu\")).item())\n",
    "        cur_train_loss.append(loss.to(torch.device(\"cpu\")).item())\n",
    "\n",
    "    avarage_train_loss = np.mean(np.array(cur_train_loss))\n",
    "    train_avarage_losses.append(avarage_train_loss)\n",
    "\n",
    "    model.eval()\n",
    "\n",
    "    with torch.no_grad() :\n",
    "        cur_val_loss = []\n",
    "        for input,target in tqdm(val_loader) :\n",
    "\n",
    "            close_price_input = input[:,4,:,None]\n",
    "            close_price_target = target[:,4,:]\n",
    "            close_price_input = close_price_input.to(device)\n",
    "            close_price_target = close_price_target.to(device)\n",
    "\n",
    "            if(close_price_input.shape[0] != configs[\"batch_size\"]) :\n",
    "                continue\n",
    "\n",
    "            output = model(close_price_input)\n",
    "\n",
    "            loss = loss_fn(output,close_price_target)\n",
    "\n",
    "            val_losses.append(loss.to(torch.device(\"cpu\")).item())\n",
    "            cur_val_loss.append(loss.to(torch.device(\"cpu\")).item())\n",
    "\n",
    "        avarage_val_loss = np.mean(np.array(cur_val_loss))\n",
    "        val_avarage_losses.append(avarage_val_loss)\n",
    "\n",
    "        scheduler.step(avarage_val_loss)\n",
    "        \n",
    "        if(best_loss > avarage_val_loss) :\n",
    "\n",
    "            state = {\n",
    "                'epoch': epoch,\n",
    "                'model': model.state_dict(),\n",
    "                'optimizer': optimizer.state_dict(),\n",
    "                'scheduler': scheduler.state_dict(),\n",
    "                'train_loss': avarage_train_loss,\n",
    "                'val_loss': avarage_val_loss,\n",
    "                'best_val_loss': best_loss,\n",
    "            }\n",
    "\n",
    "            torch.save(state, model_folder + \"LSTM.pth.tar\")\n",
    "\n",
    "    print(\"train loss : \",avarage_train_loss)\n",
    "    print(\"val loss : \",avarage_val_loss)\n"
   ]
  },
  {
   "cell_type": "code",
   "execution_count": 9,
   "metadata": {},
   "outputs": [
    {
     "data": {
      "image/png": "[encoded data removed]",
      "text/plain": [
       "<Figure size 640x480 with 1 Axes>"
      ]
     },
     "metadata": {},
     "output_type": "display_data"
    }
   ],
   "source": [
    "plt.plot(train_losses)\n",
    "plt.plot(val_losses)\n",
    "plt.show()"
   ]
  },
  {
   "cell_type": "code",
   "execution_count": 10,
   "metadata": {},
   "outputs": [],
   "source": [
    "train_losses_file = open(configs[\"model_folder\"] + \"train_losses.txt\",'w')\n",
    "val_losses_file = open(configs[\"model_folder\"] + \"val_losses.txt\",\"w\")\n",
    "\n",
    "for value in train_losses :\n",
    "    train_losses_file.write(f\"{value}\\n\")\n",
    "\n",
    "for value in val_losses :\n",
    "    val_losses_file.write(f\"{value}\\n\")\n",
    "\n",
    "train_losses_file.close()\n",
    "val_losses_file.close()"
   ]
  },
  {
   "cell_type": "code",
   "execution_count": 11,
   "metadata": {},
   "outputs": [
    {
     "data": {
      "application/vnd.jupyter.widget-view+json": {
       "model_id": "bca7a06cd55748eeb9785afb540937ee",
       "version_major": 2,
       "version_minor": 0
      },
      "text/plain": [
       "  0%|          | 0/1451 [00:00<?, ?it/s]"
      ]
     },
     "metadata": {},
     "output_type": "display_data"
    },
    {
     "name": "stdout",
     "output_type": "stream",
     "text": [
      "0.01516277819229611\n"
     ]
    }
   ],
   "source": [
    "best_model = StockLSTM()\n",
    "best_model.load_state_dict(torch.load(configs[\"model_folder\"] + \"LSTM.pth.tar\")['model'])\n",
    "\n",
    "best_model.to(device)\n",
    "best_model.eval()\n",
    "\n",
    "with torch.no_grad() :\n",
    "    cur_test_loss = []\n",
    "    for input,target in tqdm(test_loader) :\n",
    "\n",
    "        close_price_input = input[:,4,:,None]\n",
    "        close_price_target = target[:,4,:]\n",
    "        close_price_input = close_price_input.to(device)\n",
    "        close_price_target = close_price_target.to(device)\n",
    "\n",
    "        if(close_price_input.shape[0] != configs[\"batch_size\"]) :\n",
    "            continue\n",
    "\n",
    "        output = best_model(close_price_input)\n",
    "\n",
    "        loss = loss_fn(output,close_price_target)\n",
    "\n",
    "        cur_test_loss.append(loss.to(torch.device(\"cpu\")).item())\n",
    "\n",
    "    avarage_test_loss = np.mean(np.array(cur_test_loss))\n",
    "\n",
    "print(avarage_test_loss)"
   ]
  },
  {
   "cell_type": "code",
   "execution_count": 13,
   "metadata": {},
   "outputs": [
    {
     "data": {
      "image/png": "[encoded data removed]",
      "text/plain": [
       "<Figure size 640x480 with 1 Axes>"
      ]
     },
     "metadata": {},
     "output_type": "display_data"
    },
    {
     "data": {
      "image/png": "[encoded data removed]",
      "text/plain": [
       "<Figure size 640x480 with 1 Axes>"
      ]
     },
     "metadata": {},
     "output_type": "display_data"
    }
   ],
   "source": [
    "plt.plot(train_avarage_losses[1:])\n",
    "plt.show()\n",
    "\n",
    "plt.plot(val_avarage_losses)\n",
    "plt.show()"
   ]
  },
  {
   "cell_type": "code",
   "execution_count": 49,
   "metadata": {},
   "outputs": [
    {
     "data": {
      "application/vnd.jupyter.widget-view+json": {
       "model_id": "35ef2fc005ea4fc7a87bf00498acb1b4",
       "version_major": 2,
       "version_minor": 0
      },
      "text/plain": [
       "  0%|          | 0/1 [00:00<?, ?it/s]"
      ]
     },
     "metadata": {},
     "output_type": "display_data"
    },
    {
     "data": {
      "application/vnd.jupyter.widget-view+json": {
       "model_id": "66e4085de9124149a5baf1c3ed56802f",
       "version_major": 2,
       "version_minor": 0
      },
      "text/plain": [
       "  0%|          | 0/51 [00:00<?, ?it/s]"
      ]
     },
     "metadata": {},
     "output_type": "display_data"
    },
    {
     "name": "stdout",
     "output_type": "stream",
     "text": [
      "tensor([0.], device='cuda:0') tensor(-0.0010, device='cuda:0')\n",
      "tensor([0.], device='cuda:0') tensor(-0.0010, device='cuda:0')\n",
      "tensor([-0.0020], device='cuda:0') tensor(-0.0010, device='cuda:0')\n",
      "tensor([-0.0012], device='cuda:0') tensor(-0.0010, device='cuda:0')\n",
      "tensor([-0.0044], device='cuda:0') tensor(-0.0010, device='cuda:0')\n",
      "tensor([-0.0564], device='cuda:0') tensor(-0.0010, device='cuda:0')\n",
      "tensor([-0.0014], device='cuda:0') tensor(-0.0010, device='cuda:0')\n",
      "tensor([0.0040], device='cuda:0') tensor(-0.0010, device='cuda:0')\n",
      "tensor([-0.0095], device='cuda:0') tensor(-0.0010, device='cuda:0')\n",
      "tensor([0.0073], device='cuda:0') tensor(-0.0010, device='cuda:0')\n",
      "tensor([0.0333], device='cuda:0') tensor(-0.0010, device='cuda:0')\n",
      "tensor([0.0054], device='cuda:0') tensor(-0.0010, device='cuda:0')\n",
      "tensor([-0.0100], device='cuda:0') tensor(-0.0010, device='cuda:0')\n",
      "tensor([0.0063], device='cuda:0') tensor(-0.0010, device='cuda:0')\n",
      "tensor([0.0119], device='cuda:0') tensor(-0.0010, device='cuda:0')\n",
      "tensor([-0.0041], device='cuda:0') tensor(-0.0010, device='cuda:0')\n",
      "tensor([0.0068], device='cuda:0') tensor(-0.0010, device='cuda:0')\n",
      "tensor([0.0206], device='cuda:0') tensor(-0.0010, device='cuda:0')\n",
      "tensor([-0.0009], device='cuda:0') tensor(-0.0010, device='cuda:0')\n",
      "tensor([0.0163], device='cuda:0') tensor(-0.0010, device='cuda:0')\n",
      "tensor([0.0094], device='cuda:0') tensor(-0.0010, device='cuda:0')\n",
      "tensor([0.0177], device='cuda:0') tensor(-0.0010, device='cuda:0')\n",
      "tensor([0.0262], device='cuda:0') tensor(-0.0010, device='cuda:0')\n",
      "tensor([-0.0011], device='cuda:0') tensor(-0.0010, device='cuda:0')\n",
      "tensor([0.0022], device='cuda:0') tensor(-0.0010, device='cuda:0')\n",
      "tensor([0.0133], device='cuda:0') tensor(-0.0010, device='cuda:0')\n",
      "tensor([-0.0004], device='cuda:0') tensor(-0.0010, device='cuda:0')\n",
      "tensor([0.0019], device='cuda:0') tensor(-0.0010, device='cuda:0')\n",
      "tensor([0.0010], device='cuda:0') tensor(-0.0010, device='cuda:0')\n",
      "tensor([-0.0063], device='cuda:0') tensor(-0.0010, device='cuda:0')\n",
      "tensor([-0.0033], device='cuda:0') tensor(-0.0010, device='cuda:0')\n",
      "tensor([0.0010], device='cuda:0') tensor(-0.0010, device='cuda:0')\n",
      "tensor([-0.0180], device='cuda:0') tensor(-0.0010, device='cuda:0')\n",
      "tensor([0.0777], device='cuda:0') tensor(-0.0010, device='cuda:0')\n",
      "tensor([-0.0047], device='cuda:0') tensor(-0.0010, device='cuda:0')\n",
      "tensor([0.0250], device='cuda:0') tensor(-0.0010, device='cuda:0')\n",
      "tensor([0.0133], device='cuda:0') tensor(-0.0010, device='cuda:0')\n",
      "tensor([-0.0096], device='cuda:0') tensor(-0.0010, device='cuda:0')\n",
      "tensor([0.0073], device='cuda:0') tensor(-0.0010, device='cuda:0')\n",
      "tensor([0.0090], device='cuda:0') tensor(-0.0010, device='cuda:0')\n",
      "tensor([-0.0208], device='cuda:0') tensor(-0.0010, device='cuda:0')\n",
      "tensor([-0.0120], device='cuda:0') tensor(-0.0010, device='cuda:0')\n",
      "tensor([0.0265], device='cuda:0') tensor(-0.0010, device='cuda:0')\n",
      "tensor([0.0160], device='cuda:0') tensor(-0.0010, device='cuda:0')\n",
      "tensor([0.0178], device='cuda:0') tensor(-0.0010, device='cuda:0')\n",
      "tensor([-0.0432], device='cuda:0') tensor(-0.0010, device='cuda:0')\n",
      "tensor([-0.0567], device='cuda:0') tensor(-0.0010, device='cuda:0')\n",
      "tensor([0.0007], device='cuda:0') tensor(-0.0010, device='cuda:0')\n",
      "tensor([0.0087], device='cuda:0') tensor(-0.0010, device='cuda:0')\n",
      "tensor([0.0398], device='cuda:0') tensor(-0.0010, device='cuda:0')\n",
      "tensor([0.0031], device='cuda:0') tensor(-0.0010, device='cuda:0')\n"
     ]
    },
    {
     "data": {
      "image/png": "[encoded data removed]",
      "text/plain": [
       "<Figure size 640x480 with 1 Axes>"
      ]
     },
     "metadata": {},
     "output_type": "display_data"
    },
    {
     "name": "stdout",
     "output_type": "stream",
     "text": [
      "[0.9990309825003704, 0.9990309825003704, 0.9990309825003704, 0.9990309825003704, 0.9990309825003704, 0.9990309825003704, 0.9990309825003704, 0.9990309825003704, 0.9990309825003704, 0.9990309825003704, 0.9990309825003704, 0.9990309825003704, 0.9990309825003704, 0.9990309825003704, 0.9990309825003704, 0.9990309825003704, 0.9990309825003704, 0.9990309825003704, 0.9990309825003704, 0.9990309825003704, 0.9990309825003704, 0.9990309825003704, 0.9990309825003704, 0.9990309825003704, 0.9990309825003704, 0.9990309825003704, 0.9990309825003704, 0.9990309825003704, 0.9990309825003704, 0.9990309825003704, 0.9990309825003704, 0.9990309825003704, 0.9990309825003704, 0.9990309825003704, 0.9990309825003704, 0.9990309825003704, 0.9990309825003704, 0.9990309825003704, 0.9990309825003704, 0.9990309825003704, 0.9990309825003704, 0.9990309825003704, 0.9990309825003704, 0.9990309825003704, 0.9990309825003704, 0.9990309825003704, 0.9990309825003704, 0.9990309825003704, 0.9990309825003704, 0.9990309825003704, 0.9990309825003704, 0.9990309825003704, 0.9990309825003704, 0.9990309825003704, 0.9990309825003704, 0.9990309825003704, 0.9990309825003704, 0.9990309825003704, 0.9990309825003704, 0.9990309825003704, 0.9990309825003704, 0.9990309825003704, 0.9990309825003704, 0.9990309825003704, 0.9990309825003704, 0.9990309825003704, 0.9990309825003704, 0.9990309825003704, 0.9990309825003704, 0.9990309825003704, 0.9990309825003704, 0.9990309825003704, 0.9990309825003704, 0.9990309825003704, 0.9990309825003704, 0.9990309825003704, 0.9990309825003704, 0.9990309825003704, 0.9990309825003704, 0.9990309825003704, 0.9990309825003704, 0.9990309825003704, 0.9990309825003704, 0.9990309825003704, 0.9990309825003704, 0.9990309825003704, 0.9990309825003704, 0.9990309825003704, 0.9990309825003704, 0.9990309825003704, 0.9990309825003704, 0.9990309825003704, 0.9990309825003704, 0.9990309825003704, 0.9990309825003704, 0.9990309825003704, 0.9990309825003704, 0.9990309825003704, 0.9990309825003704, 0.9990309825003704, 0.9990309825003704, 0.9990309825003704, 0.9990309825003704, 0.9990309825003704, 0.9990309825003704, 0.9990309825003704, 0.9990309825003704, 0.9990309825003704, 0.9990309825003704, 0.9990309825003704, 0.9990309825003704, 0.9990309825003704, 0.9990309825003704, 0.9990309825003704, 0.9990309825003704, 0.9990309825003704, 0.9990309825003704, 0.9990309825003704, 0.9990309825003704, 0.9990309825003704, 0.9990309825003704, 0.9990309825003704, 0.9990309825003704, 0.9990309825003704, 0.9990309825003704, 0.9990309825003704, 0.9990309825003704, 0.9990309825003704, 0.9990309825003704, 0.9990309825003704, 0.9990309825003704, 0.9990309825003704, 0.9990309825003704, 0.9990309825003704, 0.9990309825003704, 0.9990309825003704, 0.9990309825003704, 0.9990309825003704, 0.9990309825003704, 0.9990309825003704, 0.9990309825003704, 0.9990309825003704, 0.9990309825003704, 0.9990309825003704, 0.9990309825003704, 0.9990309825003704, 0.9990309825003704, 0.9990309825003704, 0.9990309825003704, 0.9990309825003704, 0.9990309825003704, 0.9990309825003704, 0.9990309825003704, 0.9990309825003704, 0.9990309825003704, 0.9990309825003704, 0.9990309825003704, 0.9990309825003704, 0.9990309825003704, 0.9990309825003704, 0.9990309825003704, 0.9990309825003704, 0.9990309825003704, 0.9990309825003704, 0.9990309825003704, 0.9990309825003704, 0.9990309825003704, 0.9990309825003704, 0.9990309825003704, 0.9990309825003704, 0.9990309825003704, 0.9990309825003704, 0.9990309825003704, 0.9990309825003704, 0.9990309825003704, 0.9990309825003704, 0.9990309825003704, 0.9990309825003704, 0.9990309825003704, 0.9990309825003704, 0.9990309825003704, 0.9990309825003704, 0.9990309825003704, 0.9990309825003704, 0.9990309825003704, 0.9990309825003704, 0.9990309825003704, 0.9990309825003704, 0.9990309825003704, 0.9990309825003704, 0.9990309825003704, 0.9990309825003704, 0.9990309825003704, 0.9990309825003704, 0.9990309825003704, 0.9990309825003704, 0.9990309825003704, 0.9990309825003704, 0.9990309825003704, 0.9990309825003704, 0.9990309825003704, 0.9990309825003704, 0.9990309825003704, 0.9990309825003704, 0.9990309825003704, 0.9990309825003704, 0.9990309825003704, 0.9990309825003704, 0.9990309825003704, 0.9990309825003704, 0.9990309825003704, 0.9990309825003704, 0.9990309825003704, 0.9990309825003704, 0.9990309825003704, 0.9990309825003704, 0.9990309825003704, 0.9990309825003704, 0.9990309825003704, 0.9990309825003704, 0.9990309825003704, 0.9990309825003704, 0.9990309825003704, 0.9990309825003704, 0.9990309825003704, 0.9990309825003704, 0.9990309825003704, 0.9990309825003704, 0.9990309825003704, 0.9990309825003704, 0.9990309825003704, 0.9990309825003704, 0.9990309825003704, 0.9990309825003704, 0.9990309825003704, 0.9990309825003704, 0.9990309825003704, 0.9990309825003704, 0.9990309825003704, 0.9990309825003704, 0.9990309825003704, 0.9990309825003704, 0.9990309825003704, 0.9990309825003704, 0.9990309825003704, 0.9990309825003704, 0.9990309825003704, 0.9990309825003704, 0.9990309825003704, 0.9990309825003704, 0.9990309825003704, 0.9990309825003704, 0.9990309825003704, 0.9990309825003704, 0.9990309825003704, 0.9990309825003704, 0.9990309825003704, 0.9990309825003704, 0.9990309825003704, 0.9990309825003704, 0.9990309825003704, 0.9990309825003704, 0.9990309825003704, 0.9990309825003704, 0.9990309825003704, 0.9990309825003704, 0.9990309825003704, 0.9990309825003704, 0.9990309825003704, 0.9990309825003704, 0.9990309825003704, 0.9990309825003704, 0.9990309825003704, 0.9990309825003704, 0.9990309825003704, 0.9990309825003704, 0.9990309825003704, 0.9990309825003704, 0.9990309825003704, 0.9990309825003704, 0.9990309825003704, 0.9990309825003704, 0.9990309825003704, 0.9990309825003704, 0.9990309825003704, 0.9990309825003704, 0.9990309825003704, 0.9990309825003704, 0.9990309825003704, 0.9990309825003704, 0.9990309825003704, 0.9990309825003704, 0.9990309825003704, 0.9990309825003704, 0.9990309825003704, 0.9990309825003704, 0.9990309825003704, 0.9990309825003704, 0.9990309825003704, 0.9990309825003704, 0.9990309825003704, 0.9990309825003704, 0.9990309825003704, 0.9990309825003704, 0.9990309825003704, 0.9990309825003704, 0.9990309825003704, 0.9990309825003704, 0.9990309825003704, 0.9990309825003704, 0.9990309825003704, 0.9990309825003704, 0.9990309825003704, 0.9990309825003704, 0.9990309825003704, 0.9990309825003704, 0.9990309825003704, 0.9990309825003704, 0.9990309825003704, 0.9990309825003704, 0.9990309825003704, 0.9990309825003704, 0.9990309825003704, 0.9990309825003704, 0.9990309825003704, 0.9990309825003704, 0.9990309825003704, 0.9990309825003704, 0.9990309825003704, 0.9990309825003704, 0.9990309825003704, 0.9990309825003704, 0.9990309825003704, 0.9990309825003704, 0.9990309825003704, 0.9990309825003704, 0.9990309825003704, 0.9990309825003704, 0.9990309825003704, 0.9990309825003704, 0.9990309825003704, 0.9990309825003704, 0.9990309825003704, 0.9990309825003704, 0.9990309825003704, 0.9990309825003704, 0.9990309825003704, 0.9990309825003704, 0.9990309825003704, 0.9990309825003704, 0.9990309825003704, 0.9990309825003704, 0.9990309825003704, 0.9990309825003704, 0.9990309825003704, 0.9990309825003704, 0.9990309825003704, 0.9990309825003704, 0.9990309825003704, 0.9990309825003704, 0.9990309825003704, 0.9990309825003704, 0.9990309825003704, 0.9990309825003704, 0.9990309825003704, 0.9990309825003704, 0.9990309825003704, 0.9990309825003704, 0.9990309825003704, 0.9990309825003704, 0.9990309825003704, 0.9990309825003704, 0.9990309825003704, 0.9990309825003704, 0.9990309825003704, 0.9990309825003704, 0.9990309825003704, 0.9990309825003704, 0.9990309825003704, 0.9990309825003704, 0.9990309825003704, 0.9990309825003704, 0.9990309825003704, 0.9990309825003704, 0.9990309825003704, 0.9990309825003704, 0.9990309825003704, 0.9990309825003704, 0.9990309825003704, 0.9990309825003704, 0.9990309825003704, 0.9990309825003704, 0.9990309825003704, 0.9990309825003704, 0.9990309825003704, 0.9990309825003704, 0.9990309825003704, 0.9990309825003704, 0.9990309825003704, 0.9990309825003704, 0.9990309825003704, 0.9990309825003704, 0.9990309825003704, 0.9990309825003704, 0.9990309825003704, 0.9990309825003704, 0.9990309825003704, 0.9990309825003704, 0.9990309825003704, 0.9990309825003704, 0.9990309825003704, 0.9990309825003704, 0.9990309825003704, 0.9990309825003704, 0.9990309825003704, 0.9990309825003704, 0.9990309825003704, 0.9990309825003704, 0.9990309825003704, 0.9990309825003704, 0.9990309825003704, 0.9990309825003704, 0.9990309825003704, 0.9990309825003704, 0.9990309825003704, 0.9990309825003704, 0.9990309825003704, 0.9990309825003704, 0.9990309825003704, 0.9990309825003704, 0.9990309825003704, 0.9990309825003704, 0.9990309825003704, 0.9990309825003704, 0.9990309825003704, 0.9990309825003704, 0.9990309825003704, 0.9990309825003704, 0.9990309825003704, 0.9990309825003704, 0.9990309825003704, 0.9990309825003704, 0.9990309825003704, 0.9990309825003704, 0.9990309825003704, 0.9990309825003704, 0.9990309825003704, 0.9990309825003704, 0.9990309825003704, 0.9990309825003704, 0.9990309825003704, 0.9990309825003704, 0.9990309825003704, 0.9990309825003704, 0.9990309825003704, 0.9990309825003704, 0.9990309825003704, 0.9990309825003704, 0.9990309825003704, 0.9990309825003704, 0.9990309825003704, 0.9990309825003704, 0.9990309825003704, 0.9990309825003704, 0.9990309825003704, 0.9990309825003704, 0.9990309825003704, 0.9990309825003704, 0.9990309825003704, 0.9990309825003704, 0.9990309825003704, 0.9990309825003704, 0.9990309825003704, 0.9990309825003704, 0.9990309825003704, 0.9990309825003704, 0.9990309825003704, 0.9990309825003704, 0.9990309825003704, 0.9990309825003704, 0.9990309825003704, 0.9990309825003704, 0.9990309825003704, 0.9990309825003704, 0.9990309825003704, 0.9990309825003704, 0.9990309825003704, 0.9990309825003704, 0.9990309825003704, 0.9990309825003704, 0.9990309825003704, 0.9990309825003704, 0.9990309825003704, 0.9990309825003704, 0.9990309825003704, 0.9990309825003704, 0.9990309825003704, 0.9990309825003704, 0.9990309825003704, 0.9990309825003704, 0.9990309825003704, 0.9990309825003704, 0.9990309825003704, 0.9990309825003704, 0.9990309825003704, 0.9990309825003704, 0.9990309825003704, 0.9990309825003704, 0.9990309825003704, 0.9990309825003704, 0.9990309825003704, 0.9990309825003704, 0.9990309825003704, 0.9990309825003704, 0.9990309825003704, 0.9990309825003704, 0.9990309825003704, 0.9990309825003704, 0.9990309825003704, 0.9990309825003704, 0.9990309825003704, 0.9990309825003704, 0.9990309825003704, 0.9990309825003704, 0.9990309825003704, 0.9990309825003704, 0.9990309825003704, 0.9990309825003704, 0.9990309825003704, 0.9990309825003704, 0.9990309825003704, 0.9990309825003704, 0.9990309825003704, 0.9990309825003704, 0.9990309825003704, 0.9990309825003704, 0.9990309825003704, 0.9990309825003704, 0.9990309825003704, 0.9990309825003704, 0.9990309825003704, 0.9990309825003704, 0.9990309825003704, 0.9990309825003704, 0.9990309825003704, 0.9990309825003704, 0.9990309825003704, 0.9990309825003704, 0.9990309825003704, 0.9990309825003704, 0.9990309825003704, 0.9990309825003704, 0.9990309825003704, 0.9990309825003704, 0.9990309825003704, 0.9990309825003704, 0.9990309825003704, 0.9990309825003704, 0.9990309825003704, 0.9990309825003704, 0.9990309825003704, 0.9990309825003704, 0.9990309825003704, 0.9990309825003704, 0.9990309825003704, 0.9990309825003704, 0.9990309825003704, 0.9990309825003704, 0.9990309825003704, 0.9990309825003704, 0.9990309825003704, 0.9990309825003704, 0.9990309825003704, 0.9990309825003704, 0.9990309825003704, 0.9990309825003704, 0.9990309825003704, 0.9990309825003704, 0.9990309825003704, 0.9990309825003704, 0.9990309825003704, 0.9990309825003704, 0.9990309825003704, 0.9990309825003704, 0.9990309825003704, 0.9990309825003704, 0.9990309825003704, 0.9990309825003704, 0.9990309825003704, 0.9990309825003704, 0.9990309825003704, 0.9990309825003704, 0.9990309825003704, 0.9990309825003704, 0.9990309825003704, 0.9990309825003704, 0.9990309825003704, 0.9990309825003704, 0.9990309825003704, 0.9990309825003704, 0.9990309825003704, 0.9990309825003704, 0.9990309825003704, 0.9990309825003704, 0.9990309825003704, 0.9990309825003704, 0.9990309825003704, 0.9990309825003704, 0.9990309825003704, 0.9990309825003704, 0.9990309825003704, 0.9990309825003704, 0.9990309825003704, 0.9990309825003704, 0.9990309825003704, 0.9990309825003704, 0.9990309825003704, 0.9990309825003704, 0.9990309825003704, 0.9990309825003704, 0.9990309825003704, 0.9990309825003704, 0.9990309825003704, 0.9990309825003704, 0.9990309825003704, 0.9990309825003704, 0.9990309825003704, 0.9990309825003704, 0.9990309825003704, 0.9990309825003704, 0.9990309825003704, 0.9990309825003704, 0.9990309825003704, 0.9990309825003704, 0.9990309825003704, 0.9990309825003704, 0.9990309825003704, 0.9990309825003704, 0.9990309825003704, 0.9990309825003704, 0.9990309825003704, 0.9990309825003704, 0.9990309825003704, 0.9990309825003704, 0.9990309825003704, 0.9990309825003704, 0.9990309825003704, 0.9990309825003704, 0.9990309825003704, 0.9990309825003704, 0.9990309825003704, 0.9990309825003704, 0.9990309825003704, 0.9990309825003704, 0.9990309825003704, 0.9990309825003704, 0.9990309825003704, 0.9990309825003704, 0.9990309825003704, 0.9990309825003704, 0.9990309825003704, 0.9990309825003704, 0.9990309825003704, 0.9990309825003704, 0.9990309825003704, 0.9990309825003704, 0.9990309825003704, 0.9990309825003704, 0.9990309825003704, 0.9990309825003704, 0.9990309825003704, 0.9990309825003704, 0.9990309825003704, 0.9990309825003704, 0.9990309825003704, 0.9990309825003704, 0.9990309825003704, 0.9990309825003704, 0.9990309825003704, 0.9990309825003704, 0.9990309825003704, 0.9990309825003704, 0.9990309825003704, 0.9990309825003704, 0.9990309825003704, 0.9990309825003704, 0.9990309825003704, 0.9990309825003704, 0.9990309825003704, 0.9990309825003704, 0.9990309825003704, 0.9990309825003704, 0.9990309825003704, 0.9990309825003704, 0.9990309825003704, 0.9990309825003704, 0.9990309825003704, 0.9990309825003704, 0.9990309825003704, 0.9990309825003704, 0.9990309825003704, 0.9990309825003704, 0.9990309825003704, 0.9990309825003704, 0.9990309825003704, 0.9990309825003704, 0.9990309825003704, 0.9990309825003704, 0.9990309825003704, 0.9990309825003704, 0.9990309825003704, 0.9990309825003704, 0.9990309825003704, 0.9990309825003704, 0.9990309825003704, 0.9990309825003704, 0.9990309825003704, 0.9990309825003704, 0.9990309825003704, 0.9990309825003704, 0.9990309825003704, 0.9990309825003704, 0.9990309825003704, 0.9990309825003704, 0.9990309825003704, 0.9990309825003704, 0.9990309825003704, 0.9990309825003704, 0.9990309825003704, 0.9990309825003704, 0.9990309825003704, 0.9990309825003704, 0.9990309825003704, 0.9990309825003704, 0.9990309825003704, 0.9990309825003704, 0.9990309825003704, 0.9990309825003704, 0.9990309825003704, 0.9990309825003704, 0.9990309825003704, 0.9990309825003704, 0.9990309825003704, 0.9990309825003704, 0.9990309825003704, 0.9990309825003704, 0.9990309825003704, 0.9990309825003704, 0.9990309825003704, 0.9990309825003704, 0.9990309825003704, 0.9990309825003704, 0.9990309825003704, 0.9990309825003704, 0.9990309825003704, 0.9990309825003704, 0.9990309825003704, 0.9990309825003704, 0.9990309825003704, 0.9990309825003704, 0.9990309825003704, 0.9990309825003704, 0.9990309825003704, 0.9990309825003704, 0.9990309825003704, 0.9990309825003704, 0.9990309825003704, 0.9990309825003704, 0.9990309825003704, 0.9990309825003704, 0.9990309825003704, 0.9990309825003704, 0.9990309825003704, 0.9990309825003704, 0.9990309825003704, 0.9990309825003704, 0.9990309825003704, 0.9990309825003704, 0.9990309825003704, 0.9990309825003704, 0.9990309825003704, 0.9990309825003704, 0.9990309825003704, 0.9990309825003704, 0.9990309825003704, 0.9990309825003704, 0.9990309825003704, 0.9990309825003704, 0.9990309825003704, 0.9990309825003704, 0.9990309825003704, 0.9990309825003704, 0.9990309825003704, 0.9990309825003704, 0.9990309825003704, 0.9990309825003704, 0.9990309825003704, 0.9990309825003704, 0.9990309825003704, 0.9990309825003704, 0.9990309825003704, 0.9990309825003704, 0.9990309825003704, 0.9990309825003704, 0.9990309825003704, 0.9990309825003704, 0.9990309825003704, 0.9990309825003704, 0.9990309825003704, 0.9990309825003704, 0.9990309825003704, 0.9990309825003704, 0.9990309825003704, 0.9990309825003704, 0.9990309825003704, 0.9990309825003704, 0.9990309825003704, 0.9990309825003704, 0.9990309825003704, 0.9990309825003704, 0.9990309825003704, 0.9990309825003704, 0.9990309825003704, 0.9990309825003704, 0.9990309825003704, 0.9990309825003704, 0.9990309825003704, 0.9990309825003704, 0.9990309825003704, 0.9990309825003704, 0.9990309825003704, 0.9990309825003704, 0.9990309825003704, 0.9990309825003704, 0.9990309825003704, 0.9990309825003704, 0.9990309825003704, 0.9990309825003704, 0.9990309825003704, 0.9990309825003704, 0.9990309825003704, 0.9990309825003704, 0.9990309825003704, 0.9990309825003704, 0.9990309825003704, 0.9990309825003704, 0.9990309825003704, 0.9990309825003704, 0.9990309825003704, 0.9990309825003704, 0.9990309825003704, 0.9990309825003704, 0.9990309825003704, 0.9990309825003704, 0.9990309825003704, 0.9990309825003704, 0.9990309825003704, 0.9990309825003704, 0.9990309825003704, 0.9990309825003704, 0.9990309825003704, 0.9990309825003704, 0.9990309825003704, 0.9990309825003704, 0.9990309825003704, 0.9990309825003704, 0.9990309825003704, 0.9990309825003704, 0.9990309825003704, 0.9990309825003704, 0.9990309825003704, 0.9990309825003704, 0.9990309825003704, 0.9990309825003704, 0.9990309825003704, 0.9990309825003704, 0.9990309825003704, 0.9990309825003704, 0.9990309825003704, 0.9990309825003704, 0.9990309825003704, 0.9990309825003704, 0.9990309825003704, 0.9990309825003704, 0.9990309825003704, 0.9990309825003704, 0.9990309825003704, 0.9990309825003704, 0.9990309825003704, 0.9990309825003704, 0.9990309825003704, 0.9990309825003704, 0.9990309825003704, 0.9990309825003704, 0.9990309825003704, 0.9990309825003704, 0.9990309825003704, 0.9990309825003704, 0.9990309825003704, 0.9990309825003704, 0.9990309825003704, 0.9990309825003704, 0.9990309825003704, 0.9990309825003704, 0.9990309825003704, 0.9990309825003704, 0.9990309825003704, 0.9990309825003704, 0.9990309825003704, 0.9990309825003704, 0.9990309825003704, 0.9990309825003704, 0.9990309825003704, 0.9990309825003704, 0.9990309825003704, 0.9990309825003704, 0.9990309825003704, 0.9990309825003704, 0.9990309825003704, 0.9990309825003704, 0.9990309825003704, 0.9990309825003704, 0.9990309825003704, 0.9990309825003704, 0.9990309825003704, 0.9990309825003704, 0.9990309825003704, 0.9990309825003704, 0.9990309825003704, 0.9990309825003704, 0.9990309825003704, 0.9990309825003704, 0.9990309825003704, 0.9990309825003704, 0.9990309825003704, 0.9990309825003704, 0.9990309825003704, 0.9990309825003704, 0.9990309825003704, 0.9990309825003704, 0.9990309825003704, 0.9990309825003704, 0.9990309825003704, 0.9990309825003704, 0.9990309825003704, 0.9990309825003704, 0.9990309825003704, 0.9990309825003704, 0.9990309825003704, 0.9990309825003704, 0.9990309825003704, 0.9990309825003704, 0.9990309825003704, 0.9990309825003704, 0.9990309825003704, 0.9990309825003704, 0.9990309825003704, 0.9990309825003704, 0.9990309825003704, 0.9990309825003704, 0.9990309825003704, 0.9990309825003704, 0.9990309825003704, 0.9990309825003704, 0.9990309825003704, 0.9990309825003704, 0.9990309825003704, 0.9990309825003704, 0.9990309825003704, 0.9990309825003704, 0.9990309825003704, 0.9990309825003704, 0.9990309825003704, 0.9990309825003704, 0.9990309825003704, 0.9990309825003704, 0.9990309825003704, 0.9990309825003704, 0.9990309825003704, 0.9990309825003704, 0.9990309825003704, 0.9990309825003704, 0.9990309825003704, 0.9990309825003704, 0.9990309825003704, 0.9990309825003704, 0.9990309825003704, 0.9990309825003704, 0.9990309825003704, 0.9990309825003704, 0.9990309825003704, 0.9990309825003704, 0.9990309825003704, 0.9990309825003704, 0.9990309825003704, 0.9990309825003704, 0.9990309825003704, 0.9990309825003704, 0.9990309825003704, 0.9990309825003704, 0.9990309825003704, 0.9990309825003704, 0.9990309825003704, 0.9990309825003704, 0.9990309825003704, 0.9990309825003704, 0.9990309825003704, 0.9990309825003704, 0.9990309825003704, 0.9990309825003704, 0.9990309825003704, 0.9990309825003704, 0.9990309825003704, 0.9990309825003704, 0.9990309825003704, 0.9990309825003704, 0.9990309825003704, 0.9990309825003704, 0.9990309825003704, 0.9990309825003704, 0.9990309825003704, 0.9990309825003704, 0.9990309825003704, 0.9990309825003704, 0.9990309825003704, 0.9990309825003704, 0.9990309825003704, 0.9990309825003704, 0.9990309825003704, 0.9990309825003704, 0.9990309825003704, 0.9990309825003704, 0.9990309825003704, 0.9990309825003704, 0.9990309825003704, 0.9990309825003704, 0.9990309825003704, 0.9990309825003704, 0.9990309825003704, 0.9990309825003704, 0.9990309825003704, 0.9990309825003704, 0.9990309825003704, 0.9990309825003704, 0.9990309825003704, 0.9990309825003704, 0.9990309825003704, 0.9990309825003704, 0.9990309825003704, 0.9990309825003704, 0.9990309825003704, 0.9990309825003704, 0.9990309825003704, 0.9990309825003704, 0.9990309825003704, 0.9990309825003704, 0.9990309825003704, 0.9990309825003704, 0.9990309825003704, 0.9990309825003704, 0.9990309825003704, 0.9990309825003704, 0.9990309825003704, 0.9990309825003704, 0.9990309825003704, 0.9990309825003704, 0.9990309825003704, 0.9990309825003704, 0.9990309825003704, 0.9990309825003704, 0.9990309825003704, 0.9990309825003704, 0.9990309825003704, 0.9990309825003704, 0.9990309825003704, 0.9990309825003704, 0.9990309825003704, 0.9990309825003704, 0.9990309825003704, 0.9990309825003704, 0.9990309825003704, 0.9990309825003704, 0.9990309825003704, 0.9990309825003704, 0.9990309825003704, 0.9990309825003704, 0.9990309825003704, 0.9990309825003704, 0.9990309825003704, 0.9990309825003704, 0.9990309825003704, 0.9990309825003704, 0.9990309825003704, 0.9990309825003704, 0.9990309825003704, 0.9990309825003704, 0.9990309825003704, 0.9990309825003704, 0.9990309825003704, 0.9990309825003704, 0.9990309825003704, 0.9990309825003704, 0.9990309825003704, 0.9990309825003704, 0.9990309825003704, 0.9990309825003704, 0.9990309825003704, 0.9990309825003704, 0.9990309825003704, 0.9990309825003704, 0.9990309825003704, 0.9990309825003704, 0.9990309825003704, 0.9990309825003704, 0.9990309825003704, 0.9990309825003704, 0.9990309825003704, 0.9990309825003704, 0.9990309825003704, 0.9990309825003704, 0.9990309825003704, 0.9990309825003704, 0.9990309825003704, 0.9990309825003704, 0.9990309825003704, 0.9990309825003704, 0.9990309825003704, 0.9990309825003704, 0.9990309825003704, 0.9990309825003704, 0.9990309825003704, 0.9990309825003704, 0.9990309825003704, 0.9990309825003704, 0.9990309825003704, 0.9990309825003704, 0.9990309825003704, 0.9990309825003704, 0.9990309825003704, 0.9990309825003704, 0.9990309825003704, 0.9990309825003704, 0.9990309825003704, 0.9990309825003704, 0.9990309825003704, 0.9990309825003704, 0.9990309825003704, 0.9990309825003704, 0.9990309825003704, 0.9990309825003704, 0.9990309825003704, 0.9990309825003704, 0.9990309825003704, 0.9990309825003704, 0.9990309825003704, 0.9990309825003704, 0.9990309825003704, 0.9990309825003704, 0.9990309825003704, 0.9990309825003704, 0.9990309825003704, 0.9990309825003704, 0.9990309825003704, 0.9990309825003704, 0.9990309825003704, 0.9990309825003704, 0.9990309825003704, 0.9990309825003704, 0.9990309825003704, 0.9990309825003704, 0.9990309825003704, 0.9990309825003704, 0.9990309825003704, 0.9990309825003704, 0.9990309825003704, 0.9990309825003704, 0.9990309825003704, 0.9990309825003704, 0.9990309825003704, 0.9990309825003704, 0.9990309825003704, 0.9990309825003704, 0.9990309825003704, 0.9990309825003704, 0.9990309825003704, 0.9990309825003704, 0.9990309825003704, 0.9990309825003704, 0.9990309825003704, 0.9990309825003704, 0.9990309825003704, 0.9990309825003704, 0.9990309825003704, 0.9990309825003704, 0.9990309825003704, 0.9990309825003704, 0.9990309825003704, 0.9990309825003704, 0.9990309825003704, 0.9990309825003704, 0.9990309825003704, 0.9990309825003704, 0.9990309825003704, 0.9990309825003704, 0.9990309825003704, 0.9990309825003704, 0.9990309825003704, 0.9990309825003704, 0.9990309825003704, 0.9990309825003704, 0.9990309825003704, 0.9990309825003704, 0.9990309825003704, 0.9990309825003704, 0.9990309825003704, 0.9990309825003704, 0.9990309825003704, 0.9990309825003704, 0.9990309825003704, 0.9990309825003704, 0.9990309825003704, 0.9990309825003704, 0.9990309825003704, 0.9990309825003704, 0.9990309825003704, 0.9990309825003704, 0.9990309825003704, 0.9990309825003704, 0.9990309825003704, 0.9990309825003704, 0.9990309825003704, 0.9990309825003704, 0.9990309825003704, 0.9990309825003704, 0.9990309825003704, 0.9990309825003704, 0.9990309825003704, 0.9990309825003704, 0.9990309825003704, 0.9990309825003704, 0.9990309825003704, 0.9990309825003704, 0.9990309825003704, 0.9990309825003704, 0.9990309825003704, 0.9990309825003704, 0.9990309825003704, 0.9990309825003704, 0.9990309825003704, 0.9990309825003704, 0.9990309825003704, 0.9990309825003704, 0.9990309825003704, 0.9990309825003704, 0.9990309825003704, 0.9990309825003704, 0.9990309825003704, 0.9990309825003704, 0.9990309825003704, 0.9990309825003704, 0.9990309825003704, 0.9990309825003704, 0.9990309825003704, 0.9990309825003704, 0.9990309825003704, 0.9990309825003704, 0.9990309825003704, 0.9990309825003704, 0.9990309825003704, 0.9990309825003704, 0.9990309825003704, 0.9990309825003704, 0.9990309825003704, 0.9990309825003704, 0.9990309825003704, 0.9990309825003704, 0.9990309825003704, 0.9990309825003704, 0.9990309825003704, 0.9990309825003704, 0.9990309825003704, 0.9990309825003704, 0.9990309825003704, 0.9990309825003704, 0.9990309825003704, 0.9990309825003704, 0.9990309825003704, 0.9990309825003704, 0.9990309825003704, 0.9990309825003704, 0.9990309825003704, 0.9990309825003704, 0.9990309825003704, 0.9990309825003704, 0.9990309825003704, 0.9990309825003704, 0.9990309825003704, 0.9990309825003704, 0.9990309825003704, 0.9990309825003704, 0.9990309825003704, 0.9990309825003704, 0.9990309825003704, 0.9990309825003704, 0.9990309825003704, 0.9990309825003704, 0.9990309825003704, 0.9990309825003704, 0.9990309825003704, 0.9990309825003704, 0.9990309825003704, 0.9990309825003704, 0.9990309825003704, 0.9990309825003704, 0.9990309825003704, 0.9990309825003704, 0.9990309825003704, 0.9990309825003704, 0.9990309825003704, 0.9990309825003704, 0.9990309825003704, 0.9990309825003704, 0.9990309825003704, 0.9990309825003704, 0.9990309825003704, 0.9990309825003704, 0.9990309825003704, 0.9990309825003704, 0.9990309825003704, 0.9990309825003704, 0.9990309825003704, 0.9990309825003704, 0.9990309825003704, 0.9990309825003704, 0.9990309825003704, 0.9990309825003704, 0.9990309825003704, 0.9990309825003704, 0.9990309825003704, 0.9990309825003704, 0.9990309825003704, 0.9990309825003704, 0.9990309825003704, 0.9990309825003704, 0.9990309825003704, 0.9990309825003704, 0.9990309825003704, 0.9990309825003704, 0.9990309825003704, 0.9990309825003704, 0.9990309825003704, 0.9990309825003704, 0.9990309825003704, 0.9990309825003704, 0.9990309825003704, 0.9990309825003704, 0.9990309825003704, 0.9990309825003704, 0.9990309825003704, 0.9990309825003704, 0.9990309825003704, 0.9990309825003704, 0.9990309825003704, 0.9990309825003704, 0.9990309825003704, 0.9990309825003704, 0.9990309825003704, 0.9990309825003704, 0.9990309825003704, 0.9990309825003704, 0.9990309825003704, 0.9990309825003704, 0.9990309825003704, 0.9990309825003704, 0.9990309825003704, 0.9990309825003704, 0.9990309825003704, 0.9990309825003704, 0.9990309825003704, 0.9990309825003704, 0.9990309825003704, 0.9990309825003704, 0.9990309825003704, 0.9990309825003704, 0.9990309825003704, 0.9990309825003704, 0.9990309825003704, 0.9990309825003704, 0.9990309825003704, 0.9990309825003704, 0.9990309825003704, 0.9990309825003704, 0.9990309825003704, 0.9990309825003704, 0.9990309825003704, 0.9990309825003704, 0.9990309825003704, 0.9990309825003704, 0.9990309825003704, 0.9990309825003704, 0.9990309825003704, 0.9990309825003704, 0.9990309825003704, 0.9990309825003704, 0.9990309825003704, 0.9990309825003704, 0.9990309825003704, 0.9990309825003704, 0.9990309825003704, 0.9990309825003704, 0.9990309825003704, 0.9990309825003704, 0.9990309825003704, 0.9990309825003704, 0.9990309825003704, 0.9990309825003704, 0.9990309825003704, 0.9990309825003704, 0.9990309825003704, 0.9990309825003704, 0.9990309825003704, 0.9990309825003704, 0.9990309825003704, 0.9990309825003704, 0.9990309825003704, 0.9990309825003704, 0.9990309825003704, 0.9990309825003704, 0.9990309825003704, 0.9990309825003704, 0.9990309825003704, 0.9990309825003704, 0.9990309825003704, 0.9990309825003704, 0.9990309825003704, 0.9990309825003704, 0.9990309825003704, 0.9990309825003704, 0.9990309825003704, 0.9990309825003704, 0.9990309825003704, 0.9990309825003704, 0.9990309825003704, 0.9990309825003704, 0.9990309825003704, 0.9990309825003704, 0.9990309825003704, 0.9990309825003704, 0.9990309825003704, 0.9990309825003704, 0.9990309825003704, 0.9990309825003704, 0.9990309825003704, 0.9990309825003704, 0.9990309825003704, 0.9990309825003704, 0.9990309825003704, 0.9990309825003704, 0.9990309825003704, 0.9990309825003704, 0.9990309825003704, 0.9990309825003704, 0.9990309825003704, 0.9990309825003704, 0.9990309825003704, 0.9990309825003704, 0.9990309825003704, 0.9990309825003704, 0.9990309825003704, 0.9990309825003704, 0.9990309825003704, 0.9990309825003704, 0.9990309825003704, 0.9990309825003704, 0.9990309825003704, 0.9990309825003704, 0.9990309825003704, 0.9990309825003704, 0.9990309825003704, 0.9990309825003704, 0.9990309825003704, 0.9990309825003704, 0.9990309825003704, 0.9990309825003704, 0.9990309825003704, 0.9990309825003704, 0.9990309825003704, 0.9990309825003704, 0.9990309825003704, 0.9990309825003704, 0.9990309825003704, 0.9990309825003704, 0.9990309825003704, 0.9990309825003704, 0.9990309825003704, 0.9990309825003704, 0.9990309825003704, 0.9990309825003704, 0.9990309825003704, 0.9990309825003704, 0.9990309825003704, 0.9990309825003704, 0.9990309825003704, 0.9990309825003704, 0.9990309825003704, 0.9990309825003704, 0.9990309825003704, 0.9990309825003704, 0.9990309825003704, 0.9990309825003704, 0.9990309825003704, 0.9990309825003704, 0.9990309825003704, 0.9990309825003704, 0.9990309825003704, 0.9990309825003704, 0.9990309825003704, 0.9990309825003704, 0.9990309825003704, 0.9990309825003704, 0.9990309825003704, 0.9990309825003704, 0.9990309825003704, 0.9990309825003704, 0.9990309825003704, 0.9990309825003704, 0.9990309825003704, 0.9990309825003704, 0.9990309825003704, 0.9990309825003704, 0.9990309825003704, 0.9990309825003704, 0.9990309825003704, 0.9990309825003704, 0.9990309825003704, 0.9990309825003704, 0.9990309825003704, 0.9990309825003704, 0.9990309825003704, 0.9990309825003704, 0.9990309825003704, 0.9990309825003704, 0.9990309825003704, 0.9990309825003704, 0.9990309825003704, 0.9990309825003704, 0.9990309825003704, 0.9990309825003704, 0.9990309825003704, 0.9990309825003704, 0.9990309825003704, 0.9990309825003704, 0.9990309825003704, 0.9990309825003704, 0.9990309825003704, 0.9990309825003704, 0.9990309825003704, 0.9990309825003704, 0.9990309825003704, 0.9990309825003704, 0.9990309825003704, 0.9990309825003704, 0.9990309825003704, 0.9990309825003704, 0.9990309825003704, 0.9990309825003704, 0.9990309825003704, 0.9990309825003704, 0.9990309825003704, 0.9990309825003704, 0.9990309825003704, 0.9990309825003704, 0.9990309825003704, 0.9990309825003704, 0.9990309825003704, 0.9990309825003704, 0.9990309825003704, 0.9990309825003704, 0.9990309825003704, 0.9990309825003704, 0.9990309825003704, 0.9990309825003704, 0.9990309825003704, 0.9990309825003704, 0.9990309825003704, 0.9990309825003704, 0.9990309825003704, 0.9990309825003704, 0.9990309825003704, 0.9990309825003704, 0.9990309825003704, 0.9990309825003704, 0.9990309825003704, 0.9990309825003704, 0.9990309825003704, 0.9990309825003704, 0.9990309825003704, 0.9990309825003704, 0.9990309825003704, 0.9990309825003704, 0.9990309825003704, 0.9990309825003704, 0.9990309825003704, 0.9990309825003704, 0.9990309825003704, 0.9990309825003704, 0.9990309825003704, 0.9990309825003704, 0.9990309825003704, 0.9990309825003704, 0.9990309825003704, 0.9990309825003704, 0.9990309825003704, 0.9990309825003704, 0.9990309825003704, 0.9990309825003704, 0.9990309825003704, 0.9990309825003704, 0.9990309825003704, 0.9990309825003704, 0.9990309825003704, 0.9990309825003704, 0.9990309825003704, 0.9990309825003704, 0.9990309825003704, 0.9990309825003704, 0.9990309825003704, 0.9990309825003704, 0.9990309825003704, 0.9990309825003704, 0.9990309825003704, 0.9990309825003704, 0.9990309825003704, 0.9990309825003704, 0.9990309825003704, 0.9990309825003704, 0.9990309825003704, 0.9990309825003704, 0.9990309825003704, 0.9990309825003704, 0.9990309825003704, 0.9990309825003704, 0.9990309825003704, 0.9990309825003704, 0.9990309825003704, 0.9990309825003704, 0.9990309825003704, 0.9990309825003704, 0.9990309825003704, 0.9990309825003704, 0.9990309825003704, 0.9990309825003704, 0.9990309825003704, 0.9990309825003704, 0.9990309825003704, 0.9990309825003704, 0.9990309825003704, 0.9990309825003704, 0.9990309825003704, 0.9990309825003704, 0.9990309825003704, 0.9990309825003704, 0.9990309825003704, 0.9990309825003704, 0.9990309825003704, 0.9990309825003704, 0.9990309825003704, 0.9990309825003704, 0.9990309825003704, 0.9990309825003704, 0.9990309825003704, 0.9990309825003704, 0.9990309825003704, 0.9990309825003704, 0.9990309825003704, 0.9990309825003704, 0.9990309825003704, 0.9990309825003704, 0.9990309825003704, 0.9990309825003704, 0.9990309825003704, 0.9990309825003704, 0.9990309825003704, 0.9990309825003704, 0.9990309825003704, 0.9990309825003704, 0.9990309825003704, 0.9990309825003704, 0.9990309825003704, 0.9990309825003704, 0.9990309825003704, 0.9990309825003704, 0.9990309825003704, 0.9990309825003704, 0.9990309825003704, 0.9990309825003704, 0.9990309825003704, 0.9990309825003704, 0.9990309825003704, 0.9990309825003704, 0.9990309825003704, 0.9990309825003704, 0.9990309825003704, 0.9990309825003704, 0.9990309825003704, 0.9990309825003704, 0.9990309825003704, 0.9990309825003704, 0.9990309825003704, 0.9990309825003704, 0.9990309825003704, 0.9990309825003704, 0.9990309825003704, 0.9990309825003704, 0.9990309825003704, 0.9990309825003704, 0.9990309825003704, 0.9990309825003704, 0.9990309825003704, 0.9990309825003704, 0.9990309825003704, 0.9990309825003704, 0.9990309825003704, 0.9990309825003704, 0.9990309825003704, 0.9990309825003704, 0.9990309825003704, 0.9990309825003704, 0.9990309825003704, 0.9990309825003704, 0.9990309825003704, 0.9990309825003704, 0.9990309825003704, 0.9990309825003704, 0.9990309825003704, 0.9990309825003704, 0.9990309825003704, 0.9990309825003704, 0.9990309825003704, 0.9990309825003704, 0.9990309825003704, 0.9990309825003704, 0.9990309825003704, 0.9990309825003704, 0.9990309825003704, 0.9990309825003704, 0.9990309825003704, 0.9990309825003704, 0.9990309825003704, 0.9990309825003704, 0.9990309825003704, 0.9990309825003704, 0.9990309825003704, 0.9990309825003704, 0.9990309825003704, 0.9990309825003704, 0.9990309825003704, 0.9990309825003704, 0.9990309825003704, 0.9990309825003704, 0.9990309825003704, 0.9990309825003704, 0.9990309825003704, 0.9990309825003704, 0.9990309825003704, 0.9990309825003704, 0.9990309825003704, 0.9990309825003704, 0.9990309825003704, 0.9990309825003704, 0.9990309825003704, 0.9990309825003704, 0.9990309825003704, 0.9990309825003704, 0.9990309825003704, 0.9990309825003704, 0.9990309825003704, 0.9990309825003704, 0.9990309825003704, 0.9990309825003704, 0.9990309825003704, 0.9990309825003704, 0.9990309825003704, 0.9990309825003704, 0.9990309825003704, 0.9990309825003704, 0.9990309825003704, 0.9990309825003704, 0.9990309825003704, 0.9990309825003704, 0.9990309825003704, 0.9990309825003704, 0.9990309825003704, 0.9990309825003704, 0.9990309825003704, 0.9990309825003704, 0.9990309825003704, 0.9990309825003704, 0.9990309825003704, 0.9990309825003704, 0.9990309825003704, 0.9990309825003704, 0.9990309825003704, 0.9990309825003704, 0.9990309825003704, 0.9990309825003704, 0.9990309825003704, 0.9990309825003704, 0.9990309825003704, 0.9990309825003704, 0.9990309825003704, 0.9990309825003704, 0.9990309825003704, 0.9990309825003704, 0.9990309825003704, 0.9990309825003704, 0.9990309825003704, 0.9990309825003704, 0.9990309825003704, 0.9990309825003704, 0.9990309825003704, 0.9990309825003704, 0.9990309825003704, 0.9990309825003704, 0.9990309825003704, 0.9990309825003704, 0.9990309825003704, 0.9990309825003704, 0.9990309825003704, 0.9990309825003704, 0.9990309825003704, 0.9990309825003704, 0.9990309825003704, 0.9990309825003704, 0.9990309825003704, 0.9990309825003704, 0.9990309825003704, 0.9990309825003704, 0.9990309825003704, 0.9990309825003704, 0.9990309825003704, 0.9990309825003704, 0.9990309825003704, 0.9990309825003704, 0.9990309825003704, 0.9990309825003704, 0.9990309825003704, 0.9990309825003704, 0.9990309825003704, 0.9990309825003704, 0.9990309825003704, 0.9990309825003704, 0.9990309825003704, 0.9990309825003704, 0.9990309825003704, 0.9990309825003704, 0.9990309825003704, 0.9990309825003704, 0.9990309825003704, 0.9990309825003704, 0.9990309825003704, 0.9990309825003704, 0.9990309825003704, 0.9990309825003704, 0.9990309825003704, 0.9990309825003704, 0.9990309825003704, 0.9990309825003704, 0.9990309825003704, 0.9990309825003704, 0.9990309825003704, 0.9990309825003704, 0.9990309825003704, 0.9990309825003704, 0.9990309825003704, 0.9990309825003704, 0.9990309825003704, 0.9990309825003704, 0.9990309825003704, 0.9990309825003704, 0.9990309825003704, 0.9990309825003704, 0.9990309825003704, 0.9990309825003704, 0.9990309825003704, 0.9990309825003704, 0.9990309825003704, 0.9990309825003704, 0.9990309825003704, 0.9990309825003704, 0.9990309825003704, 0.9990309825003704, 0.9990309825003704, 0.9990309825003704, 0.9990309825003704, 0.9990309825003704, 0.9990309825003704, 0.9990309825003704, 0.9990309825003704, 0.9990309825003704, 0.9990309825003704, 0.9990309825003704, 0.9990309825003704, 0.9990309825003704, 0.9990309825003704, 0.9990309825003704, 0.9990309825003704, 0.9990309825003704, 0.9990309825003704, 0.9990309825003704, 0.9990309825003704, 0.9990309825003704, 0.9990309825003704, 0.9990309825003704, 0.9990309825003704, 0.9990309825003704, 0.9990309825003704, 0.9990309825003704, 0.9990309825003704, 0.9990309825003704, 0.9990309825003704, 0.9990309825003704, 0.9990309825003704, 0.9990309825003704, 0.9990309825003704, 0.9990309825003704, 0.9990309825003704, 0.9990309825003704, 0.9990309825003704, 0.9990309825003704, 0.9990309825003704, 0.9990309825003704, 0.9990309825003704, 0.9990309825003704, 0.9990309825003704, 0.9990309825003704, 0.9990309825003704, 0.9990309825003704, 0.9990309825003704, 0.9990309825003704, 0.9990309825003704, 0.9990309825003704, 0.9990309825003704, 0.9990309825003704, 0.9990309825003704, 0.9990309825003704, 0.9990309825003704, 0.9990309825003704, 0.9990309825003704, 0.9990309825003704, 0.9990309825003704, 0.9990309825003704, 0.9990309825003704, 0.9990309825003704, 0.9990309825003704, 0.9990309825003704, 0.9990309825003704, 0.9990309825003704, 0.9990309825003704, 0.9990309825003704, 0.9990309825003704, 0.9990309825003704, 0.9990309825003704, 0.9990309825003704, 0.9990309825003704, 0.9990309825003704, 0.9990309825003704, 0.9990309825003704, 0.9990309825003704, 0.9990309825003704, 0.9990309825003704, 0.9990309825003704, 0.9990309825003704, 0.9990309825003704, 0.9990309825003704, 0.9990309825003704, 0.9990309825003704, 0.9990309825003704, 0.9990309825003704, 0.9990309825003704, 0.9990309825003704, 0.9990309825003704, 0.9990309825003704, 0.9990309825003704, 0.9990309825003704, 0.9990309825003704, 0.9990309825003704, 0.9990309825003704, 0.9990309825003704, 0.9990309825003704, 0.9990309825003704, 0.9990309825003704, 0.9990309825003704, 0.9990309825003704, 0.9990309825003704, 0.9990309825003704, 0.9990309825003704, 0.9990309825003704, 0.9990309825003704, 0.9990309825003704, 0.9990309825003704, 0.9990309825003704, 0.9990309825003704, 0.9990309825003704, 0.9990309825003704, 0.9990309825003704, 0.9990309825003704, 0.9990309825003704, 0.9990309825003704, 0.9990309825003704, 0.9990309825003704, 0.9990309825003704, 0.9990309825003704, 0.9990309825003704, 0.9990309825003704, 0.9990309825003704, 0.9990309825003704, 0.9990309825003704, 0.9990309825003704, 0.9990309825003704, 0.9990309825003704, 0.9990309825003704, 0.9990309825003704, 0.9990309825003704, 0.9990309825003704, 0.9990309825003704, 0.9990309825003704, 0.9990309825003704, 0.9990309825003704, 0.9990309825003704, 0.9990309825003704, 0.9990309825003704, 0.9990309825003704, 0.9990309825003704, 0.9990309825003704, 0.9990309825003704, 0.9990309825003704, 0.9990309825003704, 0.9990309825003704, 0.9990309825003704, 0.9990309825003704, 0.9990309825003704, 0.9990309825003704, 0.9990309825003704, 0.9990309825003704, 0.9990309825003704, 0.9990309825003704, 0.9990309825003704, 0.9990309825003704, 0.9990309825003704, 0.9990309825003704, 0.9990309825003704, 0.9990309825003704, 0.9990309825003704, 0.9990309825003704, 0.9990309825003704, 0.9990309825003704, 0.9990309825003704, 0.9990309825003704, 0.9990309825003704, 0.9990309825003704, 0.9990309825003704, 0.9990309825003704, 0.9990309825003704, 0.9990309825003704, 0.9990309825003704, 0.9990309825003704, 0.9990309825003704, 0.9990309825003704, 0.9990309825003704, 0.9990309825003704, 0.9990309825003704, 0.9990309825003704, 0.9990309825003704, 0.9990309825003704, 0.9990309825003704, 0.9990309825003704, 0.9990309825003704, 0.9990309825003704, 0.9990309825003704, 0.9990309825003704, 0.9990309825003704, 0.9990309825003704, 0.9990309825003704, 0.9990309825003704, 0.9990309825003704, 0.9990309825003704, 0.9990309825003704, 0.9990309825003704, 0.9990309825003704, 0.9990309825003704, 0.9990309825003704, 0.9990309825003704, 0.9990309825003704, 0.9990309825003704, 0.9990309825003704, 0.9990309825003704, 0.9990309825003704, 0.9990309825003704, 0.9990309825003704, 0.9990309825003704, 0.9990309825003704, 0.9990309825003704, 0.9990309825003704, 0.9990309825003704, 0.9990309825003704, 0.9990309825003704, 0.9990309825003704, 0.9990309825003704, 0.9990309825003704, 0.9990309825003704, 0.9990309825003704, 0.9990309825003704, 0.9990309825003704, 0.9990309825003704, 0.9990309825003704, 0.9990309825003704, 0.9990309825003704, 0.9990309825003704, 0.9990309825003704, 0.9990309825003704, 0.9990309825003704, 0.9990309825003704, 0.9990309825003704, 0.9990309825003704, 0.9990309825003704, 0.9990309825003704, 0.9990309825003704, 0.9990309825003704, 0.9990309825003704, 0.9990309825003704, 0.9990309825003704, 0.9990309825003704, 0.9990309825003704, 0.9990309825003704, 0.9990309825003704, 0.9990309825003704, 0.9990309825003704, 0.9990309825003704, 0.9990309825003704, 0.9990309825003704, 0.9990309825003704, 0.9990309825003704, 0.9990309825003704, 0.9990309825003704, 0.9990309825003704, 0.9990309825003704, 0.9990309825003704, 0.9990309825003704, 0.9990309825003704, 0.9990309825003704, 0.9990309825003704, 0.9990309825003704, 0.9990309825003704, 0.9990309825003704, 0.9990309825003704, 0.9990309825003704, 0.9990309825003704, 0.9990309825003704, 0.9990309825003704, 0.9990309825003704, 0.9990309825003704, 0.9990309825003704, 0.9990309825003704, 0.9990309825003704, 0.9990309825003704, 0.9990309825003704, 0.9990309825003704, 0.9990309825003704, 0.9990309825003704, 0.9990309825003704, 0.9990309825003704, 0.9990309825003704, 0.9990309825003704, 0.9990309825003704, 0.9990309825003704, 0.9990309825003704, 0.9990309825003704, 0.9990309825003704, 0.9990309825003704, 0.9990309825003704, 0.9990309825003704, 0.9990309825003704, 0.9990309825003704, 0.9990309825003704, 0.9990309825003704, 0.9990309825003704, 0.9990309825003704, 0.9990309825003704, 0.9990309825003704, 0.9990309825003704, 0.9990309825003704, 0.9990309825003704, 0.9990309825003704, 0.9990309825003704, 0.9990309825003704, 0.9990309825003704, 0.9990309825003704, 0.9990309825003704, 0.9990309825003704, 0.9990309825003704, 0.9990309825003704, 0.9990309825003704, 0.9990309825003704, 0.9990309825003704, 0.9990309825003704, 0.9990309825003704, 0.9990309825003704, 0.9990309825003704, 0.9990309825003704, 0.9990309825003704, 0.9990309825003704, 0.9990309825003704, 0.9990309825003704, 0.9990309825003704, 0.9990309825003704, 0.9990309825003704, 0.9990309825003704, 0.9990309825003704, 0.9990309825003704, 0.9990309825003704, 0.9990309825003704, 0.9990309825003704, 0.9990309825003704, 0.9990309825003704, 0.9990309825003704, 0.9990309825003704, 0.9990309825003704, 0.9990309825003704, 0.9990309825003704, 0.9990309825003704, 0.9990309825003704, 0.9990309825003704, 0.9990309825003704, 0.9990309825003704, 0.9990309825003704, 0.9990309825003704, 0.9990309825003704, 0.9990309825003704, 0.9990309825003704, 0.9990309825003704, 0.9990309825003704, 0.9990309825003704, 0.9990309825003704, 0.9990309825003704, 0.9990309825003704, 0.9990309825003704, 0.9990309825003704, 0.9990309825003704, 0.9990309825003704, 0.9990309825003704, 0.9990309825003704, 0.9990309825003704, 0.9990309825003704, 0.9990309825003704, 0.9990309825003704, 0.9990309825003704, 0.9990309825003704, 0.9990309825003704, 0.9990309825003704, 0.9990309825003704, 0.9990309825003704, 0.9990309825003704, 0.9990309825003704, 0.9990309825003704, 0.9990309825003704, 0.9990309825003704, 0.9990309825003704, 0.9990309825003704, 0.9990309825003704, 0.9990309825003704, 0.9990309825003704, 0.9990309825003704, 0.9990309825003704, 0.9990309825003704, 0.9990309825003704, 0.9990309825003704, 0.9990309825003704, 0.9990309825003704, 0.9990309825003704, 0.9990309825003704, 0.9990309825003704, 0.9990309825003704, 0.9990309825003704, 0.9990309825003704, 0.9990309825003704, 0.9990309825003704, 0.9990309825003704, 0.9990309825003704, 0.9990309825003704, 0.9990309825003704, 0.9990309825003704, 0.9990309825003704, 0.9990309825003704, 0.9990309825003704, 0.9990309825003704, 0.9990309825003704, 0.9990309825003704, 0.9990309825003704, 0.9990309825003704, 0.9990309825003704, 0.9990309825003704, 0.9990309825003704, 0.9990309825003704, 0.9990309825003704, 0.9990309825003704, 0.9990309825003704, 0.9990309825003704, 0.9990309825003704, 0.9990309825003704, 0.9990309825003704, 0.9990309825003704, 0.9990309825003704, 0.9990309825003704, 0.9990309825003704, 0.9990309825003704, 0.9990309825003704, 0.9990309825003704, 0.9990309825003704, 0.9990309825003704, 0.9990309825003704, 0.9990309825003704, 0.9990309825003704, 0.9990309825003704, 0.9990309825003704, 0.9990309825003704, 0.9990309825003704, 0.9990309825003704, 0.9990309825003704, 0.9990309825003704, 0.9990309825003704, 0.9990309825003704, 0.9990309825003704, 0.9990309825003704, 0.9990309825003704, 0.9990309825003704, 0.9990309825003704, 0.9990309825003704, 0.9990309825003704, 0.9990309825003704, 0.9990309825003704, 0.9990309825003704, 0.9990309825003704, 0.9990309825003704, 0.9990309825003704, 0.9990309825003704, 0.9990309825003704, 0.9990309825003704, 0.9990309825003704, 0.9990309825003704, 0.9990309825003704, 0.9990309825003704, 0.9990309825003704, 0.9990309825003704, 0.9990309825003704, 0.9990309825003704, 0.9990309825003704, 0.9990309825003704, 0.9990309825003704, 0.9990309825003704, 0.9990309825003704, 0.9990309825003704, 0.9990309825003704, 0.9990309825003704, 0.9990309825003704, 0.9990309825003704, 0.9990309825003704, 0.9990309825003704, 0.9990309825003704, 0.9990309825003704, 0.9990309825003704, 0.9990309825003704, 0.9990309825003704, 0.9990309825003704, 0.9990309825003704, 0.9990309825003704, 0.9990309825003704, 0.9990309825003704, 0.9990309825003704, 0.9990309825003704, 0.9990309825003704, 0.9990309825003704, 0.9990309825003704, 0.9990309825003704, 0.9990309825003704, 0.9990309825003704, 0.9990309825003704, 0.9990309825003704, 0.9990309825003704, 0.9990309825003704, 0.9990309825003704, 0.9990309825003704, 0.9990309825003704, 0.9990309825003704, 0.9990309825003704, 0.9990309825003704, 0.9990309825003704, 0.9990309825003704, 0.9990309825003704, 0.9990309825003704, 0.9990309825003704, 0.9990309825003704, 0.9990309825003704, 0.9990309825003704, 0.9990309825003704, 0.9990309825003704, 0.9990309825003704, 0.9990309825003704, 0.9990309825003704, 0.9990309825003704, 0.9990309825003704, 0.9990309825003704, 0.9990309825003704, 0.9990309825003704, 0.9990309825003704, 0.9990309825003704, 0.9990309825003704, 0.9990309825003704, 0.9990309825003704, 0.9990309825003704, 0.9990309825003704, 0.9990309825003704, 0.9990309825003704, 0.9990309825003704, 0.9990309825003704, 0.9990309825003704, 0.9990309825003704, 0.9990309825003704, 0.9990309825003704, 0.9990309825003704, 0.9990309825003704, 0.9990309825003704, 0.9990309825003704, 0.9990309825003704, 0.9990309825003704, 0.9990309825003704, 0.9990309825003704, 0.9990309825003704, 0.9990309825003704, 0.9990309825003704, 0.9990309825003704, 0.9990309825003704, 0.9990309825003704, 0.9990309825003704, 0.9990309825003704, 0.9990309825003704, 0.9990309825003704, 0.9990309825003704]\n"
     ]
    }
   ],
   "source": [
    "plot_dataset = StockDatasetLogReturn([\"./data/ALLY.csv\"],configs[\"input_size\"],1)\n",
    "\n",
    "real = [1000]\n",
    "predict = [1000]\n",
    "price = 1000\n",
    "\n",
    "feed_queue = list(range(plot_dataset.__len__()))\n",
    "random.shuffle(feed_queue)\n",
    "predict_output = []\n",
    "real_output = []\n",
    "with torch.no_grad() : \n",
    "    for i in tqdm(range(0,plot_dataset.__len__(),configs[\"batch_size\"])) :\n",
    "        close_price_input = []\n",
    "        close_price_target = []\n",
    "        for j in range(configs[\"batch_size\"]) :\n",
    "            input,target = plot_dataset.__getitem__(i + j)\n",
    "            close_price_input.append(input[None,4,:,None])\n",
    "            close_price_target.append(target[4].numpy())\n",
    "        close_price_input = torch.cat(close_price_input).to(device)\n",
    "\n",
    "        output = best_model(close_price_input)\n",
    "        print(close_price_input[0][0],output[0][0])\n",
    "        output = output.to(torch.device(\"cpu\")).numpy()\n",
    "\n",
    "        for j in range(configs[\"batch_size\"]) :\n",
    "            real_output.append(math.exp(close_price_target[j][0]))\n",
    "            predict_output.append(math.exp(output[j][0]))\n",
    "\n",
    "for i in range(len(predict_output)) :\n",
    "    predict.append(predict[-1] * predict_output[i])\n",
    "    real.append(real[-1] * real_output[i])\n",
    "\n",
    "plt.plot(real)\n",
    "plt.plot(predict)\n",
    "plt.show()\n",
    "print(predict_output)"
   ]
  }
 ],
 "metadata": {
  "kernelspec": {
   "display_name": "Python 3",
   "language": "python",
   "name": "python3"
  },
  "language_info": {
   "codemirror_mode": {
    "name": "ipython",
    "version": 3
   },
   "file_extension": ".py",
   "mimetype": "text/x-python",
   "name": "python",
   "nbconvert_exporter": "python",
   "pygments_lexer": "ipython3",
   "version": "3.12.1"
  }
 },
 "nbformat": 4,
 "nbformat_minor": 2
}
