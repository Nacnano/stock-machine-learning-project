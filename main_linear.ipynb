{
 "cells": [
  {
   "cell_type": "code",
   "execution_count": 1,
   "metadata": {},
   "outputs": [
    {
     "name": "stderr",
     "output_type": "stream",
     "text": [
      "/Users/pupipatsingkhorn/miniconda3/envs/datascience/lib/python3.9/site-packages/pyfolio/pos.py:26: UserWarning: Module \"zipline.assets\" not found; mutltipliers will not be applied to position notionals.\n",
      "  warnings.warn(\n"
     ]
    }
   ],
   "source": [
    "import os\n",
    "import yfinance as yf\n",
    "import pandas as pd\n",
    "import numpy as np\n",
    "import matplotlib.pyplot as plt\n",
    "from matplotlib.ticker import FuncFormatter\n",
    "import seaborn as sns\n",
    "\n",
    "# Technical Analysis\n",
    "from talib import RSI, BBANDS, ATR, NATR, MACD\n",
    "\n",
    "# scikit-learn\n",
    "from sklearn.model_selection import train_test_split, GridSearchCV, cross_val_score\n",
    "from sklearn.linear_model import LinearRegression, LogisticRegression\n",
    "from sklearn.svm import SVR\n",
    "from sklearn.ensemble import RandomForestRegressor, RandomForestClassifier\n",
    "from sklearn.metrics import mean_absolute_error, mean_squared_error, make_scorer\n",
    "\n",
    "from scipy.stats import spearmanr\n",
    "\n",
    "# neural network\n",
    "from tqdm import tqdm\n",
    "import torch\n",
    "import torch.nn as nn\n",
    "  # our model\n",
    "from LSTM import LSTM\n",
    "\n",
    "import pyfolio as pf\n",
    "from pathlib import Path\n",
    "import pandas as pd\n",
    "from alphalens.tears import create_summary_tear_sheet\n",
    "from alphalens.utils import get_clean_factor_and_forward_returns\n",
    "\n",
    "import warnings\n",
    "warnings.filterwarnings('ignore')"
   ]
  },
  {
   "cell_type": "markdown",
   "metadata": {},
   "source": [
    "# Data Preprocessing"
   ]
  },
  {
   "cell_type": "code",
   "execution_count": 2,
   "metadata": {},
   "outputs": [],
   "source": [
    "# def read_tickers_sp500(file_path):\n",
    "#     with open(file_path, 'r') as file:\n",
    "#         tickers_sp500 = [line.strip() for line in file]\n",
    "#     return tickers_sp500\n",
    "\n",
    "# tickers_sp500 = read_tickers_sp500('tickers_sp500.txt')\n",
    "# print(tickers_sp500)"
   ]
  },
  {
   "cell_type": "code",
   "execution_count": 3,
   "metadata": {},
   "outputs": [
    {
     "name": "stderr",
     "output_type": "stream",
     "text": [
      "[*********************100%%**********************]  12 of 12 completed\n"
     ]
    }
   ],
   "source": [
    "# Download data\n",
    "\n",
    "# Stocks list\n",
    "# top 7 MarketCap in S&P500(^GSPC)\n",
    "# tickers = ['^GSPC', 'AAPL', 'MSFT', 'AMZN', 'NVDA', 'GOOGL', 'TSLA', 'META']\n",
    "tickers = ['AAPL', 'MSFT', 'AMZN', 'NVDA', 'GOOGL', 'TSLA', 'META', 'AMD', 'INTC', 'NFLX', 'PYPL', 'ASML']\n",
    "# tickers = tickers_sp500\n",
    "start_date = None\n",
    "end_date = None\n",
    "\n",
    "df_prices_download = yf.download(tickers=tickers, start=start_date, end=end_date, group_by='ticker')"
   ]
  },
  {
   "cell_type": "code",
   "execution_count": 4,
   "metadata": {},
   "outputs": [
    {
     "data": {
      "text/html": [
       "<div>\n",
       "<style scoped>\n",
       "    .dataframe tbody tr th:only-of-type {\n",
       "        vertical-align: middle;\n",
       "    }\n",
       "\n",
       "    .dataframe tbody tr th {\n",
       "        vertical-align: top;\n",
       "    }\n",
       "\n",
       "    .dataframe thead th {\n",
       "        text-align: right;\n",
       "    }\n",
       "</style>\n",
       "<table border=\"1\" class=\"dataframe\">\n",
       "  <thead>\n",
       "    <tr style=\"text-align: right;\">\n",
       "      <th></th>\n",
       "      <th>Price</th>\n",
       "      <th>Open</th>\n",
       "      <th>High</th>\n",
       "      <th>Low</th>\n",
       "      <th>Close</th>\n",
       "      <th>Volume</th>\n",
       "    </tr>\n",
       "    <tr>\n",
       "      <th>Ticker</th>\n",
       "      <th>Date</th>\n",
       "      <th></th>\n",
       "      <th></th>\n",
       "      <th></th>\n",
       "      <th></th>\n",
       "      <th></th>\n",
       "    </tr>\n",
       "  </thead>\n",
       "  <tbody>\n",
       "    <tr>\n",
       "      <th rowspan=\"5\" valign=\"top\">AAPL</th>\n",
       "      <th>1980-12-12</th>\n",
       "      <td>0.128348</td>\n",
       "      <td>0.128906</td>\n",
       "      <td>0.128348</td>\n",
       "      <td>0.099058</td>\n",
       "      <td>469033600.0</td>\n",
       "    </tr>\n",
       "    <tr>\n",
       "      <th>1980-12-15</th>\n",
       "      <td>0.122210</td>\n",
       "      <td>0.122210</td>\n",
       "      <td>0.121652</td>\n",
       "      <td>0.093890</td>\n",
       "      <td>175884800.0</td>\n",
       "    </tr>\n",
       "    <tr>\n",
       "      <th>1980-12-16</th>\n",
       "      <td>0.113281</td>\n",
       "      <td>0.113281</td>\n",
       "      <td>0.112723</td>\n",
       "      <td>0.086998</td>\n",
       "      <td>105728000.0</td>\n",
       "    </tr>\n",
       "    <tr>\n",
       "      <th>1980-12-17</th>\n",
       "      <td>0.115513</td>\n",
       "      <td>0.116071</td>\n",
       "      <td>0.115513</td>\n",
       "      <td>0.089152</td>\n",
       "      <td>86441600.0</td>\n",
       "    </tr>\n",
       "    <tr>\n",
       "      <th>1980-12-18</th>\n",
       "      <td>0.118862</td>\n",
       "      <td>0.119420</td>\n",
       "      <td>0.118862</td>\n",
       "      <td>0.091737</td>\n",
       "      <td>73449600.0</td>\n",
       "    </tr>\n",
       "    <tr>\n",
       "      <th>...</th>\n",
       "      <th>...</th>\n",
       "      <td>...</td>\n",
       "      <td>...</td>\n",
       "      <td>...</td>\n",
       "      <td>...</td>\n",
       "      <td>...</td>\n",
       "    </tr>\n",
       "    <tr>\n",
       "      <th rowspan=\"5\" valign=\"top\">TSLA</th>\n",
       "      <th>2024-05-06</th>\n",
       "      <td>183.800003</td>\n",
       "      <td>187.559998</td>\n",
       "      <td>182.199997</td>\n",
       "      <td>184.759995</td>\n",
       "      <td>84390300.0</td>\n",
       "    </tr>\n",
       "    <tr>\n",
       "      <th>2024-05-07</th>\n",
       "      <td>182.399994</td>\n",
       "      <td>183.259995</td>\n",
       "      <td>177.399994</td>\n",
       "      <td>177.809998</td>\n",
       "      <td>75045900.0</td>\n",
       "    </tr>\n",
       "    <tr>\n",
       "      <th>2024-05-08</th>\n",
       "      <td>171.589996</td>\n",
       "      <td>176.059998</td>\n",
       "      <td>170.149994</td>\n",
       "      <td>174.720001</td>\n",
       "      <td>79969500.0</td>\n",
       "    </tr>\n",
       "    <tr>\n",
       "      <th>2024-05-09</th>\n",
       "      <td>175.009995</td>\n",
       "      <td>175.619995</td>\n",
       "      <td>171.369995</td>\n",
       "      <td>171.970001</td>\n",
       "      <td>65950300.0</td>\n",
       "    </tr>\n",
       "    <tr>\n",
       "      <th>2024-05-10</th>\n",
       "      <td>173.050003</td>\n",
       "      <td>173.059998</td>\n",
       "      <td>167.750000</td>\n",
       "      <td>168.470001</td>\n",
       "      <td>72350200.0</td>\n",
       "    </tr>\n",
       "  </tbody>\n",
       "</table>\n",
       "<p>82556 rows × 5 columns</p>\n",
       "</div>"
      ],
      "text/plain": [
       "Price                    Open        High         Low       Close       Volume\n",
       "Ticker Date                                                                   \n",
       "AAPL   1980-12-12    0.128348    0.128906    0.128348    0.099058  469033600.0\n",
       "       1980-12-15    0.122210    0.122210    0.121652    0.093890  175884800.0\n",
       "       1980-12-16    0.113281    0.113281    0.112723    0.086998  105728000.0\n",
       "       1980-12-17    0.115513    0.116071    0.115513    0.089152   86441600.0\n",
       "       1980-12-18    0.118862    0.119420    0.118862    0.091737   73449600.0\n",
       "...                       ...         ...         ...         ...          ...\n",
       "TSLA   2024-05-06  183.800003  187.559998  182.199997  184.759995   84390300.0\n",
       "       2024-05-07  182.399994  183.259995  177.399994  177.809998   75045900.0\n",
       "       2024-05-08  171.589996  176.059998  170.149994  174.720001   79969500.0\n",
       "       2024-05-09  175.009995  175.619995  171.369995  171.970001   65950300.0\n",
       "       2024-05-10  173.050003  173.059998  167.750000  168.470001   72350200.0\n",
       "\n",
       "[82556 rows x 5 columns]"
      ]
     },
     "execution_count": 4,
     "metadata": {},
     "output_type": "execute_result"
    }
   ],
   "source": [
    "# Format into large table\n",
    "# col: OHLCV\n",
    "# rows(multi-index): Ticker, Date\n",
    "\n",
    "df_prices = df_prices_download.stack(level=0, dropna=False)\n",
    "df_prices = df_prices.swaplevel(0, 1)\n",
    "df_prices = df_prices.loc[tickers].sort_index(level='Ticker')\n",
    "df_prices.dropna(inplace=True)\n",
    "\n",
    "# Use 'Adj Close' instead of 'Close'\n",
    "df_prices.drop('Close', axis=1, inplace=True)\n",
    "df_prices.rename(columns={'Adj Close': 'Close'}, inplace=True)\n",
    "\n",
    "df_prices"
   ]
  },
  {
   "cell_type": "markdown",
   "metadata": {},
   "source": [
    "### Remove stocks with less than 10 years of data"
   ]
  },
  {
   "cell_type": "code",
   "execution_count": 5,
   "metadata": {},
   "outputs": [
    {
     "name": "stdout",
     "output_type": "stream",
     "text": [
      "Amount tickers_to_drop: 1\n",
      "tickers_to_drop: Index(['PYPL'], dtype='object', name='Ticker')\n"
     ]
    }
   ],
   "source": [
    "min_obs_days = 10 * 252 # NYSE and NASDAQ average 252 trading days a year\n",
    "num_obs = df_prices.groupby(level='Ticker').size()\n",
    "\n",
    "tickers_to_drop = num_obs[num_obs < min_obs_days].index\n",
    "print(f'Amount tickers_to_drop: {tickers_to_drop.size}')\n",
    "print(f'tickers_to_drop: {tickers_to_drop}')\n",
    "\n",
    "df_prices = df_prices.drop(tickers_to_drop, level='Ticker')"
   ]
  },
  {
   "cell_type": "markdown",
   "metadata": {},
   "source": [
    "# Feature Engineering"
   ]
  },
  {
   "cell_type": "markdown",
   "metadata": {},
   "source": [
    "### RSI - Relative Strength Index\n",
    "RSI compares the magnitude of recent price changes across stocks to identify stocks as overbought or oversold."
   ]
  },
  {
   "cell_type": "code",
   "execution_count": 6,
   "metadata": {},
   "outputs": [],
   "source": [
    "rsi = df_prices.groupby(level='Ticker', group_keys=False).Close.apply(RSI)\n",
    "df_prices['RSI'] = rsi"
   ]
  },
  {
   "cell_type": "markdown",
   "metadata": {},
   "source": [
    "### Bollinger Bands\n",
    "Bollinger Bands is a technical analysis tool used to determine where prices are high and low relative to each other."
   ]
  },
  {
   "cell_type": "code",
   "execution_count": 7,
   "metadata": {},
   "outputs": [],
   "source": [
    "def compute_bb(close):\n",
    "    high, mid, low = BBANDS(np.log1p(close), timeperiod=20)\n",
    "    return pd.DataFrame({'BB_High': high,\n",
    "                         'BB_Mid': mid, # SMA20\n",
    "                         'BB_Low': low},\n",
    "                        index=close.index)\n",
    "\n",
    "bbands = df_prices.groupby(level='Ticker', group_keys=False).Close.apply(compute_bb)\n",
    "df_prices = pd.concat([df_prices, bbands], axis=1)"
   ]
  },
  {
   "cell_type": "markdown",
   "metadata": {},
   "source": [
    "### ATR - Average True Range\n",
    "The average true range (ATR) indicator shows the volatility of the market."
   ]
  },
  {
   "cell_type": "code",
   "execution_count": 8,
   "metadata": {},
   "outputs": [],
   "source": [
    "by_ticker = df_prices.groupby('Ticker', group_keys=False)\n",
    "\n",
    "def compute_atr(stock_data):\n",
    "    atr = ATR(stock_data.High,\n",
    "              stock_data.Low,\n",
    "              stock_data.Close,\n",
    "              timeperiod=14)\n",
    "    return atr.sub(atr.mean()).div(atr.std())\n",
    "\n",
    "df_prices['ATR'] = by_ticker.apply(compute_atr)\n",
    "# Normalized Average True Range (NATR)\n",
    "df_prices['NATR'] = by_ticker.apply(lambda x: NATR(high=x.High, low=x.Low, close=x.Close))"
   ]
  },
  {
   "cell_type": "markdown",
   "metadata": {},
   "source": [
    "### MACD - Moving Average Convergence/Divergence"
   ]
  },
  {
   "cell_type": "code",
   "execution_count": 9,
   "metadata": {},
   "outputs": [],
   "source": [
    "def compute_macd(close):\n",
    "    macd = MACD(close)[0]\n",
    "    return macd.sub(macd.mean()).div(macd.std())\n",
    "\n",
    "df_prices['MACD'] = df_prices.groupby(level='Ticker', group_keys=False).Close.apply(compute_macd)"
   ]
  },
  {
   "cell_type": "markdown",
   "metadata": {},
   "source": [
    "## Determine Investment Universe"
   ]
  },
  {
   "cell_type": "markdown",
   "metadata": {},
   "source": [
    "### Dollar Volume"
   ]
  },
  {
   "cell_type": "code",
   "execution_count": 10,
   "metadata": {},
   "outputs": [],
   "source": [
    "# Close: USD\n",
    "# Volumn: Amount\n",
    "df_prices['Dollar_Volume'] = (df_prices.loc[:, 'Close']\n",
    "                           .mul(df_prices.loc[:, 'Volume'], axis=0))\n",
    "\n",
    "df_prices['Dollar_Volume'] /= 1e6 # Dollar_Volume: Million USD"
   ]
  },
  {
   "cell_type": "markdown",
   "metadata": {},
   "source": [
    "### Resample Monthly Freq.\n",
    "- drop OHL_V\n",
    "- use Dollar_Volumn instead of Volume"
   ]
  },
  {
   "cell_type": "code",
   "execution_count": 11,
   "metadata": {},
   "outputs": [
    {
     "name": "stdout",
     "output_type": "stream",
     "text": [
      "<class 'pandas.core.frame.DataFrame'>\n",
      "MultiIndex: 79964 entries, ('AAPL', Timestamp('1981-01-30 00:00:00')) to ('TSLA', Timestamp('2024-05-10 00:00:00'))\n",
      "Data columns (total 9 columns):\n",
      " #   Column         Non-Null Count  Dtype  \n",
      "---  ------         --------------  -----  \n",
      " 0   Dollar_Volume  79964 non-null  float64\n",
      " 1   Close          79964 non-null  float64\n",
      " 2   RSI            79964 non-null  float64\n",
      " 3   BB_High        79964 non-null  float64\n",
      " 4   BB_Mid         79964 non-null  float64\n",
      " 5   BB_Low         79964 non-null  float64\n",
      " 6   ATR            79964 non-null  float64\n",
      " 7   NATR           79964 non-null  float64\n",
      " 8   MACD           79964 non-null  float64\n",
      "dtypes: float64(9)\n",
      "memory usage: 6.3+ MB\n"
     ]
    }
   ],
   "source": [
    "remian_cols = [c for c in df_prices.columns.unique(0) if c not in ['Dollar_Volume', 'Volume', 'Open', 'High', 'Low']]\n",
    "\n",
    "# New data frame: 'data' - load to model\n",
    "data = (\n",
    "    pd.concat(\n",
    "        [\n",
    "        # avg(1M) Dollar_Volume\n",
    "            df_prices.unstack(\"Ticker\")\n",
    "            .Dollar_Volume.resample('D')\n",
    "            .mean()\n",
    "            .stack(\"Ticker\")\n",
    "            .to_frame(\"Dollar_Volume\"),\n",
    "        # (Adj)Close & Technical Indicators\n",
    "            df_prices.unstack(\"Ticker\")[remian_cols]\n",
    "            .resample('D')\n",
    "            .last()\n",
    "            .stack(\"Ticker\")\n",
    "        ],\n",
    "        axis=1\n",
    "    )\n",
    "    .swaplevel()\n",
    "    .sort_index(level='Ticker')\n",
    "    .dropna()\n",
    ")\n",
    "\n",
    "data.info()"
   ]
  },
  {
   "cell_type": "markdown",
   "metadata": {},
   "source": [
    "### Select 10 most-traded equities\n",
    "Select the 10 most-traded stocks based on a 5-year rolling average of dollar volume."
   ]
  },
  {
   "cell_type": "code",
   "execution_count": 12,
   "metadata": {},
   "outputs": [
    {
     "name": "stdout",
     "output_type": "stream",
     "text": [
      "<class 'pandas.core.frame.DataFrame'>\n",
      "MultiIndex: 73426 entries, ('AAPL', Timestamp('1981-02-17 00:00:00')) to ('TSLA', Timestamp('2024-05-10 00:00:00'))\n",
      "Data columns (total 8 columns):\n",
      " #   Column   Non-Null Count  Dtype  \n",
      "---  ------   --------------  -----  \n",
      " 0   Close    73426 non-null  float64\n",
      " 1   RSI      73426 non-null  float64\n",
      " 2   BB_High  73426 non-null  float64\n",
      " 3   BB_Mid   73426 non-null  float64\n",
      " 4   BB_Low   73426 non-null  float64\n",
      " 5   ATR      73426 non-null  float64\n",
      " 6   NATR     73426 non-null  float64\n",
      " 7   MACD     73426 non-null  float64\n",
      "dtypes: float64(8)\n",
      "memory usage: 5.3+ MB\n"
     ]
    }
   ],
   "source": [
    "data['Dollar_Volume'] = (data.loc[:, 'Dollar_Volume']\n",
    "                         .unstack('Ticker')\n",
    "                         .rolling(window=5*12, min_periods=12)\n",
    "                         .mean()\n",
    "                         .stack()\n",
    "                         .swaplevel())\n",
    "\n",
    "data['Dollar_Volume_Rank'] = (data\n",
    "                           .groupby('Date')\n",
    "                           .Dollar_Volume\n",
    "                           .rank(ascending=False))\n",
    "\n",
    "data = data[data.Dollar_Volume_Rank < 10]\n",
    "data = data.drop(['Dollar_Volume', 'Dollar_Volume_Rank'], axis=1)\n",
    "data.info()"
   ]
  },
  {
   "cell_type": "code",
   "execution_count": 13,
   "metadata": {},
   "outputs": [
    {
     "data": {
      "text/plain": [
       "11"
      ]
     },
     "execution_count": 13,
     "metadata": {},
     "output_type": "execute_result"
    }
   ],
   "source": [
    "len(data.index.unique('Ticker'))"
   ]
  },
  {
   "cell_type": "markdown",
   "metadata": {},
   "source": [
    "## Lagged Return"
   ]
  },
  {
   "cell_type": "code",
   "execution_count": 14,
   "metadata": {},
   "outputs": [],
   "source": [
    "data = data.rename_axis(index={'Date': 'date', 'Ticker': 'ticker'})"
   ]
  },
  {
   "cell_type": "code",
   "execution_count": 15,
   "metadata": {},
   "outputs": [],
   "source": [
    "lags = [1, 5, 10, 21, 42, 63]\n",
    "returns = data.groupby(level='ticker').Close.pct_change()\n",
    "\n",
    "q = 0.0001\n",
    "\n",
    "for lag in lags:\n",
    "    data[f'return_{lag}d'] = (data.groupby(level='ticker').Close\n",
    "                                .pct_change(lag)\n",
    "                                .pipe(lambda x: x.clip(lower=x.quantile(q),\n",
    "                                                       upper=x.quantile(1 - q)))\n",
    "                                .add(1)\n",
    "                                .pow(1 / lag)\n",
    "                                .sub(1)\n",
    "                                )\n",
    "\n",
    "# for t in [1, 2, 3, 4, 5]:\n",
    "#     for lag in [1, 5, 10, 21]:\n",
    "#         data[f'return_{lag}d_lag{t}'] = (data.groupby(level='ticker')\n",
    "#                                            [f'return_{lag}d'].shift(t * lag))\n",
    "\n",
    "for t in [1, 5, 10, 21]:\n",
    "    data[f'target_{t}d'] = data.groupby(level='ticker')[f'return_{t}d'].shift(-t)"
   ]
  },
  {
   "cell_type": "code",
   "execution_count": 16,
   "metadata": {},
   "outputs": [
    {
     "data": {
      "text/html": [
       "<div>\n",
       "<style scoped>\n",
       "    .dataframe tbody tr th:only-of-type {\n",
       "        vertical-align: middle;\n",
       "    }\n",
       "\n",
       "    .dataframe tbody tr th {\n",
       "        vertical-align: top;\n",
       "    }\n",
       "\n",
       "    .dataframe thead th {\n",
       "        text-align: right;\n",
       "    }\n",
       "</style>\n",
       "<table border=\"1\" class=\"dataframe\">\n",
       "  <thead>\n",
       "    <tr style=\"text-align: right;\">\n",
       "      <th></th>\n",
       "      <th></th>\n",
       "      <th>Close</th>\n",
       "      <th>RSI</th>\n",
       "      <th>BB_High</th>\n",
       "      <th>BB_Mid</th>\n",
       "      <th>BB_Low</th>\n",
       "      <th>ATR</th>\n",
       "      <th>NATR</th>\n",
       "      <th>MACD</th>\n",
       "      <th>return_1d</th>\n",
       "      <th>return_5d</th>\n",
       "      <th>return_10d</th>\n",
       "      <th>return_21d</th>\n",
       "      <th>return_42d</th>\n",
       "      <th>return_63d</th>\n",
       "      <th>target_1d</th>\n",
       "      <th>target_5d</th>\n",
       "      <th>target_10d</th>\n",
       "      <th>target_21d</th>\n",
       "    </tr>\n",
       "    <tr>\n",
       "      <th>ticker</th>\n",
       "      <th>date</th>\n",
       "      <th></th>\n",
       "      <th></th>\n",
       "      <th></th>\n",
       "      <th></th>\n",
       "      <th></th>\n",
       "      <th></th>\n",
       "      <th></th>\n",
       "      <th></th>\n",
       "      <th></th>\n",
       "      <th></th>\n",
       "      <th></th>\n",
       "      <th></th>\n",
       "      <th></th>\n",
       "      <th></th>\n",
       "      <th></th>\n",
       "      <th></th>\n",
       "      <th></th>\n",
       "      <th></th>\n",
       "    </tr>\n",
       "  </thead>\n",
       "  <tbody>\n",
       "    <tr>\n",
       "      <th rowspan=\"5\" valign=\"top\">AAPL</th>\n",
       "      <th>1981-02-17</th>\n",
       "      <td>0.090013</td>\n",
       "      <td>37.411058</td>\n",
       "      <td>0.111134</td>\n",
       "      <td>0.095559</td>\n",
       "      <td>0.079984</td>\n",
       "      <td>-0.734659</td>\n",
       "      <td>32.744820</td>\n",
       "      <td>-0.126765</td>\n",
       "      <td>NaN</td>\n",
       "      <td>NaN</td>\n",
       "      <td>NaN</td>\n",
       "      <td>NaN</td>\n",
       "      <td>NaN</td>\n",
       "      <td>NaN</td>\n",
       "      <td>0.043068</td>\n",
       "      <td>-0.018880</td>\n",
       "      <td>0.000478</td>\n",
       "      <td>-0.000688</td>\n",
       "    </tr>\n",
       "    <tr>\n",
       "      <th>1981-02-18</th>\n",
       "      <td>0.093890</td>\n",
       "      <td>43.705698</td>\n",
       "      <td>0.110077</td>\n",
       "      <td>0.094836</td>\n",
       "      <td>0.079594</td>\n",
       "      <td>-0.734500</td>\n",
       "      <td>31.642349</td>\n",
       "      <td>-0.126454</td>\n",
       "      <td>0.043068</td>\n",
       "      <td>NaN</td>\n",
       "      <td>NaN</td>\n",
       "      <td>NaN</td>\n",
       "      <td>NaN</td>\n",
       "      <td>NaN</td>\n",
       "      <td>-0.059637</td>\n",
       "      <td>-0.015131</td>\n",
       "      <td>-0.004685</td>\n",
       "      <td>-0.003156</td>\n",
       "    </tr>\n",
       "    <tr>\n",
       "      <th>1981-02-19</th>\n",
       "      <td>0.088290</td>\n",
       "      <td>37.793472</td>\n",
       "      <td>0.108693</td>\n",
       "      <td>0.093759</td>\n",
       "      <td>0.078825</td>\n",
       "      <td>-0.734919</td>\n",
       "      <td>32.949788</td>\n",
       "      <td>-0.126649</td>\n",
       "      <td>-0.059637</td>\n",
       "      <td>NaN</td>\n",
       "      <td>NaN</td>\n",
       "      <td>NaN</td>\n",
       "      <td>NaN</td>\n",
       "      <td>NaN</td>\n",
       "      <td>-0.053655</td>\n",
       "      <td>0.000000</td>\n",
       "      <td>0.000971</td>\n",
       "      <td>0.000232</td>\n",
       "    </tr>\n",
       "    <tr>\n",
       "      <th>1981-02-20</th>\n",
       "      <td>0.083553</td>\n",
       "      <td>33.646515</td>\n",
       "      <td>0.107088</td>\n",
       "      <td>0.092406</td>\n",
       "      <td>0.077724</td>\n",
       "      <td>-0.735333</td>\n",
       "      <td>34.085746</td>\n",
       "      <td>-0.127162</td>\n",
       "      <td>-0.053655</td>\n",
       "      <td>NaN</td>\n",
       "      <td>NaN</td>\n",
       "      <td>NaN</td>\n",
       "      <td>NaN</td>\n",
       "      <td>NaN</td>\n",
       "      <td>0.015463</td>\n",
       "      <td>0.017905</td>\n",
       "      <td>0.005530</td>\n",
       "      <td>0.004683</td>\n",
       "    </tr>\n",
       "    <tr>\n",
       "      <th>1981-02-23</th>\n",
       "      <td>0.084845</td>\n",
       "      <td>35.718125</td>\n",
       "      <td>0.104954</td>\n",
       "      <td>0.091132</td>\n",
       "      <td>0.077311</td>\n",
       "      <td>-0.735408</td>\n",
       "      <td>33.436898</td>\n",
       "      <td>-0.127389</td>\n",
       "      <td>0.015463</td>\n",
       "      <td>NaN</td>\n",
       "      <td>NaN</td>\n",
       "      <td>NaN</td>\n",
       "      <td>NaN</td>\n",
       "      <td>NaN</td>\n",
       "      <td>-0.035531</td>\n",
       "      <td>0.015741</td>\n",
       "      <td>-0.004137</td>\n",
       "      <td>0.003726</td>\n",
       "    </tr>\n",
       "    <tr>\n",
       "      <th>...</th>\n",
       "      <th>...</th>\n",
       "      <td>...</td>\n",
       "      <td>...</td>\n",
       "      <td>...</td>\n",
       "      <td>...</td>\n",
       "      <td>...</td>\n",
       "      <td>...</td>\n",
       "      <td>...</td>\n",
       "      <td>...</td>\n",
       "      <td>...</td>\n",
       "      <td>...</td>\n",
       "      <td>...</td>\n",
       "      <td>...</td>\n",
       "      <td>...</td>\n",
       "      <td>...</td>\n",
       "      <td>...</td>\n",
       "      <td>...</td>\n",
       "      <td>...</td>\n",
       "      <td>...</td>\n",
       "    </tr>\n",
       "    <tr>\n",
       "      <th rowspan=\"5\" valign=\"top\">TSLA</th>\n",
       "      <th>2024-05-06</th>\n",
       "      <td>184.759995</td>\n",
       "      <td>58.568064</td>\n",
       "      <td>5.298160</td>\n",
       "      <td>5.124982</td>\n",
       "      <td>4.951805</td>\n",
       "      <td>1.073717</td>\n",
       "      <td>5.059411</td>\n",
       "      <td>0.453168</td>\n",
       "      <td>0.019703</td>\n",
       "      <td>-0.009764</td>\n",
       "      <td>0.026636</td>\n",
       "      <td>0.005430</td>\n",
       "      <td>0.001084</td>\n",
       "      <td>0.000321</td>\n",
       "      <td>-0.037616</td>\n",
       "      <td>NaN</td>\n",
       "      <td>NaN</td>\n",
       "      <td>NaN</td>\n",
       "    </tr>\n",
       "    <tr>\n",
       "      <th>2024-05-07</th>\n",
       "      <td>177.809998</td>\n",
       "      <td>53.504669</td>\n",
       "      <td>5.298773</td>\n",
       "      <td>5.125243</td>\n",
       "      <td>4.951713</td>\n",
       "      <td>1.047063</td>\n",
       "      <td>5.177315</td>\n",
       "      <td>0.455812</td>\n",
       "      <td>-0.037616</td>\n",
       "      <td>-0.006042</td>\n",
       "      <td>0.020833</td>\n",
       "      <td>0.001312</td>\n",
       "      <td>-0.000112</td>\n",
       "      <td>-0.000638</td>\n",
       "      <td>-0.017378</td>\n",
       "      <td>NaN</td>\n",
       "      <td>NaN</td>\n",
       "      <td>NaN</td>\n",
       "    </tr>\n",
       "    <tr>\n",
       "      <th>2024-05-08</th>\n",
       "      <td>174.720001</td>\n",
       "      <td>51.377923</td>\n",
       "      <td>5.300302</td>\n",
       "      <td>5.126093</td>\n",
       "      <td>4.951884</td>\n",
       "      <td>1.026336</td>\n",
       "      <td>5.205684</td>\n",
       "      <td>0.407455</td>\n",
       "      <td>-0.017378</td>\n",
       "      <td>-0.005926</td>\n",
       "      <td>0.007507</td>\n",
       "      <td>-0.000585</td>\n",
       "      <td>-0.000084</td>\n",
       "      <td>-0.001127</td>\n",
       "      <td>-0.015739</td>\n",
       "      <td>NaN</td>\n",
       "      <td>NaN</td>\n",
       "      <td>NaN</td>\n",
       "    </tr>\n",
       "    <tr>\n",
       "      <th>2024-05-09</th>\n",
       "      <td>171.970001</td>\n",
       "      <td>49.492442</td>\n",
       "      <td>5.298940</td>\n",
       "      <td>5.125338</td>\n",
       "      <td>4.951736</td>\n",
       "      <td>0.961365</td>\n",
       "      <td>5.087674</td>\n",
       "      <td>0.324589</td>\n",
       "      <td>-0.015739</td>\n",
       "      <td>-0.009097</td>\n",
       "      <td>0.001047</td>\n",
       "      <td>0.000058</td>\n",
       "      <td>-0.000789</td>\n",
       "      <td>-0.001545</td>\n",
       "      <td>-0.020352</td>\n",
       "      <td>NaN</td>\n",
       "      <td>NaN</td>\n",
       "      <td>NaN</td>\n",
       "    </tr>\n",
       "    <tr>\n",
       "      <th>2024-05-10</th>\n",
       "      <td>168.470001</td>\n",
       "      <td>47.122208</td>\n",
       "      <td>5.297919</td>\n",
       "      <td>5.124583</td>\n",
       "      <td>4.951246</td>\n",
       "      <td>0.915248</td>\n",
       "      <td>5.047552</td>\n",
       "      <td>0.204824</td>\n",
       "      <td>-0.020352</td>\n",
       "      <td>-0.014452</td>\n",
       "      <td>0.000107</td>\n",
       "      <td>-0.001700</td>\n",
       "      <td>-0.001248</td>\n",
       "      <td>-0.002202</td>\n",
       "      <td>NaN</td>\n",
       "      <td>NaN</td>\n",
       "      <td>NaN</td>\n",
       "      <td>NaN</td>\n",
       "    </tr>\n",
       "  </tbody>\n",
       "</table>\n",
       "<p>73426 rows × 18 columns</p>\n",
       "</div>"
      ],
      "text/plain": [
       "                        Close        RSI   BB_High    BB_Mid    BB_Low  \\\n",
       "ticker date                                                              \n",
       "AAPL   1981-02-17    0.090013  37.411058  0.111134  0.095559  0.079984   \n",
       "       1981-02-18    0.093890  43.705698  0.110077  0.094836  0.079594   \n",
       "       1981-02-19    0.088290  37.793472  0.108693  0.093759  0.078825   \n",
       "       1981-02-20    0.083553  33.646515  0.107088  0.092406  0.077724   \n",
       "       1981-02-23    0.084845  35.718125  0.104954  0.091132  0.077311   \n",
       "...                       ...        ...       ...       ...       ...   \n",
       "TSLA   2024-05-06  184.759995  58.568064  5.298160  5.124982  4.951805   \n",
       "       2024-05-07  177.809998  53.504669  5.298773  5.125243  4.951713   \n",
       "       2024-05-08  174.720001  51.377923  5.300302  5.126093  4.951884   \n",
       "       2024-05-09  171.970001  49.492442  5.298940  5.125338  4.951736   \n",
       "       2024-05-10  168.470001  47.122208  5.297919  5.124583  4.951246   \n",
       "\n",
       "                        ATR       NATR      MACD  return_1d  return_5d  \\\n",
       "ticker date                                                              \n",
       "AAPL   1981-02-17 -0.734659  32.744820 -0.126765        NaN        NaN   \n",
       "       1981-02-18 -0.734500  31.642349 -0.126454   0.043068        NaN   \n",
       "       1981-02-19 -0.734919  32.949788 -0.126649  -0.059637        NaN   \n",
       "       1981-02-20 -0.735333  34.085746 -0.127162  -0.053655        NaN   \n",
       "       1981-02-23 -0.735408  33.436898 -0.127389   0.015463        NaN   \n",
       "...                     ...        ...       ...        ...        ...   \n",
       "TSLA   2024-05-06  1.073717   5.059411  0.453168   0.019703  -0.009764   \n",
       "       2024-05-07  1.047063   5.177315  0.455812  -0.037616  -0.006042   \n",
       "       2024-05-08  1.026336   5.205684  0.407455  -0.017378  -0.005926   \n",
       "       2024-05-09  0.961365   5.087674  0.324589  -0.015739  -0.009097   \n",
       "       2024-05-10  0.915248   5.047552  0.204824  -0.020352  -0.014452   \n",
       "\n",
       "                   return_10d  return_21d  return_42d  return_63d  target_1d  \\\n",
       "ticker date                                                                    \n",
       "AAPL   1981-02-17         NaN         NaN         NaN         NaN   0.043068   \n",
       "       1981-02-18         NaN         NaN         NaN         NaN  -0.059637   \n",
       "       1981-02-19         NaN         NaN         NaN         NaN  -0.053655   \n",
       "       1981-02-20         NaN         NaN         NaN         NaN   0.015463   \n",
       "       1981-02-23         NaN         NaN         NaN         NaN  -0.035531   \n",
       "...                       ...         ...         ...         ...        ...   \n",
       "TSLA   2024-05-06    0.026636    0.005430    0.001084    0.000321  -0.037616   \n",
       "       2024-05-07    0.020833    0.001312   -0.000112   -0.000638  -0.017378   \n",
       "       2024-05-08    0.007507   -0.000585   -0.000084   -0.001127  -0.015739   \n",
       "       2024-05-09    0.001047    0.000058   -0.000789   -0.001545  -0.020352   \n",
       "       2024-05-10    0.000107   -0.001700   -0.001248   -0.002202        NaN   \n",
       "\n",
       "                   target_5d  target_10d  target_21d  \n",
       "ticker date                                           \n",
       "AAPL   1981-02-17  -0.018880    0.000478   -0.000688  \n",
       "       1981-02-18  -0.015131   -0.004685   -0.003156  \n",
       "       1981-02-19   0.000000    0.000971    0.000232  \n",
       "       1981-02-20   0.017905    0.005530    0.004683  \n",
       "       1981-02-23   0.015741   -0.004137    0.003726  \n",
       "...                      ...         ...         ...  \n",
       "TSLA   2024-05-06        NaN         NaN         NaN  \n",
       "       2024-05-07        NaN         NaN         NaN  \n",
       "       2024-05-08        NaN         NaN         NaN  \n",
       "       2024-05-09        NaN         NaN         NaN  \n",
       "       2024-05-10        NaN         NaN         NaN  \n",
       "\n",
       "[73426 rows x 18 columns]"
      ]
     },
     "execution_count": 16,
     "metadata": {},
     "output_type": "execute_result"
    }
   ],
   "source": [
    "data"
   ]
  },
  {
   "cell_type": "markdown",
   "metadata": {},
   "source": [
    "## Date Indicators"
   ]
  },
  {
   "cell_type": "code",
   "execution_count": 17,
   "metadata": {},
   "outputs": [],
   "source": [
    "dates = data.index.get_level_values('date')\n",
    "data['year'] = dates.year\n",
    "data['month'] = dates.month"
   ]
  },
  {
   "cell_type": "code",
   "execution_count": 18,
   "metadata": {},
   "outputs": [
    {
     "name": "stdout",
     "output_type": "stream",
     "text": [
      "<class 'pandas.core.frame.DataFrame'>\n",
      "MultiIndex: 73426 entries, ('AAPL', Timestamp('1981-02-17 00:00:00')) to ('TSLA', Timestamp('2024-05-10 00:00:00'))\n",
      "Data columns (total 20 columns):\n",
      " #   Column      Non-Null Count  Dtype  \n",
      "---  ------      --------------  -----  \n",
      " 0   Close       73426 non-null  float64\n",
      " 1   RSI         73426 non-null  float64\n",
      " 2   BB_High     73426 non-null  float64\n",
      " 3   BB_Mid      73426 non-null  float64\n",
      " 4   BB_Low      73426 non-null  float64\n",
      " 5   ATR         73426 non-null  float64\n",
      " 6   NATR        73426 non-null  float64\n",
      " 7   MACD        73426 non-null  float64\n",
      " 8   return_1d   73415 non-null  float64\n",
      " 9   return_5d   73371 non-null  float64\n",
      " 10  return_10d  73316 non-null  float64\n",
      " 11  return_21d  73195 non-null  float64\n",
      " 12  return_42d  72964 non-null  float64\n",
      " 13  return_63d  72733 non-null  float64\n",
      " 14  target_1d   73415 non-null  float64\n",
      " 15  target_5d   73371 non-null  float64\n",
      " 16  target_10d  73316 non-null  float64\n",
      " 17  target_21d  73195 non-null  float64\n",
      " 18  year        73426 non-null  int32  \n",
      " 19  month       73426 non-null  int32  \n",
      "dtypes: float64(18), int32(2)\n",
      "memory usage: 11.5+ MB\n"
     ]
    }
   ],
   "source": [
    "data.info()"
   ]
  },
  {
   "cell_type": "code",
   "execution_count": 20,
   "metadata": {},
   "outputs": [
    {
     "name": "stdout",
     "output_type": "stream",
     "text": [
      "Test-Statistic: -33.543099153973245\n",
      "P-Value: 0.0\n",
      "Stationary\n"
     ]
    }
   ],
   "source": [
    "from statsmodels.tsa.stattools import adfuller\n",
    "\n",
    "def adf(x):\n",
    "  res = adfuller(x)\n",
    "  print(\"Test-Statistic:\", res[0])\n",
    "  print(\"P-Value:\", res[1])\n",
    "  if res[1] < 0.05:\n",
    "    print(\"Stationary\")\n",
    "  else:\n",
    "    print(\"Non-Stationary\")\n",
    "\n",
    "adf(data['return_1d'].dropna())"
   ]
  },
  {
   "cell_type": "code",
   "execution_count": 21,
   "metadata": {},
   "outputs": [
    {
     "data": {
      "text/plain": [
       "<Axes: xlabel='ticker,date'>"
      ]
     },
     "execution_count": 21,
     "metadata": {},
     "output_type": "execute_result"
    },
    {
     "data": {
      "image/png": "[encoded data removed]",
      "text/plain": [
       "<Figure size 640x480 with 1 Axes>"
      ]
     },
     "metadata": {},
     "output_type": "display_data"
    }
   ],
   "source": [
    "data['return_1d'].dropna().plot()"
   ]
  },
  {
   "cell_type": "code",
   "execution_count": null,
   "metadata": {},
   "outputs": [],
   "source": [
    "assert"
   ]
  },
  {
   "cell_type": "markdown",
   "metadata": {},
   "source": [
    "# Model"
   ]
  },
  {
   "cell_type": "code",
   "execution_count": null,
   "metadata": {},
   "outputs": [],
   "source": [
    "data.dropna(inplace=True)\n",
    "\n",
    "y = data.filter(like='target')\n",
    "# y_binary = (y > 0).astype(int) # Classification Problem\n",
    "X = data.drop(y.columns, axis=1)"
   ]
  },
  {
   "cell_type": "code",
   "execution_count": null,
   "metadata": {},
   "outputs": [],
   "source": [
    "class MultipleTimeSeriesCV:\n",
    "    \"\"\"Generates tuples of train_idx, test_idx pairs\n",
    "    Assumes the MultiIndex contains levels 'symbol' and 'date'\n",
    "    purges overlapping outcomes\"\"\"\n",
    "\n",
    "    def __init__(self,\n",
    "                 n_splits=3,\n",
    "                 train_period_length=126,\n",
    "                 test_period_length=21,\n",
    "                 lookahead=None,\n",
    "                 shuffle=False):\n",
    "        self.n_splits = n_splits\n",
    "        self.lookahead = lookahead\n",
    "        self.test_length = test_period_length\n",
    "        self.train_length = train_period_length\n",
    "        self.shuffle = shuffle\n",
    "\n",
    "    def split(self, X, y=None, groups=None):\n",
    "        unique_dates = X.index.get_level_values('date').unique()\n",
    "        days = sorted(unique_dates, reverse=True)\n",
    "\n",
    "        split_idx = []\n",
    "        for i in range(self.n_splits):\n",
    "            test_end_idx = i * self.test_length\n",
    "            test_start_idx = test_end_idx + self.test_length\n",
    "            train_end_idx = test_start_idx + + self.lookahead - 1\n",
    "            train_start_idx = train_end_idx + self.train_length + self.lookahead - 1\n",
    "            split_idx.append([train_start_idx, train_end_idx,\n",
    "                              test_start_idx, test_end_idx])\n",
    "\n",
    "        dates = X.reset_index()[['date']]\n",
    "        for train_start, train_end, test_start, test_end in split_idx:\n",
    "            train_idx = dates[(dates.date > days[train_start])\n",
    "                              & (dates.date <= days[train_end])].index\n",
    "            test_idx = dates[(dates.date > days[test_start])\n",
    "                             & (dates.date <= days[test_end])].index\n",
    "            if self.shuffle:\n",
    "                np.random.shuffle(list(train_idx))\n",
    "            yield train_idx, test_idx\n",
    "\n",
    "    def get_n_splits(self, X, y, groups=None):\n",
    "        return self.n_splits"
   ]
  },
  {
   "cell_type": "code",
   "execution_count": null,
   "metadata": {},
   "outputs": [],
   "source": [
    "YEAR = 252\n",
    "\n",
    "train_period_length = 63\n",
    "test_period_length = 10\n",
    "n_splits = int(3 * YEAR/test_period_length)\n",
    "lookahead =1\n",
    "\n",
    "cv = MultipleTimeSeriesCV(n_splits=n_splits,\n",
    "                          test_period_length=test_period_length,\n",
    "                          lookahead=lookahead,\n",
    "                          train_period_length=train_period_length)"
   ]
  },
  {
   "cell_type": "code",
   "execution_count": null,
   "metadata": {},
   "outputs": [],
   "source": [
    "i = 0\n",
    "for train_idx, test_idx in cv.split(X=data):\n",
    "    train = data.iloc[train_idx]\n",
    "    train_dates = train.index.get_level_values('date')\n",
    "    test = data.iloc[test_idx]\n",
    "    test_dates = test.index.get_level_values('date')\n",
    "    df = pd.concat([train.reset_index(), test.reset_index()], axis=0)\n",
    "    n = len(df)\n",
    "    assert n == len(df.drop_duplicates())\n",
    "    print(train.groupby(level='ticker').size().value_counts().index[0],\n",
    "          train_dates.min().date(), train_dates.max().date(),\n",
    "          test.groupby(level='ticker').size().value_counts().index[0],\n",
    "          test_dates.min().date(), test_dates.max().date())\n",
    "    i += 1\n",
    "    if i == 10:\n",
    "        break"
   ]
  },
  {
   "cell_type": "code",
   "execution_count": null,
   "metadata": {},
   "outputs": [],
   "source": [
    "# helper func.\n",
    "def plot_preds_scatter(df, ticker=None):\n",
    "    if ticker is not None:\n",
    "        idx = pd.IndexSlice\n",
    "        df = df.loc[idx[ticker, :], :]\n",
    "    j = sns.jointplot(x='predicted', y='actuals',\n",
    "                      robust=True, ci=None,\n",
    "                      line_kws={'lw': 1, 'color': 'k'},\n",
    "                      scatter_kws={'s': 1},\n",
    "                      data=df,\n",
    "                      kind='reg')\n",
    "    j.ax_joint.yaxis.set_major_formatter(\n",
    "        FuncFormatter(lambda y, _: '{:.1%}'.format(y)))\n",
    "    j.ax_joint.xaxis.set_major_formatter(\n",
    "        FuncFormatter(lambda x, _: '{:.1%}'.format(x)))\n",
    "    j.ax_joint.set_xlabel('Predicted')\n",
    "    j.ax_joint.set_ylabel('Actuals')\n",
    "\n",
    "def plot_ic_distribution(df, ax=None):\n",
    "    if ax is not None:\n",
    "        sns.distplot(df.ic, ax=ax)\n",
    "    else:\n",
    "        ax = sns.distplot(df.ic)\n",
    "    mean, median = df.ic.mean(), df.ic.median()\n",
    "    ax.axvline(0, lw=1, ls='--', c='k')\n",
    "    ax.text(x=.05, y=.9,\n",
    "            s=f'Mean: {mean:8.2f}\\nMedian: {median:5.2f}',\n",
    "            horizontalalignment='left',\n",
    "            verticalalignment='center',\n",
    "            transform=ax.transAxes)\n",
    "    ax.set_xlabel('Information Coefficient')\n",
    "    sns.despine()\n",
    "    plt.tight_layout()\n",
    "\n",
    "def plot_rolling_ic(df):\n",
    "    fig, axes = plt.subplots(nrows=2, sharex=True, figsize=(14, 8))\n",
    "    rolling_result = df.sort_index().rolling(21).mean().dropna()\n",
    "    mean_ic = df.ic.mean()\n",
    "    rolling_result.ic.plot(ax=axes[0],\n",
    "                           title=f'Information Coefficient (Mean: {mean_ic:.2f})',\n",
    "                           lw=1)\n",
    "    axes[0].axhline(0, lw=.5, ls='-', color='k')\n",
    "    axes[0].axhline(mean_ic, lw=1, ls='--', color='k')\n",
    "\n",
    "    mean_rmse = df.rmse.mean()\n",
    "    rolling_result.rmse.plot(ax=axes[1],\n",
    "                             title=f'Root Mean Squared Error (Mean: {mean_rmse:.2%})',\n",
    "                             lw=1,\n",
    "                             ylim=(0, df.rmse.max()))\n",
    "    axes[1].axhline(df.rmse.mean(), lw=1, ls='--', color='k')\n",
    "    sns.despine()\n",
    "    plt.tight_layout()"
   ]
  },
  {
   "cell_type": "code",
   "execution_count": null,
   "metadata": {},
   "outputs": [],
   "source": [
    "train_period_length = 63\n",
    "test_period_length = 10\n",
    "n_splits = int(3 * YEAR / test_period_length)\n",
    "lookahead = 1\n",
    "\n",
    "cv = MultipleTimeSeriesCV(n_splits=n_splits,\n",
    "                          test_period_length=test_period_length,\n",
    "                          lookahead=lookahead,\n",
    "                          train_period_length=train_period_length)"
   ]
  },
  {
   "cell_type": "code",
   "execution_count": null,
   "metadata": {},
   "outputs": [],
   "source": [
    "%%time\n",
    "target = f'target_{lookahead}d'\n",
    "lr_predictions, lr_scores = [], []\n",
    "lr = LinearRegression()\n",
    "for i, (train_idx, test_idx) in enumerate(cv.split(X), 1):\n",
    "    X_train, y_train, = X.iloc[train_idx], y[target].iloc[train_idx]\n",
    "    X_test, y_test = X.iloc[test_idx], y[target].iloc[test_idx]\n",
    "    lr.fit(X=X_train, y=y_train)\n",
    "    y_pred = lr.predict(X_test)\n",
    "\n",
    "    preds = y_test.to_frame('actuals').assign(predicted=y_pred)\n",
    "    preds_by_day = preds.groupby(level='date')\n",
    "    scores = pd.concat([preds_by_day.apply(lambda x: spearmanr(x.predicted,\n",
    "                                                               x.actuals)[0] * 100)\n",
    "                        .to_frame('ic'),\n",
    "                        preds_by_day.apply(lambda x: np.sqrt(mean_squared_error(y_pred=x.predicted,\n",
    "                                                                                y_true=x.actuals)))\n",
    "                        .to_frame('rmse')], axis=1)\n",
    "\n",
    "    lr_scores.append(scores)\n",
    "    lr_predictions.append(preds)\n",
    "\n",
    "lr_scores = pd.concat(lr_scores)\n",
    "lr_predictions = pd.concat(lr_predictions)"
   ]
  },
  {
   "cell_type": "code",
   "execution_count": null,
   "metadata": {},
   "outputs": [],
   "source": [
    "lr_r, lr_p = spearmanr(lr_predictions.actuals, lr_predictions.predicted)\n",
    "print(f'Information Coefficient (overall): {lr_r:.3%} (p-value: {lr_p:.4%})')"
   ]
  },
  {
   "cell_type": "code",
   "execution_count": null,
   "metadata": {},
   "outputs": [],
   "source": [
    "lr_predictions"
   ]
  },
  {
   "cell_type": "markdown",
   "metadata": {},
   "source": [
    "# signal"
   ]
  },
  {
   "cell_type": "code",
   "execution_count": null,
   "metadata": {},
   "outputs": [],
   "source": [
    "idx = pd.IndexSlice\n",
    "\n",
    "def get_trade_prices(tickers, start, stop):\n",
    "    prices = data\n",
    "    prices.index.names = ['ticker', 'date']\n",
    "    prices = prices.loc[idx[tickers, str(start):str(stop)], 'Close']\n",
    "    return (prices\n",
    "            .unstack('ticker')\n",
    "            .sort_index()\n",
    "            .shift(-1)\n",
    "            .tz_localize('UTC'))\n",
    "\n",
    "def get_best_alpha(scores):\n",
    "    return scores.groupby('alpha').ic.mean().idxmax()\n",
    "\n",
    "def get_factor(predictions):\n",
    "    return (predictions.unstack('ticker')\n",
    "            .dropna(how='all')\n",
    "            .stack()\n",
    "            .tz_localize('UTC', level='date')\n",
    "            .sort_index())"
   ]
  },
  {
   "cell_type": "code",
   "execution_count": null,
   "metadata": {},
   "outputs": [],
   "source": [
    "lr_factor = get_factor(lr_predictions.predicted.swaplevel())\n",
    "lr_factor.info()"
   ]
  },
  {
   "cell_type": "code",
   "execution_count": null,
   "metadata": {},
   "outputs": [],
   "source": [
    "tickers = lr_factor.index.get_level_values('ticker').unique()\n",
    "\n",
    "trade_prices = get_trade_prices(tickers, 2014, 2017)\n",
    "trade_prices.info()"
   ]
  },
  {
   "cell_type": "code",
   "execution_count": null,
   "metadata": {},
   "outputs": [],
   "source": [
    "lr_factor_data = get_clean_factor_and_forward_returns(factor=lr_factor,\n",
    "                                                      prices=trade_prices,\n",
    "                                                      quantiles=5,\n",
    "                                                      periods=(1, 5, 10, 21))\n",
    "lr_factor_data.info()"
   ]
  }
 ],
 "metadata": {
  "kernelspec": {
   "display_name": "datascience",
   "language": "python",
   "name": "python3"
  },
  "language_info": {
   "codemirror_mode": {
    "name": "ipython",
    "version": 3
   },
   "file_extension": ".py",
   "mimetype": "text/x-python",
   "name": "python",
   "nbconvert_exporter": "python",
   "pygments_lexer": "ipython3",
   "version": "3.9.7"
  }
 },
 "nbformat": 4,
 "nbformat_minor": 2
}
