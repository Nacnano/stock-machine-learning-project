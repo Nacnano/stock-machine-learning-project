{
 "cells": [
  {
   "cell_type": "code",
   "execution_count": null,
   "metadata": {},
   "outputs": [],
   "source": [
    "import pandas as pd\n",
    "import yfinance as yf\n",
    "import numpy as np\n",
    "import matplotlib.pyplot as plt\n",
    "from tqdm import tqdm\n",
    "\n",
    "from LSTM import LSTM\n",
    "import torch\n",
    "import torch.nn as nn\n",
    "\n",
    "from sklearn.linear_model import LinearRegression, LogisticRegression\n",
    "from sklearn.svm import SVR\n",
    "from sklearn.ensemble import RandomForestRegressor\n",
    "from sklearn.metrics import mean_absolute_error, mean_squared_error"
   ]
  },
  {
   "cell_type": "markdown",
   "metadata": {},
   "source": [
    "# Data Preprocessing"
   ]
  },
  {
   "cell_type": "code",
   "execution_count": null,
   "metadata": {},
   "outputs": [],
   "source": [
    "# top 7 MarketCap in S&P500(^GSPC)\n",
    "tickers = ['^GSPC', 'AAPL', 'MSFT', 'AMZN', 'NVDA', 'GOOGL', 'TSLA', 'META']\n",
    "\n",
    "df_close = pd.DataFrame()\n",
    "\n",
    "for ticker in tickers:\n",
    "    data = pd.read_csv(f'data/{ticker}.csv', index_col=\"Date\", parse_dates=True)\n",
    "    \n",
    "    close_prices = data['Close'].rename(ticker + \"_close\")\n",
    "    \n",
    "    df_close = pd.concat([df_close, close_prices], axis=1)\n",
    "\n",
    "df_close.dropna(inplace=True)"
   ]
  },
  {
   "cell_type": "code",
   "execution_count": null,
   "metadata": {},
   "outputs": [],
   "source": [
    "df_log_return = pd.DataFrame()\n",
    "\n",
    "for name in df_close.columns:\n",
    "  col_name = name[:-6] + \"_log_return\"\n",
    "  df_log_return[col_name] = np.log(df_close[name]).diff()\n",
    "  \n",
    "df_log_return['^GSPC_log_return'] = df_log_return['^GSPC_log_return'].shift(-1)\n",
    "df_log_return['^GSPC_log_return'].tail()"
   ]
  },
  {
   "cell_type": "code",
   "execution_count": null,
   "metadata": {},
   "outputs": [],
   "source": [
    "df_log_return"
   ]
  },
  {
   "cell_type": "markdown",
   "metadata": {},
   "source": [
    "# Model"
   ]
  },
  {
   "cell_type": "code",
   "execution_count": null,
   "metadata": {},
   "outputs": [],
   "source": [
    "df_to_model = df_log_return"
   ]
  },
  {
   "cell_type": "code",
   "execution_count": null,
   "metadata": {},
   "outputs": [],
   "source": [
    "Ntest = 1000\n",
    "df_train = df_to_model.iloc[1:-Ntest]\n",
    "df_test = df_to_model.iloc[-Ntest:-1]\n",
    "\n",
    "X_train = df_train.drop(columns=['^GSPC_log_return'])\n",
    "X_test = df_test.drop(columns=['^GSPC_log_return'])\n",
    "\n",
    "y_train = df_train['^GSPC_log_return']\n",
    "y_test = df_test['^GSPC_log_return']"
   ]
  },
  {
   "cell_type": "markdown",
   "metadata": {},
   "source": [
    "## Train Model"
   ]
  },
  {
   "cell_type": "code",
   "execution_count": null,
   "metadata": {},
   "outputs": [],
   "source": [
    "device = torch.device(\"cuda\" if torch.cuda.is_available() else \"cpu\")"
   ]
  },
  {
   "cell_type": "code",
   "execution_count": null,
   "metadata": {},
   "outputs": [],
   "source": [
    "naive_model = None\n",
    "linear_model = LinearRegression()\n",
    "# logistic_model = LogisticRegression()\n",
    "svr_model = SVR()\n",
    "rfr_model = RandomForestRegressor()\n",
    "lstm_model = LSTM()\n",
    "\n",
    "models = {\n",
    "    'NaiveForecast': naive_model,\n",
    "    'LinearRegression': linear_model,\n",
    "    # 'LogisticRegression': logistic_model,\n",
    "    'SVR': svr_model,\n",
    "    'RFR': rfr_model,\n",
    "    'LSTM': lstm_model\n",
    "}"
   ]
  },
  {
   "cell_type": "code",
   "execution_count": null,
   "metadata": {},
   "outputs": [],
   "source": [
    "results = {}\n",
    "\n",
    "for name, model in models.items():\n",
    "    print(\"Training : \", name)\n",
    "\n",
    "    if name == 'NaiveForecast':\n",
    "        y_pred_test = y_test.shift(1).fillna(y_test.iloc[0]) # Backward Filling\n",
    "        y_pred_train = y_train.shift(1).fillna(y_train.iloc[0])\n",
    "    elif name == 'LSTM':\n",
    "        X_train_tensor = torch.tensor(X_train.values, dtype=torch.float32)\n",
    "        X_test_tensor = torch.tensor(X_test.values, dtype=torch.float32)\n",
    "        y_train_tensor = torch.tensor(y_train.values, dtype=torch.float32)\n",
    "        y_test_tensor = torch.tensor(y_test.values, dtype=torch.float32)\n",
    "\n",
    "        train_data = torch.utils.data.TensorDataset(X_train_tensor, y_train_tensor)\n",
    "        train_loader = torch.utils.data.DataLoader(train_data, batch_size=32, shuffle=True)\n",
    "\n",
    "        loss_function = nn.MSELoss()\n",
    "        optimizer = torch.optim.Adam(model.parameters(), lr=0.001)\n",
    "\n",
    "        epochs = 30\n",
    "\n",
    "        model.to(device)\n",
    "        model.train()\n",
    "        \n",
    "        for i in range(epochs):\n",
    "            total_loss = 0\n",
    "            for batch_X, batch_y in train_loader:\n",
    "                batch_X = batch_X[:,:,None].to(device)\n",
    "                batch_y = batch_y[:,None].to(device)\n",
    "\n",
    "                optimizer.zero_grad()\n",
    "                model.reset_hidden_state()\n",
    "                y_pred = model(batch_X)\n",
    "\n",
    "                loss = loss_function(y_pred, batch_y)\n",
    "                loss.backward()\n",
    "                optimizer.step()\n",
    "\n",
    "                total_loss += loss.to(torch.device('cpu')).item()\n",
    "\n",
    "            if i % 5 == 1:\n",
    "                print(f'epoch: {i:3} loss: {total_loss/len(train_loader):10.8f}')\n",
    "\n",
    "        model.eval()\n",
    "\n",
    "        with torch.no_grad():\n",
    "            # y_pred_train = model(X_train_tensor).numpy()\n",
    "            X_test_tensor = X_test_tensor[:,:,None].to(device)\n",
    "            y_pred_test = model(X_test_tensor)\n",
    "            y_pred_test = y_pred_test.to(torch.device('cpu')).numpy().reshape(-1)\n",
    "    else:\n",
    "        if name == 'LogisticRegression':\n",
    "            y_train_bool = (y_train > 0) # Continuos -> Discrete(bool)\n",
    "            model.fit(X_train, y_train_bool)\n",
    "        else:\n",
    "            model.fit(X_train, y_train)\n",
    "        \n",
    "        # y_pred_train = model.predict(X_train)\n",
    "        y_pred_test = model.predict(X_test)\n",
    "    \n",
    "    mae = mean_absolute_error(y_true=y_test, y_pred=y_pred_test)\n",
    "    mse = mean_squared_error(y_true=y_test, y_pred=y_pred_test)\n",
    "    rmse = np.sqrt(mse)\n",
    "    direction = np.mean(np.sign(y_pred_test) == np.sign(y_test))\n",
    "    \n",
    "    \n",
    "    results[name] = {\n",
    "        'model': model,\n",
    "        # 'y_pred_train': y_pred_train,\n",
    "        'y_pred_test': y_pred_test,\n",
    "        'mae': mae,\n",
    "        'mse': mse,\n",
    "        'rmse': rmse,\n",
    "        'direction': direction\n",
    "    }"
   ]
  },
  {
   "cell_type": "code",
   "execution_count": null,
   "metadata": {},
   "outputs": [],
   "source": [
    "for name, metrics in results.items():\n",
    "    print(f\"Model: {name}\")\n",
    "    print(f\"MAE: {metrics['mae']:.4f}\")\n",
    "    print(f\"MSE: {metrics['mse']:.4f}\")\n",
    "    print(f\"RMSE: {metrics['rmse']:.4f}\")\n",
    "    print(f\"direction: {metrics['direction']:.4f}\")\n",
    "    \n",
    "    plt.figure(figsize=(21, 9))\n",
    "    plt.plot(y_test.index, y_test, label='Actual', marker='o')\n",
    "    plt.plot(y_test.index, metrics['y_pred_test'], label='Predicted', marker='x')\n",
    "    plt.xlabel('Date')\n",
    "    plt.ylabel('^GSPC_log_return')\n",
    "    plt.title(f'Actual vs Predicted ^GSPC_log_return ({name})')\n",
    "    plt.legend()\n",
    "    plt.show()"
   ]
  },
  {
   "cell_type": "code",
   "execution_count": null,
   "metadata": {},
   "outputs": [],
   "source": [
    "results"
   ]
  }
 ],
 "metadata": {
  "kernelspec": {
   "display_name": "datascience",
   "language": "python",
   "name": "python3"
  },
  "language_info": {
   "codemirror_mode": {
    "name": "ipython",
    "version": 3
   },
   "file_extension": ".py",
   "mimetype": "text/x-python",
   "name": "python",
   "nbconvert_exporter": "python",
   "pygments_lexer": "ipython3",
   "version": "3.9.7"
  }
 },
 "nbformat": 4,
 "nbformat_minor": 2
}
