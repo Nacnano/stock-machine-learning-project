{
 "cells": [
  {
   "cell_type": "code",
   "execution_count": 1,
   "metadata": {},
   "outputs": [],
   "source": [
    "# import warnings\n",
    "# warnings.filterwarnings('ignore')\n",
    "\n",
    "import os\n",
    "import yfinance as yf\n",
    "import pandas as pd\n",
    "import numpy as np\n",
    "import matplotlib.pyplot as plt\n",
    "import xgboost as xg\n",
    "import joblib\n",
    "\n",
    "# Technical Analysis\n",
    "from talib import RSI, BBANDS, ATR, NATR, MACD\n",
    "\n",
    "# scikit-learn\n",
    "from sklearn.model_selection import train_test_split\n",
    "from sklearn.linear_model import LinearRegression, LogisticRegression\n",
    "from sklearn.svm import SVR\n",
    "from sklearn.ensemble import RandomForestRegressor\n",
    "from sklearn.metrics import mean_absolute_error, mean_squared_error\n",
    "from sklearn.model_selection import TimeSeriesSplit\n",
    "from sklearn.model_selection import GridSearchCV\n",
    "\n",
    "# neural network\n",
    "from tqdm import tqdm\n",
    "import torch\n",
    "import torch.nn as nn\n",
    "  # our model\n",
    "from LSTM import LSTM"
   ]
  },
  {
   "cell_type": "markdown",
   "metadata": {},
   "source": [
    "# Data Preprocessing"
   ]
  },
  {
   "cell_type": "code",
   "execution_count": 2,
   "metadata": {},
   "outputs": [],
   "source": [
    "# def read_tickers_sp500(file_path):\n",
    "#     with open(file_path, 'r') as file:\n",
    "#         tickers_sp500 = [line.strip() for line in file]\n",
    "#     return tickers_sp500\n",
    "\n",
    "# tickers_sp500 = read_tickers_sp500('tickers_sp500.txt')\n",
    "# print(tickers_sp500)"
   ]
  },
  {
   "cell_type": "code",
   "execution_count": 3,
   "metadata": {},
   "outputs": [
    {
     "name": "stderr",
     "output_type": "stream",
     "text": [
      "[*********************100%%**********************]  13 of 13 completed\n"
     ]
    }
   ],
   "source": [
    "# Download data\n",
    "\n",
    "# Stocks list\n",
    "# top 7 MarketCap in S&P500(^GSPC)\n",
    "# tickers = ['^GSPC', 'AAPL', 'MSFT', 'AMZN', 'NVDA', 'GOOGL', 'TSLA', 'META']\n",
    "tickers = ['^GSPC', 'AAPL', 'MSFT', 'AMZN', 'NVDA', 'GOOGL', 'TSLA', 'META', 'AMD', 'INTC', 'NFLX', 'PYPL', 'ASML']\n",
    "# tickers = tickers_sp500\n",
    "start_date = '2014-05-01'\n",
    "end_date = '2024-05-01'\n",
    "\n",
    "df_prices_download = yf.download(tickers=tickers, start=start_date, end=end_date, group_by='ticker')"
   ]
  },
  {
   "cell_type": "code",
   "execution_count": 4,
   "metadata": {},
   "outputs": [
    {
     "name": "stderr",
     "output_type": "stream",
     "text": [
      "/var/folders/m6/fz_qjnl51s70hy69d_st2z240000gn/T/ipykernel_99635/4093512458.py:5: FutureWarning: The previous implementation of stack is deprecated and will be removed in a future version of pandas. See the What's New notes for pandas 2.1.0 for details. Specify future_stack=True to adopt the new implementation and silence this warning.\n",
      "  df_prices = df_prices_download.stack(level=0, dropna=False)\n"
     ]
    },
    {
     "data": {
      "text/html": [
       "<div>\n",
       "<style scoped>\n",
       "    .dataframe tbody tr th:only-of-type {\n",
       "        vertical-align: middle;\n",
       "    }\n",
       "\n",
       "    .dataframe tbody tr th {\n",
       "        vertical-align: top;\n",
       "    }\n",
       "\n",
       "    .dataframe thead th {\n",
       "        text-align: right;\n",
       "    }\n",
       "</style>\n",
       "<table border=\"1\" class=\"dataframe\">\n",
       "  <thead>\n",
       "    <tr style=\"text-align: right;\">\n",
       "      <th></th>\n",
       "      <th>Price</th>\n",
       "      <th>Open</th>\n",
       "      <th>High</th>\n",
       "      <th>Low</th>\n",
       "      <th>Close</th>\n",
       "      <th>Volume</th>\n",
       "    </tr>\n",
       "    <tr>\n",
       "      <th>Ticker</th>\n",
       "      <th>Date</th>\n",
       "      <th></th>\n",
       "      <th></th>\n",
       "      <th></th>\n",
       "      <th></th>\n",
       "      <th></th>\n",
       "    </tr>\n",
       "  </thead>\n",
       "  <tbody>\n",
       "    <tr>\n",
       "      <th rowspan=\"5\" valign=\"top\">AAPL</th>\n",
       "      <th>2014-05-01</th>\n",
       "      <td>21.142857</td>\n",
       "      <td>21.242857</td>\n",
       "      <td>20.941429</td>\n",
       "      <td>18.581392</td>\n",
       "      <td>2.440480e+08</td>\n",
       "    </tr>\n",
       "    <tr>\n",
       "      <th>2014-05-02</th>\n",
       "      <td>21.155001</td>\n",
       "      <td>21.221430</td>\n",
       "      <td>21.061071</td>\n",
       "      <td>18.615944</td>\n",
       "      <td>1.915144e+08</td>\n",
       "    </tr>\n",
       "    <tr>\n",
       "      <th>2014-05-05</th>\n",
       "      <td>21.076429</td>\n",
       "      <td>21.464287</td>\n",
       "      <td>21.071428</td>\n",
       "      <td>18.879213</td>\n",
       "      <td>2.870672e+08</td>\n",
       "    </tr>\n",
       "    <tr>\n",
       "      <th>2014-05-06</th>\n",
       "      <td>21.492857</td>\n",
       "      <td>21.586071</td>\n",
       "      <td>21.228930</td>\n",
       "      <td>18.673439</td>\n",
       "      <td>3.745644e+08</td>\n",
       "    </tr>\n",
       "    <tr>\n",
       "      <th>2014-05-07</th>\n",
       "      <td>21.258928</td>\n",
       "      <td>21.331785</td>\n",
       "      <td>20.990356</td>\n",
       "      <td>18.608097</td>\n",
       "      <td>2.828644e+08</td>\n",
       "    </tr>\n",
       "    <tr>\n",
       "      <th>...</th>\n",
       "      <th>...</th>\n",
       "      <td>...</td>\n",
       "      <td>...</td>\n",
       "      <td>...</td>\n",
       "      <td>...</td>\n",
       "      <td>...</td>\n",
       "    </tr>\n",
       "    <tr>\n",
       "      <th rowspan=\"5\" valign=\"top\">^GSPC</th>\n",
       "      <th>2024-04-24</th>\n",
       "      <td>5084.859863</td>\n",
       "      <td>5089.479980</td>\n",
       "      <td>5047.020020</td>\n",
       "      <td>5071.629883</td>\n",
       "      <td>3.656740e+09</td>\n",
       "    </tr>\n",
       "    <tr>\n",
       "      <th>2024-04-25</th>\n",
       "      <td>5019.879883</td>\n",
       "      <td>5057.750000</td>\n",
       "      <td>4990.580078</td>\n",
       "      <td>5048.419922</td>\n",
       "      <td>3.958050e+09</td>\n",
       "    </tr>\n",
       "    <tr>\n",
       "      <th>2024-04-26</th>\n",
       "      <td>5084.649902</td>\n",
       "      <td>5114.620117</td>\n",
       "      <td>5073.140137</td>\n",
       "      <td>5099.959961</td>\n",
       "      <td>3.604140e+09</td>\n",
       "    </tr>\n",
       "    <tr>\n",
       "      <th>2024-04-29</th>\n",
       "      <td>5114.129883</td>\n",
       "      <td>5123.490234</td>\n",
       "      <td>5088.649902</td>\n",
       "      <td>5116.169922</td>\n",
       "      <td>3.447450e+09</td>\n",
       "    </tr>\n",
       "    <tr>\n",
       "      <th>2024-04-30</th>\n",
       "      <td>5103.779785</td>\n",
       "      <td>5110.830078</td>\n",
       "      <td>5035.310059</td>\n",
       "      <td>5035.689941</td>\n",
       "      <td>4.082470e+09</td>\n",
       "    </tr>\n",
       "  </tbody>\n",
       "</table>\n",
       "<p>32425 rows × 5 columns</p>\n",
       "</div>"
      ],
      "text/plain": [
       "Price                     Open         High          Low        Close  \\\n",
       "Ticker Date                                                             \n",
       "AAPL   2014-05-01    21.142857    21.242857    20.941429    18.581392   \n",
       "       2014-05-02    21.155001    21.221430    21.061071    18.615944   \n",
       "       2014-05-05    21.076429    21.464287    21.071428    18.879213   \n",
       "       2014-05-06    21.492857    21.586071    21.228930    18.673439   \n",
       "       2014-05-07    21.258928    21.331785    20.990356    18.608097   \n",
       "...                        ...          ...          ...          ...   \n",
       "^GSPC  2024-04-24  5084.859863  5089.479980  5047.020020  5071.629883   \n",
       "       2024-04-25  5019.879883  5057.750000  4990.580078  5048.419922   \n",
       "       2024-04-26  5084.649902  5114.620117  5073.140137  5099.959961   \n",
       "       2024-04-29  5114.129883  5123.490234  5088.649902  5116.169922   \n",
       "       2024-04-30  5103.779785  5110.830078  5035.310059  5035.689941   \n",
       "\n",
       "Price                    Volume  \n",
       "Ticker Date                      \n",
       "AAPL   2014-05-01  2.440480e+08  \n",
       "       2014-05-02  1.915144e+08  \n",
       "       2014-05-05  2.870672e+08  \n",
       "       2014-05-06  3.745644e+08  \n",
       "       2014-05-07  2.828644e+08  \n",
       "...                         ...  \n",
       "^GSPC  2024-04-24  3.656740e+09  \n",
       "       2024-04-25  3.958050e+09  \n",
       "       2024-04-26  3.604140e+09  \n",
       "       2024-04-29  3.447450e+09  \n",
       "       2024-04-30  4.082470e+09  \n",
       "\n",
       "[32425 rows x 5 columns]"
      ]
     },
     "execution_count": 4,
     "metadata": {},
     "output_type": "execute_result"
    }
   ],
   "source": [
    "# Format into large table\n",
    "# col: OHLCV\n",
    "# rows(multi-index): Ticker, Date\n",
    "\n",
    "df_prices = df_prices_download.stack(level=0, dropna=False)\n",
    "df_prices = df_prices.swaplevel(0, 1)\n",
    "df_prices = df_prices.loc[tickers].sort_index(level='Ticker')\n",
    "df_prices.dropna(inplace=True)\n",
    "\n",
    "# Use 'Adj Close' instead of 'Close'\n",
    "df_prices.drop('Close', axis=1, inplace=True)\n",
    "df_prices.rename(columns={'Adj Close': 'Close'}, inplace=True)\n",
    "\n",
    "df_prices"
   ]
  },
  {
   "cell_type": "markdown",
   "metadata": {},
   "source": [
    "# Feature Engineering"
   ]
  },
  {
   "cell_type": "markdown",
   "metadata": {},
   "source": [
    "### RSI - Relative Strength Index\n",
    "RSI compares the magnitude of recent price changes across stocks to identify stocks as overbought or oversold."
   ]
  },
  {
   "cell_type": "code",
   "execution_count": 5,
   "metadata": {},
   "outputs": [],
   "source": [
    "rsi = df_prices.groupby(level='Ticker', group_keys=False).Close.apply(RSI)\n",
    "df_prices['RSI'] = rsi"
   ]
  },
  {
   "cell_type": "markdown",
   "metadata": {},
   "source": [
    "### Bollinger Bands\n",
    "Bollinger Bands is a technical analysis tool used to determine where prices are high and low relative to each other."
   ]
  },
  {
   "cell_type": "code",
   "execution_count": 6,
   "metadata": {},
   "outputs": [],
   "source": [
    "def compute_bb(close):\n",
    "    high, mid, low = BBANDS(np.log1p(close), timeperiod=20)\n",
    "    return pd.DataFrame({'BB_High': high,\n",
    "                         'BB_Mid': mid, # SMA20\n",
    "                         'BB_Low': low},\n",
    "                        index=close.index)\n",
    "\n",
    "bbands = df_prices.groupby(level='Ticker', group_keys=False).Close.apply(compute_bb)\n",
    "df_prices = pd.concat([df_prices, bbands], axis=1)"
   ]
  },
  {
   "cell_type": "markdown",
   "metadata": {},
   "source": [
    "### ATR - Average True Range\n",
    "The average true range (ATR) indicator shows the volatility of the market."
   ]
  },
  {
   "cell_type": "code",
   "execution_count": 7,
   "metadata": {},
   "outputs": [],
   "source": [
    "by_ticker = df_prices.groupby('Ticker', group_keys=False)\n",
    "\n",
    "def compute_atr(stock_data):\n",
    "    atr = ATR(stock_data.High,\n",
    "              stock_data.Low,\n",
    "              stock_data.Close,\n",
    "              timeperiod=14)\n",
    "    return atr.sub(atr.mean()).div(atr.std())\n",
    "\n",
    "df_prices['ATR'] = by_ticker.apply(compute_atr)\n",
    "# Normalized Average True Range (NATR)\n",
    "df_prices['NATR'] = by_ticker.apply(lambda x: NATR(high=x.High, low=x.Low, close=x.Close))"
   ]
  },
  {
   "cell_type": "markdown",
   "metadata": {},
   "source": [
    "### MACD - Moving Average Convergence/Divergence"
   ]
  },
  {
   "cell_type": "code",
   "execution_count": 8,
   "metadata": {},
   "outputs": [],
   "source": [
    "def compute_macd(close):\n",
    "    macd = MACD(close)[0]\n",
    "    return macd.sub(macd.mean()).div(macd.std())\n",
    "\n",
    "df_prices['MACD'] = df_prices.groupby(level='Ticker', group_keys=False).Close.apply(compute_macd)"
   ]
  },
  {
   "cell_type": "markdown",
   "metadata": {},
   "source": [
    "## Determine Investment Universe"
   ]
  },
  {
   "cell_type": "markdown",
   "metadata": {},
   "source": [
    "### Dollar Volume"
   ]
  },
  {
   "cell_type": "code",
   "execution_count": 9,
   "metadata": {},
   "outputs": [],
   "source": [
    "# Close: USD\n",
    "# Volumn: Amount\n",
    "df_prices['Dollar_Volume'] = (df_prices.loc[:, 'Close']\n",
    "                           .mul(df_prices.loc[:, 'Volume'], axis=0))\n",
    "\n",
    "df_prices.Dollar_Volume /= 1e6 # Dollar_Volume: Million USD\n",
    "\n",
    "df_prices.dropna(inplace=True)"
   ]
  },
  {
   "cell_type": "code",
   "execution_count": 10,
   "metadata": {},
   "outputs": [
    {
     "name": "stderr",
     "output_type": "stream",
     "text": [
      "/var/folders/m6/fz_qjnl51s70hy69d_st2z240000gn/T/ipykernel_99635/2880814464.py:14: FutureWarning: The previous implementation of stack is deprecated and will be removed in a future version of pandas. See the What's New notes for pandas 2.1.0 for details. Specify future_stack=True to adopt the new implementation and silence this warning.\n",
      "  df_prices.unstack(\"Ticker\")[remian_cols]\n"
     ]
    },
    {
     "name": "stdout",
     "output_type": "stream",
     "text": [
      "<class 'pandas.core.frame.DataFrame'>\n",
      "MultiIndex: 31996 entries, ('AAPL', Timestamp('2014-06-18 00:00:00')) to ('^GSPC', Timestamp('2024-04-30 00:00:00'))\n",
      "Data columns (total 9 columns):\n",
      " #   Column         Non-Null Count  Dtype  \n",
      "---  ------         --------------  -----  \n",
      " 0   Dollar_Volume  31996 non-null  float64\n",
      " 1   Close          31996 non-null  float64\n",
      " 2   RSI            31996 non-null  float64\n",
      " 3   BB_High        31996 non-null  float64\n",
      " 4   BB_Mid         31996 non-null  float64\n",
      " 5   BB_Low         31996 non-null  float64\n",
      " 6   ATR            31996 non-null  float64\n",
      " 7   NATR           31996 non-null  float64\n",
      " 8   MACD           31996 non-null  float64\n",
      "dtypes: float64(9)\n",
      "memory usage: 2.4+ MB\n"
     ]
    }
   ],
   "source": [
    "remian_cols = [c for c in df_prices.columns.unique(0) if c not in ['Dollar_Volume', 'Volume', 'Open', 'High', 'Low']]\n",
    "\n",
    "# New data frame: 'data' - load to model\n",
    "data = (\n",
    "    pd.concat(\n",
    "        [\n",
    "        # avg(1M) Dollar_Volume\n",
    "            df_prices.unstack(\"Ticker\")\n",
    "            .Dollar_Volume.resample('D')\n",
    "            .mean()\n",
    "            .stack(\"Ticker\")\n",
    "            .to_frame(\"Dollar_Volume\"),\n",
    "        # (Adj)Close & Technical Indicators\n",
    "            df_prices.unstack(\"Ticker\")[remian_cols]\n",
    "            .resample('D')\n",
    "            .last()\n",
    "            .stack(\"Ticker\")\n",
    "        ],\n",
    "        axis=1\n",
    "    )\n",
    "    .swaplevel()\n",
    "    .sort_index(level='Ticker')\n",
    "    .dropna()\n",
    ")\n",
    "\n",
    "data.info()"
   ]
  },
  {
   "cell_type": "markdown",
   "metadata": {},
   "source": [
    "## Monthly Return"
   ]
  },
  {
   "cell_type": "code",
   "execution_count": 11,
   "metadata": {},
   "outputs": [
    {
     "name": "stdout",
     "output_type": "stream",
     "text": [
      "<class 'pandas.core.frame.DataFrame'>\n",
      "MultiIndex: 31983 entries, ('AAPL', Timestamp('2014-06-19 00:00:00')) to ('^GSPC', Timestamp('2024-04-30 00:00:00'))\n",
      "Data columns (total 6 columns):\n",
      " #   Column      Non-Null Count  Dtype  \n",
      "---  ------      --------------  -----  \n",
      " 0   Return_1d   31983 non-null  float64\n",
      " 1   Return_5d   31931 non-null  float64\n",
      " 2   Return_10d  31866 non-null  float64\n",
      " 3   Return_21d  31723 non-null  float64\n",
      " 4   Return_42d  31450 non-null  float64\n",
      " 5   Return_63d  31177 non-null  float64\n",
      "dtypes: float64(6)\n",
      "memory usage: 1.6+ MB\n"
     ]
    }
   ],
   "source": [
    "outlier_cutoff = 0.01 # winsorize returns at the [1%, 99%]\n",
    "# lags = [1, 3, 6, 12] # Month timeframe\n",
    "lags = [1, 5, 10, 21, 42, 63] # Day timeframe\n",
    "returns = []\n",
    "\n",
    "for lag in lags:\n",
    "    returns.append(data\n",
    "                   .Close\n",
    "                   .unstack('Ticker')\n",
    "                   .sort_index()\n",
    "                   .pct_change(lag)\n",
    "                   .stack('Ticker')\n",
    "                   .pipe(lambda x: x.clip(lower=x.quantile(outlier_cutoff),\n",
    "                                          upper=x.quantile(1-outlier_cutoff)))\n",
    "                   .add(1)\n",
    "                   .pow(1/lag)\n",
    "                   .sub(1)\n",
    "                   .to_frame(f'Return_{lag}d')\n",
    "                   )\n",
    "\n",
    "df_returns = pd.concat(returns, axis=1).swaplevel().sort_index(level='Ticker')\n",
    "df_returns.info()"
   ]
  },
  {
   "cell_type": "code",
   "execution_count": 12,
   "metadata": {},
   "outputs": [
    {
     "name": "stdout",
     "output_type": "stream",
     "text": [
      "<class 'pandas.core.frame.DataFrame'>\n",
      "MultiIndex: 31177 entries, ('AAPL', Timestamp('2014-09-17 00:00:00')) to ('^GSPC', Timestamp('2024-04-30 00:00:00'))\n",
      "Data columns (total 14 columns):\n",
      " #   Column         Non-Null Count  Dtype  \n",
      "---  ------         --------------  -----  \n",
      " 0   Dollar_Volume  31177 non-null  float64\n",
      " 1   RSI            31177 non-null  float64\n",
      " 2   BB_High        31177 non-null  float64\n",
      " 3   BB_Mid         31177 non-null  float64\n",
      " 4   BB_Low         31177 non-null  float64\n",
      " 5   ATR            31177 non-null  float64\n",
      " 6   NATR           31177 non-null  float64\n",
      " 7   MACD           31177 non-null  float64\n",
      " 8   Return_1d      31177 non-null  float64\n",
      " 9   Return_5d      31177 non-null  float64\n",
      " 10  Return_10d     31177 non-null  float64\n",
      " 11  Return_21d     31177 non-null  float64\n",
      " 12  Return_42d     31177 non-null  float64\n",
      " 13  Return_63d     31177 non-null  float64\n",
      "dtypes: float64(14)\n",
      "memory usage: 3.6+ MB\n"
     ]
    }
   ],
   "source": [
    "# merge returns -> data\n",
    "# drop 'Close', use 'Returns' instead\n",
    "data = data.join(df_returns).drop('Close', axis=1).dropna()\n",
    "data.info()"
   ]
  },
  {
   "cell_type": "code",
   "execution_count": 13,
   "metadata": {},
   "outputs": [
    {
     "name": "stdout",
     "output_type": "stream",
     "text": [
      "<class 'pandas.core.frame.DataFrame'>\n",
      "MultiIndex: 31177 entries, ('AAPL', Timestamp('2014-09-17 00:00:00')) to ('^GSPC', Timestamp('2024-04-30 00:00:00'))\n",
      "Data columns (total 14 columns):\n",
      " #   Column         Non-Null Count  Dtype  \n",
      "---  ------         --------------  -----  \n",
      " 0   Dollar_Volume  31177 non-null  float64\n",
      " 1   RSI            31177 non-null  float64\n",
      " 2   BB_High        31177 non-null  float64\n",
      " 3   BB_Mid         31177 non-null  float64\n",
      " 4   BB_Low         31177 non-null  float64\n",
      " 5   ATR            31177 non-null  float64\n",
      " 6   NATR           31177 non-null  float64\n",
      " 7   MACD           31177 non-null  float64\n",
      " 8   Return_1d      31177 non-null  float64\n",
      " 9   Return_5d      31177 non-null  float64\n",
      " 10  Return_10d     31177 non-null  float64\n",
      " 11  Return_21d     31177 non-null  float64\n",
      " 12  Return_42d     31177 non-null  float64\n",
      " 13  Return_63d     31177 non-null  float64\n",
      "dtypes: float64(14)\n",
      "memory usage: 3.6+ MB\n"
     ]
    }
   ],
   "source": [
    "data.info()"
   ]
  },
  {
   "cell_type": "markdown",
   "metadata": {},
   "source": [
    "## Price Momentum\n",
    "This factor computes the total return for a given number of prior trading days d."
   ]
  },
  {
   "cell_type": "code",
   "execution_count": 17,
   "metadata": {},
   "outputs": [
    {
     "name": "stdout",
     "output_type": "stream",
     "text": [
      "<class 'pandas.core.frame.DataFrame'>\n",
      "MultiIndex: 31177 entries, ('AAPL', Timestamp('2014-09-17 00:00:00')) to ('^GSPC', Timestamp('2024-04-30 00:00:00'))\n",
      "Data columns (total 23 columns):\n",
      " #   Column         Non-Null Count  Dtype  \n",
      "---  ------         --------------  -----  \n",
      " 0   Dollar_Volume  31177 non-null  float64\n",
      " 1   RSI            31177 non-null  float64\n",
      " 2   BB_High        31177 non-null  float64\n",
      " 3   BB_Mid         31177 non-null  float64\n",
      " 4   BB_Low         31177 non-null  float64\n",
      " 5   ATR            31177 non-null  float64\n",
      " 6   NATR           31177 non-null  float64\n",
      " 7   MACD           31177 non-null  float64\n",
      " 8   Return_1d      31177 non-null  float64\n",
      " 9   Return_5d      31177 non-null  float64\n",
      " 10  Return_10d     31177 non-null  float64\n",
      " 11  Return_21d     31177 non-null  float64\n",
      " 12  Return_42d     31177 non-null  float64\n",
      " 13  Return_63d     31177 non-null  float64\n",
      " 14  Momentum_5     31177 non-null  float64\n",
      " 15  Momentum_10    31177 non-null  float64\n",
      " 16  Momentum_5_10  31177 non-null  float64\n",
      " 17  Momentum_21    31177 non-null  float64\n",
      " 18  Momentum_5_21  31177 non-null  float64\n",
      " 19  Momentum_42    31177 non-null  float64\n",
      " 20  Momentum_5_42  31177 non-null  float64\n",
      " 21  Momentum_63    31177 non-null  float64\n",
      " 22  Momentum_5_63  31177 non-null  float64\n",
      "dtypes: float64(23)\n",
      "memory usage: 5.7+ MB\n"
     ]
    }
   ],
   "source": [
    "# # Month timeframe\n",
    "# for lag in [3, 6, 12]:\n",
    "#     data[f'Momentum_{lag}'] = data[f'Return_{lag}m'].sub(data.Return_1m) # 3Xm - 1m\n",
    "#     if lag > 3:\n",
    "#         data[f'Momentum_3_{lag}'] = data[f'Return_{lag}m'].sub(data.Return_3m) # 6Xm - 3m\n",
    "\n",
    "# Day timeframe\n",
    "for lag in [5, 10, 21, 42, 63]:\n",
    "    data[f'Momentum_{lag}'] = data[f'Return_{lag}d'].sub(data.Return_1d) # 3Xm - 1m\n",
    "    if lag > 5:\n",
    "        data[f'Momentum_5_{lag}'] = data[f'Return_{lag}d'].sub(data.Return_5d) # 6Xm - 3m\n",
    "\n",
    "data.info()"
   ]
  },
  {
   "cell_type": "markdown",
   "metadata": {},
   "source": [
    "## Date Indicators"
   ]
  },
  {
   "cell_type": "code",
   "execution_count": 19,
   "metadata": {},
   "outputs": [],
   "source": [
    "dates = data.index.get_level_values('Date')\n",
    "data['Year'] = dates.year\n",
    "data['Month'] = dates.month"
   ]
  },
  {
   "cell_type": "markdown",
   "metadata": {},
   "source": [
    "## Target: Holding Period Returns\n",
    "1 day target holding period\\\n",
    "= to predict return in next 1 day (tomorrow)"
   ]
  },
  {
   "cell_type": "code",
   "execution_count": 20,
   "metadata": {},
   "outputs": [
    {
     "name": "stdout",
     "output_type": "stream",
     "text": [
      "<class 'pandas.core.frame.DataFrame'>\n",
      "MultiIndex: 31164 entries, ('AAPL', Timestamp('2014-09-17 00:00:00')) to ('^GSPC', Timestamp('2024-04-29 00:00:00'))\n",
      "Data columns (total 26 columns):\n",
      " #   Column         Non-Null Count  Dtype  \n",
      "---  ------         --------------  -----  \n",
      " 0   Dollar_Volume  31164 non-null  float64\n",
      " 1   RSI            31164 non-null  float64\n",
      " 2   BB_High        31164 non-null  float64\n",
      " 3   BB_Mid         31164 non-null  float64\n",
      " 4   BB_Low         31164 non-null  float64\n",
      " 5   ATR            31164 non-null  float64\n",
      " 6   NATR           31164 non-null  float64\n",
      " 7   MACD           31164 non-null  float64\n",
      " 8   Return_1d      31164 non-null  float64\n",
      " 9   Return_5d      31164 non-null  float64\n",
      " 10  Return_10d     31164 non-null  float64\n",
      " 11  Return_21d     31164 non-null  float64\n",
      " 12  Return_42d     31164 non-null  float64\n",
      " 13  Return_63d     31164 non-null  float64\n",
      " 14  Momentum_5     31164 non-null  float64\n",
      " 15  Momentum_10    31164 non-null  float64\n",
      " 16  Momentum_5_10  31164 non-null  float64\n",
      " 17  Momentum_21    31164 non-null  float64\n",
      " 18  Momentum_5_21  31164 non-null  float64\n",
      " 19  Momentum_42    31164 non-null  float64\n",
      " 20  Momentum_5_42  31164 non-null  float64\n",
      " 21  Momentum_63    31164 non-null  float64\n",
      " 22  Momentum_5_63  31164 non-null  float64\n",
      " 23  Year           31164 non-null  int32  \n",
      " 24  Month          31164 non-null  int32  \n",
      " 25  target         31164 non-null  float64\n",
      "dtypes: float64(24), int32(2)\n",
      "memory usage: 6.2+ MB\n"
     ]
    }
   ],
   "source": [
    "data['target'] = data.groupby(level='Ticker')['Return_1d'].shift(-1)\n",
    "data = data.dropna()\n",
    "data.info()"
   ]
  },
  {
   "cell_type": "markdown",
   "metadata": {},
   "source": [
    "## Save data to local"
   ]
  },
  {
   "cell_type": "code",
   "execution_count": 28,
   "metadata": {},
   "outputs": [],
   "source": [
    "DATA_PATH = 'data'\n",
    "\n",
    "df_prices.to_csv(f'{DATA_PATH}/prices.csv', index=True)\n",
    "df_returns.to_csv(f'{DATA_PATH}/returns.csv', index=True)\n",
    "data.to_csv(f'{DATA_PATH}/data.csv', index=True)"
   ]
  },
  {
   "cell_type": "code",
   "execution_count": 23,
   "metadata": {},
   "outputs": [
    {
     "name": "stdout",
     "output_type": "stream",
     "text": [
      "<class 'pandas.core.frame.DataFrame'>\n",
      "MultiIndex: 31996 entries, ('AAPL', Timestamp('2014-06-18 00:00:00')) to ('^GSPC', Timestamp('2024-04-30 00:00:00'))\n",
      "Data columns (total 13 columns):\n",
      " #   Column         Non-Null Count  Dtype  \n",
      "---  ------         --------------  -----  \n",
      " 0   Open           31996 non-null  float64\n",
      " 1   High           31996 non-null  float64\n",
      " 2   Low            31996 non-null  float64\n",
      " 3   Close          31996 non-null  float64\n",
      " 4   Volume         31996 non-null  float64\n",
      " 5   RSI            31996 non-null  float64\n",
      " 6   BB_High        31996 non-null  float64\n",
      " 7   BB_Mid         31996 non-null  float64\n",
      " 8   BB_Low         31996 non-null  float64\n",
      " 9   ATR            31996 non-null  float64\n",
      " 10  NATR           31996 non-null  float64\n",
      " 11  MACD           31996 non-null  float64\n",
      " 12  Dollar_Volume  31996 non-null  float64\n",
      "dtypes: float64(13)\n",
      "memory usage: 3.3+ MB\n"
     ]
    }
   ],
   "source": [
    "df_prices.info()"
   ]
  },
  {
   "cell_type": "code",
   "execution_count": 24,
   "metadata": {},
   "outputs": [
    {
     "name": "stdout",
     "output_type": "stream",
     "text": [
      "<class 'pandas.core.frame.DataFrame'>\n",
      "MultiIndex: 31983 entries, ('AAPL', Timestamp('2014-06-19 00:00:00')) to ('^GSPC', Timestamp('2024-04-30 00:00:00'))\n",
      "Data columns (total 6 columns):\n",
      " #   Column      Non-Null Count  Dtype  \n",
      "---  ------      --------------  -----  \n",
      " 0   Return_1d   31983 non-null  float64\n",
      " 1   Return_5d   31931 non-null  float64\n",
      " 2   Return_10d  31866 non-null  float64\n",
      " 3   Return_21d  31723 non-null  float64\n",
      " 4   Return_42d  31450 non-null  float64\n",
      " 5   Return_63d  31177 non-null  float64\n",
      "dtypes: float64(6)\n",
      "memory usage: 2.6+ MB\n"
     ]
    }
   ],
   "source": [
    "df_returns.info()"
   ]
  },
  {
   "cell_type": "code",
   "execution_count": 25,
   "metadata": {},
   "outputs": [
    {
     "name": "stdout",
     "output_type": "stream",
     "text": [
      "<class 'pandas.core.frame.DataFrame'>\n",
      "MultiIndex: 31164 entries, ('AAPL', Timestamp('2014-09-17 00:00:00')) to ('^GSPC', Timestamp('2024-04-29 00:00:00'))\n",
      "Data columns (total 26 columns):\n",
      " #   Column         Non-Null Count  Dtype  \n",
      "---  ------         --------------  -----  \n",
      " 0   Dollar_Volume  31164 non-null  float64\n",
      " 1   RSI            31164 non-null  float64\n",
      " 2   BB_High        31164 non-null  float64\n",
      " 3   BB_Mid         31164 non-null  float64\n",
      " 4   BB_Low         31164 non-null  float64\n",
      " 5   ATR            31164 non-null  float64\n",
      " 6   NATR           31164 non-null  float64\n",
      " 7   MACD           31164 non-null  float64\n",
      " 8   Return_1d      31164 non-null  float64\n",
      " 9   Return_5d      31164 non-null  float64\n",
      " 10  Return_10d     31164 non-null  float64\n",
      " 11  Return_21d     31164 non-null  float64\n",
      " 12  Return_42d     31164 non-null  float64\n",
      " 13  Return_63d     31164 non-null  float64\n",
      " 14  Momentum_5     31164 non-null  float64\n",
      " 15  Momentum_10    31164 non-null  float64\n",
      " 16  Momentum_5_10  31164 non-null  float64\n",
      " 17  Momentum_21    31164 non-null  float64\n",
      " 18  Momentum_5_21  31164 non-null  float64\n",
      " 19  Momentum_42    31164 non-null  float64\n",
      " 20  Momentum_5_42  31164 non-null  float64\n",
      " 21  Momentum_63    31164 non-null  float64\n",
      " 22  Momentum_5_63  31164 non-null  float64\n",
      " 23  Year           31164 non-null  int32  \n",
      " 24  Month          31164 non-null  int32  \n",
      " 25  target         31164 non-null  float64\n",
      "dtypes: float64(24), int32(2)\n",
      "memory usage: 6.2+ MB\n"
     ]
    }
   ],
   "source": [
    "data.info()"
   ]
  },
  {
   "cell_type": "markdown",
   "metadata": {},
   "source": [
    "# Model"
   ]
  },
  {
   "cell_type": "code",
   "execution_count": null,
   "metadata": {},
   "outputs": [],
   "source": [
    "# Simple Split\n",
    "\n",
    "# X = data.drop('target', axis=1)\n",
    "# y = data.target\n",
    "\n",
    "# X_train, X_test, y_train, y_test = train_test_split(X, y, test_size=0.2, random_state=7)\n",
    "\n",
    "# Ntest = 1000\n",
    "# df_train = df_to_model.iloc[1:-Ntest]\n",
    "# df_test = df_to_model.iloc[-Ntest:-1]\n",
    "\n",
    "# X_train = df_train.drop(columns=['^GSPC_log_return'])\n",
    "# X_test = df_test.drop(columns=['^GSPC_log_return'])\n",
    "\n",
    "# y_train = df_train['^GSPC_log_return']\n",
    "# y_test = df_test['^GSPC_log_return']"
   ]
  },
  {
   "cell_type": "markdown",
   "metadata": {},
   "source": [
    "## Train-Test Split\n",
    "**Strategy:** Time Series Cross-Validator:\n",
    "\n",
    "A variation of KFold. In the kth split, it returns first k folds as train set and the (k+1)th fold as test set.\n"
   ]
  },
  {
   "cell_type": "code",
   "execution_count": null,
   "metadata": {},
   "outputs": [],
   "source": [
    "for ticker in data.index.unique('Ticker'):\n",
    "    print(ticker, \" size:\", data.loc[ticker].shape)"
   ]
  },
  {
   "cell_type": "code",
   "execution_count": null,
   "metadata": {},
   "outputs": [],
   "source": [
    "split_data = dict()\n",
    "\n",
    "tscv = TimeSeriesSplit(n_splits=3)\n",
    "\n",
    "for ticker in data.index.unique('Ticker'):\n",
    "    X = data.loc[ticker].drop(columns=['target'])\n",
    "    y = data.loc[ticker]['target']\n",
    "    ticker_data = { 'X_train': [], 'X_test': [], 'y_train': [], 'y_test': [] }\n",
    "    for train_index, test_index in tscv.split(data.loc[ticker]):\n",
    "        X_train, X_test = X.iloc[train_index, :], X.iloc[test_index,:]\n",
    "        y_train, y_test = y.iloc[train_index], y.iloc[test_index]\n",
    "\n",
    "        ticker_data['X_train'].append(X_train)\n",
    "        ticker_data['X_test'].append(X_test)\n",
    "        ticker_data['y_train'].append(y_train)\n",
    "        ticker_data['y_test'].append(y_test)\n",
    "\n",
    "    split_data[ticker] = ticker_data\n",
    "\n",
    "print(split_data.keys())\n",
    "print(split_data['AAPL'][\"X_train\"][0].shape, split_data['AAPL'][\"y_train\"][0].shape,)"
   ]
  },
  {
   "cell_type": "markdown",
   "metadata": {},
   "source": [
    "## Train Model"
   ]
  },
  {
   "cell_type": "code",
   "execution_count": null,
   "metadata": {},
   "outputs": [],
   "source": [
    "if torch.cuda.is_available():\n",
    "    # Nvidia CUDA\n",
    "    device = torch.device(\"cuda\")\n",
    "elif torch.backends.mps.is_available():\n",
    "    # Apple Metal\n",
    "    device = torch.device(\"mps\")\n",
    "else:\n",
    "    device = torch.device(\"cpu\")\n",
    "\n",
    "print(f'Device: {device}')"
   ]
  },
  {
   "cell_type": "code",
   "execution_count": null,
   "metadata": {},
   "outputs": [],
   "source": [
    "# model_list = ['NaiveForecast', 'LinearRegression', 'SVR', 'RFR', 'XGB', 'LSTM']\n",
    "\n",
    "naive_model = None\n",
    "linear_model = LinearRegression()\n",
    "# logistic_model = LogisticRegression()\n",
    "svr_model = SVR()\n",
    "rfr_model = RandomForestRegressor()\n",
    "xgb_model = xg.XGBRegressor()\n",
    "lstm_model = LSTM()\n",
    "\n",
    "models = {\n",
    "    'NaiveForecast': naive_model,\n",
    "    'LinearRegression': linear_model,\n",
    "    # 'LogisticRegression': logistic_model,\n",
    "    'SVR': svr_model,\n",
    "    'RFR': rfr_model,\n",
    "    'XGB': xgb_model,\n",
    "    'LSTM': lstm_model\n",
    "}"
   ]
  },
  {
   "cell_type": "code",
   "execution_count": null,
   "metadata": {},
   "outputs": [],
   "source": [
    "results = dict()\n",
    "\n",
    "for ticker in data.index.unique('Ticker'):\n",
    "\n",
    "    print(\"Training Ticker:\", ticker)\n",
    "\n",
    "    results[ticker] = dict()\n",
    "\n",
    "    for iter in range(len(split_data[ticker]['X_train'])):\n",
    "        # print(\"  Iter:\", iter)\n",
    "        X_train = split_data[ticker]['X_train'][iter]\n",
    "        X_test = split_data[ticker]['X_test'][iter]\n",
    "        y_train = split_data[ticker]['y_train'][iter]\n",
    "        y_test = split_data[ticker]['y_test'][iter]\n",
    "\n",
    "        for name, model in models.items():\n",
    "\n",
    "            if name == 'NaiveForecast':\n",
    "                y_pred_test = y_test.shift(1).fillna(y_test.iloc[0]) # Backward Filling\n",
    "                y_pred_train = y_train.shift(1).fillna(y_train.iloc[0])\n",
    "            elif name == 'LSTM':\n",
    "                X_train_tensor = torch.tensor(X_train.values, dtype=torch.float32)\n",
    "                X_test_tensor = torch.tensor(X_test.values, dtype=torch.float32)\n",
    "                y_train_tensor = torch.tensor(y_train.values, dtype=torch.float32)\n",
    "                y_test_tensor = torch.tensor(y_test.values, dtype=torch.float32)\n",
    "\n",
    "                train_data = torch.utils.data.TensorDataset(X_train_tensor, y_train_tensor)\n",
    "                train_loader = torch.utils.data.DataLoader(train_data, batch_size=32, shuffle=True)\n",
    "\n",
    "                loss_function = nn.MSELoss()\n",
    "                optimizer = torch.optim.Adam(model.parameters(), lr=0.001)\n",
    "\n",
    "                epochs = 30\n",
    "\n",
    "                model.to(device)\n",
    "                model.train()\n",
    "\n",
    "                for i in tqdm(range(epochs), desc='LSTM'):\n",
    "                    total_loss = 0\n",
    "                    for batch_X, batch_y in train_loader:\n",
    "                        batch_X = batch_X[:,:,None].to(device)\n",
    "                        batch_y = batch_y[:,None].to(device)\n",
    "\n",
    "                        optimizer.zero_grad()\n",
    "                        model.reset_hidden_state()\n",
    "                        y_pred = model(batch_X)\n",
    "\n",
    "                        loss = loss_function(y_pred, batch_y)\n",
    "                        loss.backward()\n",
    "                        optimizer.step()\n",
    "\n",
    "                        total_loss += loss.to(torch.device('cpu')).item()\n",
    "\n",
    "                model.eval()\n",
    "\n",
    "                with torch.no_grad():\n",
    "                    X_test_tensor = X_test_tensor[:,:,None].to(device)\n",
    "                    y_pred_test = model(X_test_tensor)\n",
    "                    y_pred_test = y_pred_test.to(torch.device('cpu')).numpy().reshape(-1)\n",
    "            else:\n",
    "                model.fit(X_train, y_train)\n",
    "                y_pred_test = model.predict(X_test)\n",
    "\n",
    "            mae = mean_absolute_error(y_true=y_test, y_pred=y_pred_test)\n",
    "            mse = mean_squared_error(y_true=y_test, y_pred=y_pred_test)\n",
    "            rmse = np.sqrt(mse)\n",
    "            direction = ( np.mean(np.sign(y_pred_test) == np.sign(y_test)) )\n",
    "\n",
    "            if name not in results[ticker].keys() or mse < results[ticker][name]['mse']:\n",
    "\n",
    "                results[ticker][name] = {\n",
    "                    'iter': iter,\n",
    "                    'model': model,\n",
    "                    'y_test': y_test,\n",
    "                    'y_pred_test': y_pred_test,\n",
    "                    'mae': mae,\n",
    "                    'mse': mse,\n",
    "                    'rmse': rmse,\n",
    "                    'direction': direction\n",
    "                }"
   ]
  },
  {
   "cell_type": "code",
   "execution_count": null,
   "metadata": {},
   "outputs": [],
   "source": [
    "for ticker in results.keys():\n",
    "\n",
    "    if ticker != \"^GSPC\":  # prevent too much printing\n",
    "        continue\n",
    "\n",
    "    for name, metrics in results[ticker].items():\n",
    "        print(f\"Ticker: {ticker}\")\n",
    "        print(f\"Model: {name} (Best Iteration: {metrics['iter']})\")\n",
    "        print(f\"MAE: {metrics['mae']:.4f}\")\n",
    "        print(f\"MSE: {metrics['mse']:.4f}\")\n",
    "        print(f\"RMSE: {metrics['rmse']:.4f}\")\n",
    "        print(f\"Direction: {metrics['direction']:.4f}\")\n",
    "\n",
    "        plt.figure(figsize=(21, 9))\n",
    "        plt.plot(metrics['y_test'].index, metrics['y_test'], label='Actual', marker='o')\n",
    "        plt.plot(metrics['y_test'].index, metrics['y_pred_test'], label='Predicted', marker='x')\n",
    "        plt.xlabel('Date')\n",
    "        plt.ylabel('target')\n",
    "        plt.title(f'Actual vs Predicted {ticker} ({name})')\n",
    "        plt.legend()\n",
    "        plt.show()"
   ]
  },
  {
   "cell_type": "markdown",
   "metadata": {},
   "source": [
    "# Hyper Parameter Tuning\n",
    "**Strategy**: Grid Search CV\n",
    "\n",
    "Exhaustive search over specified parameter values for an estimator."
   ]
  },
  {
   "cell_type": "code",
   "execution_count": null,
   "metadata": {},
   "outputs": [],
   "source": [
    "# naive_model = None\n",
    "tuned_linear_model = LinearRegression()\n",
    "# tuned_logistic_model = LogisticRegression()\n",
    "tuned_svr_model = SVR()\n",
    "tuned_rfr_model = RandomForestRegressor()\n",
    "tuned_xgb_model = xg.XGBRegressor()\n",
    "# lstm_model = LSTM()\n",
    "\n",
    "tuned_models = {\n",
    "    # 'NaiveForecast': naive_model,\n",
    "    'tuned_LinearRegression': tuned_linear_model,\n",
    "    # 'tuned_LogisticRegression': tuned_logistic_model,\n",
    "    'tuned_SVR': tuned_svr_model,\n",
    "    'tuned_RFR': tuned_rfr_model,\n",
    "    'tuned_XGB': tuned_xgb_model\n",
    "    # 'LSTM': lstm_model\n",
    "}"
   ]
  },
  {
   "cell_type": "code",
   "execution_count": null,
   "metadata": {},
   "outputs": [],
   "source": [
    "tuned_results = dict()\n",
    "\n",
    "for ticker in data.index.unique('Ticker'):\n",
    "\n",
    "    print(\"Training Ticker:\", ticker)\n",
    "\n",
    "    tuned_results[ticker] = dict()\n",
    "\n",
    "    for iter in range(len(split_data[ticker]['X_train'])):\n",
    "        print(\"  Iteration:\", iter)\n",
    "        X_train = split_data[ticker]['X_train'][iter]\n",
    "        X_test = split_data[ticker]['X_test'][iter]\n",
    "        y_train = split_data[ticker]['y_train'][iter]\n",
    "        y_test = split_data[ticker]['y_test'][iter]\n",
    "\n",
    "        for name, model in tuned_models.items():\n",
    "\n",
    "            if name == 'tuned_SVR':\n",
    "                params = {\n",
    "                    'kernel': ['linear', 'poly', 'rbf', 'sigmoid'],\n",
    "                    'degree': np.arange(1, 5),\n",
    "                    # 'gamma': ['scale', 'auto'],\n",
    "                    'epsilon': [0.3, 0.5, 0.7, 1],\n",
    "                    'coef0': [0, 0.01, 0.1]\n",
    "                }\n",
    "                model = GridSearchCV(model, params)\n",
    "                model.fit(X_train * 10, y_train * 10)\n",
    "                y_pred_test = model.predict(X_test * 10) / 10\n",
    "\n",
    "            else:\n",
    "                if name == 'tuned_LinearRegression':\n",
    "                    params = {'fit_intercept': [True, False]}\n",
    "                elif name == 'tuned_RFR':\n",
    "                    params = {\n",
    "                        # 'n_estimators': [100, 200, 300],\n",
    "                        # 'criterion': ['squared_error', 'friedman_mse'],\n",
    "                        # 'min_samples_split': np.arange(2, 5),\n",
    "                        'min_samples_leaf': np.arange(1, 10, 2),\n",
    "                        'min_impurity_decrease': [0.0, 0.1, 0.5],\n",
    "                        'warm_start': [False, True]\n",
    "                    }\n",
    "                elif name == 'tuned_XGB':\n",
    "                    params = {\n",
    "                        'eta': [0.01, 0.05, 0.1, 0.2],\n",
    "                        'subsample': [0.5, 0.7, 0.9]\n",
    "                    }\n",
    "\n",
    "                model = GridSearchCV(model, params)\n",
    "                model.fit(X_train, y_train)\n",
    "\n",
    "                y_pred_test = model.predict(X_test)\n",
    "\n",
    "            print(f\"    Model: {name}  |  Tuned Parameters: {model.best_params_}\")\n",
    "\n",
    "            mae = mean_absolute_error(y_true=y_test, y_pred=y_pred_test)\n",
    "            mse = mean_squared_error(y_true=y_test, y_pred=y_pred_test)\n",
    "            rmse = np.sqrt(mse)\n",
    "            direction = ( np.mean(np.sign(y_pred_test) == np.sign(y_test)) )\n",
    "\n",
    "            if name not in results[ticker].keys() or mse < results[ticker][name]['mse']:\n",
    "\n",
    "                joblib.dump(model, f\"./models/tuned/{ticker}_{name}.sav\")\n",
    "                tuned_results[ticker][name] = {\n",
    "                    'iter': iter,\n",
    "                    'model': model,\n",
    "                    'y_test': y_test,\n",
    "                    'y_pred_test': y_pred_test,\n",
    "                    'mae': mae,\n",
    "                    'mse': mse,\n",
    "                    'rmse': rmse,\n",
    "                    'direction': direction,\n",
    "                }"
   ]
  },
  {
   "cell_type": "code",
   "execution_count": null,
   "metadata": {},
   "outputs": [],
   "source": [
    "for ticker in tuned_results.keys():\n",
    "\n",
    "    if ticker != \"^GSPC\":  # prevent too much printing\n",
    "        continue\n",
    "\n",
    "    for name, metrics in tuned_results[ticker].items():\n",
    "        print(f\"Ticker: {ticker}\")\n",
    "        print(f\"Model: {name} (Best Iteration: {metrics['iter']})\")\n",
    "        print(f\"MAE: {metrics['mae']:.4f}\")\n",
    "        print(f\"MSE: {metrics['mse']:.4f}\")\n",
    "        print(f\"RMSE: {metrics['rmse']:.4f}\")\n",
    "        print(f\"Direction: {metrics['direction']:.4f}\")\n",
    "\n",
    "        plt.figure(figsize=(21, 9))\n",
    "        plt.plot(metrics['y_test'].index, metrics['y_test'], label='Actual', marker='o')\n",
    "        plt.plot(metrics['y_test'].index, metrics['y_pred_test'], label='Predicted', marker='x')\n",
    "        plt.xlabel('Date')\n",
    "        plt.ylabel('target')\n",
    "        plt.title(f'Actual vs Predicted {ticker} ({name})')\n",
    "        plt.legend()\n",
    "        plt.show()"
   ]
  },
  {
   "cell_type": "markdown",
   "metadata": {},
   "source": [
    "# Trading"
   ]
  },
  {
   "cell_type": "markdown",
   "metadata": {},
   "source": [
    "Strategy\n",
    "- Position (Buy/Sell/do nothing) base on predicted '(log)return' of the next day\n",
    "    - return > 0 : buy\n",
    "    - return = 0 : do nothing\n",
    "    - return < 0 : sell\n",
    "- buy/sell all of portfolio in each transaction\n",
    "- no short position"
   ]
  },
  {
   "cell_type": "code",
   "execution_count": null,
   "metadata": {},
   "outputs": [],
   "source": [
    "df_trading = pd.DataFrame() # on test set\n",
    "df_trading['^GSPC_log_return'] = y_test\n",
    "\n",
    "for model_name in models:\n",
    "    pred_log_return = results[model_name]['y_pred_test']\n",
    "    position = ( pred_log_return > 0 ) # 1: Buy, 0: Sell\n",
    "    model_log_return = position * df_trading['^GSPC_log_return']\n",
    "    df_trading[model_name + '_log_return'] = model_log_return\n",
    "\n",
    "df_trading"
   ]
  },
  {
   "cell_type": "code",
   "execution_count": null,
   "metadata": {},
   "outputs": [],
   "source": [
    "df_trading.index = pd.to_datetime(df_trading.index)\n",
    "\n",
    "total_days = (df_trading.index[-1] - df_trading.index[0]).days\n",
    "years = total_days // 365\n",
    "months = (total_days % 365) // 30"
   ]
  },
  {
   "cell_type": "code",
   "execution_count": null,
   "metadata": {},
   "outputs": [],
   "source": [
    "buy_and_hold_total_return = np.exp(y_test.sum())\n",
    "\n",
    "print(f'Total(Gross) Return ({years} years {months} months)')\n",
    "print('----------')\n",
    "print(f'Buy & Hold (since {(df_trading.index[0]).date()}): {buy_and_hold_total_return *100:.2f}%')\n",
    "for model_name in models:\n",
    "    total_return = np.exp(df_trading[model_name + '_log_return'].sum())\n",
    "    print(f'{model_name}: {total_return *100:.2f}%')\n",
    "\n",
    "print(f'\\nNet Return ({years} years {months} months)')\n",
    "print('----------')\n",
    "print(f'Buy & Hold (since {(df_trading.index[0]).date()}): {(buy_and_hold_total_return-1) *100:.2f}%')\n",
    "for model_name in models:\n",
    "    total_return = np.exp(df_trading[model_name + '_log_return'].sum())\n",
    "    print(f'{model_name}: {(total_return-1) *100:.2f}%')\n",
    "\n",
    "print(f'\\nNet Return (per year)')\n",
    "print('----------')\n",
    "print(f'Buy & Hold (since {(df_trading.index[0]).date()}): {(buy_and_hold_total_return-1)/total_days*365 *100:.2f}%')\n",
    "for model_name in models:\n",
    "    total_return = np.exp(df_trading[model_name + '_log_return'].sum())\n",
    "    print(f'{model_name}: {(total_return-1)/total_days*365 *100:.2f}%')"
   ]
  }
 ],
 "metadata": {
  "kernelspec": {
   "display_name": "datascience",
   "language": "python",
   "name": "python3"
  },
  "language_info": {
   "codemirror_mode": {
    "name": "ipython",
    "version": 3
   },
   "file_extension": ".py",
   "mimetype": "text/x-python",
   "name": "python",
   "nbconvert_exporter": "python",
   "pygments_lexer": "ipython3",
   "version": "3.9.7"
  }
 },
 "nbformat": 4,
 "nbformat_minor": 2
}
