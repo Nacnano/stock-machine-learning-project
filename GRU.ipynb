{
 "cells": [
  {
   "cell_type": "code",
   "execution_count": 1,
   "metadata": {},
   "outputs": [],
   "source": [
    "#!nvidia-smi"
   ]
  },
  {
   "cell_type": "code",
   "execution_count": 2,
   "metadata": {},
   "outputs": [],
   "source": [
    "import torch\n",
    "from torch import nn\n",
    "from torch.utils.data import DataLoader\n",
    "import torch.nn.functional as F\n",
    "from torchsummary import summary\n",
    "\n",
    "from DatasetLogReturn import StockDatasetLogReturn\n",
    "from tqdm.notebook import tqdm\n",
    "\n",
    "from sklearn.model_selection import train_test_split\n",
    "\n",
    "import math\n",
    "import numpy as np\n",
    "import pandas as pd\n",
    "import random as rd\n",
    "import matplotlib.pyplot as plt"
   ]
  },
  {
   "cell_type": "code",
   "execution_count": 3,
   "metadata": {},
   "outputs": [],
   "source": [
    "configs = {\n",
    "    \"batch_size\" : 128,\n",
    "    \"max_file_count\" : 2179,\n",
    "    \"train_file\" : 10,\n",
    "    \"validation_file\" : 5,\n",
    "    \"test_file\" : 5,\n",
    "    \"input_size\" : 8,\n",
    "    \"output_size\" : 1,\n",
    "    \"init_learning_rate\" : 3e-4,\n",
    "    \"scheduler_factor\": 0.8,\n",
    "    \"scheduler_patience\": 3,\n",
    "    \"scheduler_min_lr\": 2e-5,\n",
    "    \"epoch\" : 30,\n",
    "    \"model_name\" : \"GRU1\",\n",
    "}\n",
    "\n",
    "configs[\"file_count\"] = configs[\"train_file\"] + configs[\"validation_file\"] + configs[\"test_file\"]\n",
    "configs[\"model_folder\"] = f\"./models/{configs[\"model_name\"]}/\"\n",
    "\n",
    "device = torch.device(\"cuda\" if torch.cuda.is_available() else \"cpu\")"
   ]
  },
  {
   "cell_type": "code",
   "execution_count": 4,
   "metadata": {},
   "outputs": [
    {
     "data": {
      "application/vnd.jupyter.widget-view+json": {
       "model_id": "5695d147c9224791b7f614f3a285f43b",
       "version_major": 2,
       "version_minor": 0
      },
      "text/plain": [
       "  0%|          | 0/10 [00:00<?, ?it/s]"
      ]
     },
     "metadata": {},
     "output_type": "display_data"
    },
    {
     "data": {
      "application/vnd.jupyter.widget-view+json": {
       "model_id": "082a89d4fb41419f9216464e37509526",
       "version_major": 2,
       "version_minor": 0
      },
      "text/plain": [
       "  0%|          | 0/67364 [00:00<?, ?it/s]"
      ]
     },
     "metadata": {},
     "output_type": "display_data"
    },
    {
     "data": {
      "application/vnd.jupyter.widget-view+json": {
       "model_id": "a000249084e04993985856984211293c",
       "version_major": 2,
       "version_minor": 0
      },
      "text/plain": [
       "  0%|          | 0/5 [00:00<?, ?it/s]"
      ]
     },
     "metadata": {},
     "output_type": "display_data"
    },
    {
     "data": {
      "application/vnd.jupyter.widget-view+json": {
       "model_id": "0baaebd1ee774acc924ef39cfeed34e0",
       "version_major": 2,
       "version_minor": 0
      },
      "text/plain": [
       "  0%|          | 0/20168 [00:00<?, ?it/s]"
      ]
     },
     "metadata": {},
     "output_type": "display_data"
    },
    {
     "data": {
      "application/vnd.jupyter.widget-view+json": {
       "model_id": "fbc912cf1faa41968441e393091ca622",
       "version_major": 2,
       "version_minor": 0
      },
      "text/plain": [
       "  0%|          | 0/5 [00:00<?, ?it/s]"
      ]
     },
     "metadata": {},
     "output_type": "display_data"
    },
    {
     "data": {
      "application/vnd.jupyter.widget-view+json": {
       "model_id": "2c4b0c71b6314051bdaa3b6e351f6455",
       "version_major": 2,
       "version_minor": 0
      },
      "text/plain": [
       "  0%|          | 0/45253 [00:00<?, ?it/s]"
      ]
     },
     "metadata": {},
     "output_type": "display_data"
    }
   ],
   "source": [
    "tickers = list(map(str.strip,open(\"tickers_sp500.txt\",\"r\").readlines()))\n",
    "filenames = [\"./data/\" + x + \".csv\" for x in tickers]\n",
    "rd.shuffle(filenames)\n",
    "filenames = filenames[:configs[\"file_count\"]]\n",
    "\n",
    "train_files, test_files = train_test_split(filenames,test_size=configs[\"test_file\"]/configs[\"file_count\"])\n",
    "train_files, val_files = train_test_split(train_files,test_size=configs[\"validation_file\"]/(configs[\"train_file\"] + configs[\"validation_file\"]))\n",
    "\n",
    "train_dataset = StockDatasetLogReturn(train_files, configs[\"input_size\"], configs[\"output_size\"])\n",
    "train_dataset.Preprocess()\n",
    "train_loader = DataLoader(train_dataset,batch_size=configs[\"batch_size\"],shuffle=True)\n",
    "\n",
    "val_dataset = StockDatasetLogReturn(val_files,configs[\"input_size\"],configs[\"output_size\"])\n",
    "val_dataset.Preprocess()\n",
    "val_loader = DataLoader(val_dataset,batch_size=configs[\"batch_size\"],shuffle=True)\n",
    "\n",
    "test_dataset = StockDatasetLogReturn(test_files,configs[\"input_size\"],configs[\"output_size\"])\n",
    "test_dataset.Preprocess()\n",
    "test_loader = DataLoader(test_dataset,batch_size=configs[\"batch_size\"],shuffle=True)"
   ]
  },
  {
   "cell_type": "code",
   "execution_count": 5,
   "metadata": {},
   "outputs": [],
   "source": [
    "torch.set_default_dtype(torch.float32)\n",
    "class StockGRU(nn.Module) :\n",
    "    def __init__(self) :\n",
    "        super().__init__()\n",
    "        self.hidden_size = 512\n",
    "        self.batch_size = configs[\"batch_size\"]\n",
    "        self.layer1 = nn.GRU(1,self.hidden_size,2,batch_first=True,bias=False)\n",
    "        self.layer2 = nn.Sequential(\n",
    "            nn.Dropout(p=0.2),\n",
    "            nn.LayerNorm(self.hidden_size),\n",
    "            nn.Linear(self.hidden_size,1,bias=False),\n",
    "        )\n",
    "        self.data_scaler = 25\n",
    "\n",
    "    def forward(self, input) :\n",
    "        input = torch.multiply(input,self.data_scaler)\n",
    "\n",
    "        h1,(hn,cn) = self.layer1(input)\n",
    "        output = self.layer2(h1[:,-1,:])\n",
    "\n",
    "        output = torch.divide(output,self.data_scaler)\n",
    "        return output\n"
   ]
  },
  {
   "cell_type": "code",
   "execution_count": 6,
   "metadata": {},
   "outputs": [
    {
     "name": "stdout",
     "output_type": "stream",
     "text": [
      "=================================================================\n",
      "Layer (type:depth-idx)                   Param #\n",
      "=================================================================\n",
      "├─GRU: 1-1                               2,360,832\n",
      "├─Sequential: 1-2                        --\n",
      "|    └─Dropout: 2-1                      --\n",
      "|    └─LayerNorm: 2-2                    1,024\n",
      "|    └─Linear: 2-3                       512\n",
      "=================================================================\n",
      "Total params: 2,362,368\n",
      "Trainable params: 2,362,368\n",
      "Non-trainable params: 0\n",
      "=================================================================\n",
      "=================================================================\n",
      "Layer (type:depth-idx)                   Param #\n",
      "=================================================================\n",
      "├─GRU: 1-1                               2,360,832\n",
      "├─Sequential: 1-2                        --\n",
      "|    └─Dropout: 2-1                      --\n",
      "|    └─LayerNorm: 2-2                    1,024\n",
      "|    └─Linear: 2-3                       512\n",
      "=================================================================\n",
      "Total params: 2,362,368\n",
      "Trainable params: 2,362,368\n",
      "Non-trainable params: 0\n",
      "=================================================================\n"
     ]
    }
   ],
   "source": [
    "model = StockGRU()\n",
    "model = model.to(device)\n",
    "\n",
    "print(summary(model,input_size=(configs[\"batch_size\"],configs[\"input_size\"],1)))"
   ]
  },
  {
   "cell_type": "code",
   "execution_count": 7,
   "metadata": {},
   "outputs": [],
   "source": [
    "optimizer = torch.optim.Adam(model.parameters(), lr = configs[\"init_learning_rate\"])\n",
    "scheduler = torch.optim.lr_scheduler.ReduceLROnPlateau(\n",
    "    optimizer,\n",
    "    'min',\n",
    "    factor=configs['scheduler_factor'],\n",
    "    patience=configs['scheduler_patience'],\n",
    "    min_lr=configs['scheduler_min_lr']\n",
    ")\n",
    "loss_fn = torch.nn.MSELoss()"
   ]
  },
  {
   "cell_type": "code",
   "execution_count": 8,
   "metadata": {},
   "outputs": [
    {
     "data": {
      "application/vnd.jupyter.widget-view+json": {
       "model_id": "ddb70285f1a449bab66d0a3dbf80ad30",
       "version_major": 2,
       "version_minor": 0
      },
      "text/plain": [
       "  0%|          | 0/30 [00:00<?, ?it/s]"
      ]
     },
     "metadata": {},
     "output_type": "display_data"
    },
    {
     "data": {
      "application/vnd.jupyter.widget-view+json": {
       "model_id": "748578c1724d4737a611e114501c74df",
       "version_major": 2,
       "version_minor": 0
      },
      "text/plain": [
       "  0%|          | 0/527 [00:00<?, ?it/s]"
      ]
     },
     "metadata": {},
     "output_type": "display_data"
    },
    {
     "data": {
      "application/vnd.jupyter.widget-view+json": {
       "model_id": "00ba5fed200840759343924efc8975cd",
       "version_major": 2,
       "version_minor": 0
      },
      "text/plain": [
       "  0%|          | 0/158 [00:00<?, ?it/s]"
      ]
     },
     "metadata": {},
     "output_type": "display_data"
    },
    {
     "name": "stdout",
     "output_type": "stream",
     "text": [
      "train loss :  0.0005971422136102594\n",
      "val loss :  0.0005888249684320941\n"
     ]
    },
    {
     "data": {
      "application/vnd.jupyter.widget-view+json": {
       "model_id": "57da9bf7b2424248bb4571d5c4e5b670",
       "version_major": 2,
       "version_minor": 0
      },
      "text/plain": [
       "  0%|          | 0/527 [00:00<?, ?it/s]"
      ]
     },
     "metadata": {},
     "output_type": "display_data"
    },
    {
     "data": {
      "application/vnd.jupyter.widget-view+json": {
       "model_id": "bd1c80c55b39409190e31d0e58f7ec2b",
       "version_major": 2,
       "version_minor": 0
      },
      "text/plain": [
       "  0%|          | 0/158 [00:00<?, ?it/s]"
      ]
     },
     "metadata": {},
     "output_type": "display_data"
    },
    {
     "name": "stdout",
     "output_type": "stream",
     "text": [
      "train loss :  0.0005697159075241061\n",
      "val loss :  0.0006090490629260315\n"
     ]
    },
    {
     "data": {
      "application/vnd.jupyter.widget-view+json": {
       "model_id": "f13451992916451c8697e68c9827002a",
       "version_major": 2,
       "version_minor": 0
      },
      "text/plain": [
       "  0%|          | 0/527 [00:00<?, ?it/s]"
      ]
     },
     "metadata": {},
     "output_type": "display_data"
    },
    {
     "data": {
      "application/vnd.jupyter.widget-view+json": {
       "model_id": "817877f752114d9a9b785bbffa30cc76",
       "version_major": 2,
       "version_minor": 0
      },
      "text/plain": [
       "  0%|          | 0/158 [00:00<?, ?it/s]"
      ]
     },
     "metadata": {},
     "output_type": "display_data"
    },
    {
     "name": "stdout",
     "output_type": "stream",
     "text": [
      "train loss :  0.0005638206051120326\n",
      "val loss :  0.0005886605929636699\n"
     ]
    },
    {
     "data": {
      "application/vnd.jupyter.widget-view+json": {
       "model_id": "f1ebae8d97bd4eb28437fa5d7d99a20d",
       "version_major": 2,
       "version_minor": 0
      },
      "text/plain": [
       "  0%|          | 0/527 [00:00<?, ?it/s]"
      ]
     },
     "metadata": {},
     "output_type": "display_data"
    },
    {
     "data": {
      "application/vnd.jupyter.widget-view+json": {
       "model_id": "07d51a948d524482b49e7633b59a40da",
       "version_major": 2,
       "version_minor": 0
      },
      "text/plain": [
       "  0%|          | 0/158 [00:00<?, ?it/s]"
      ]
     },
     "metadata": {},
     "output_type": "display_data"
    },
    {
     "name": "stdout",
     "output_type": "stream",
     "text": [
      "train loss :  0.0005598409662307364\n",
      "val loss :  0.0005903516599098755\n"
     ]
    },
    {
     "data": {
      "application/vnd.jupyter.widget-view+json": {
       "model_id": "ad7b47e6f89c4140ab3bd92eca1199ef",
       "version_major": 2,
       "version_minor": 0
      },
      "text/plain": [
       "  0%|          | 0/527 [00:00<?, ?it/s]"
      ]
     },
     "metadata": {},
     "output_type": "display_data"
    },
    {
     "data": {
      "application/vnd.jupyter.widget-view+json": {
       "model_id": "d253d842a0ba432a8bc20d3c4214a45a",
       "version_major": 2,
       "version_minor": 0
      },
      "text/plain": [
       "  0%|          | 0/158 [00:00<?, ?it/s]"
      ]
     },
     "metadata": {},
     "output_type": "display_data"
    },
    {
     "name": "stdout",
     "output_type": "stream",
     "text": [
      "train loss :  0.0005584502458340443\n",
      "val loss :  0.0005842277262609001\n"
     ]
    },
    {
     "data": {
      "application/vnd.jupyter.widget-view+json": {
       "model_id": "e8487e07f6ae43b98a8261bc053d9db9",
       "version_major": 2,
       "version_minor": 0
      },
      "text/plain": [
       "  0%|          | 0/527 [00:00<?, ?it/s]"
      ]
     },
     "metadata": {},
     "output_type": "display_data"
    },
    {
     "data": {
      "application/vnd.jupyter.widget-view+json": {
       "model_id": "846bea5b3f514686884614b0df85470e",
       "version_major": 2,
       "version_minor": 0
      },
      "text/plain": [
       "  0%|          | 0/158 [00:00<?, ?it/s]"
      ]
     },
     "metadata": {},
     "output_type": "display_data"
    },
    {
     "name": "stdout",
     "output_type": "stream",
     "text": [
      "train loss :  0.000558018807442186\n",
      "val loss :  0.0005849159072793925\n"
     ]
    },
    {
     "data": {
      "application/vnd.jupyter.widget-view+json": {
       "model_id": "376e34b7e6f7419199db8d84f887371d",
       "version_major": 2,
       "version_minor": 0
      },
      "text/plain": [
       "  0%|          | 0/527 [00:00<?, ?it/s]"
      ]
     },
     "metadata": {},
     "output_type": "display_data"
    },
    {
     "data": {
      "application/vnd.jupyter.widget-view+json": {
       "model_id": "394fb48e59694dde9c1c3784da7271f2",
       "version_major": 2,
       "version_minor": 0
      },
      "text/plain": [
       "  0%|          | 0/158 [00:00<?, ?it/s]"
      ]
     },
     "metadata": {},
     "output_type": "display_data"
    },
    {
     "name": "stdout",
     "output_type": "stream",
     "text": [
      "train loss :  0.0005566520684081335\n",
      "val loss :  0.0005922172174812739\n"
     ]
    },
    {
     "data": {
      "application/vnd.jupyter.widget-view+json": {
       "model_id": "fb27c249d86d438fa73ef7614ef36c75",
       "version_major": 2,
       "version_minor": 0
      },
      "text/plain": [
       "  0%|          | 0/527 [00:00<?, ?it/s]"
      ]
     },
     "metadata": {},
     "output_type": "display_data"
    },
    {
     "data": {
      "application/vnd.jupyter.widget-view+json": {
       "model_id": "aa501d568540449fb506bae2ece54576",
       "version_major": 2,
       "version_minor": 0
      },
      "text/plain": [
       "  0%|          | 0/158 [00:00<?, ?it/s]"
      ]
     },
     "metadata": {},
     "output_type": "display_data"
    },
    {
     "name": "stdout",
     "output_type": "stream",
     "text": [
      "train loss :  0.00055524852658452\n",
      "val loss :  0.0005918555595662895\n"
     ]
    },
    {
     "data": {
      "application/vnd.jupyter.widget-view+json": {
       "model_id": "0220158ee0d842089d78b33922187b21",
       "version_major": 2,
       "version_minor": 0
      },
      "text/plain": [
       "  0%|          | 0/527 [00:00<?, ?it/s]"
      ]
     },
     "metadata": {},
     "output_type": "display_data"
    },
    {
     "data": {
      "application/vnd.jupyter.widget-view+json": {
       "model_id": "5d6d21accd91486391c2f36ceb22be14",
       "version_major": 2,
       "version_minor": 0
      },
      "text/plain": [
       "  0%|          | 0/158 [00:00<?, ?it/s]"
      ]
     },
     "metadata": {},
     "output_type": "display_data"
    },
    {
     "name": "stdout",
     "output_type": "stream",
     "text": [
      "train loss :  0.0005549122958962838\n",
      "val loss :  0.0005930770684632763\n"
     ]
    },
    {
     "data": {
      "application/vnd.jupyter.widget-view+json": {
       "model_id": "efbf762d73094b1293e6a989b67524d8",
       "version_major": 2,
       "version_minor": 0
      },
      "text/plain": [
       "  0%|          | 0/527 [00:00<?, ?it/s]"
      ]
     },
     "metadata": {},
     "output_type": "display_data"
    },
    {
     "data": {
      "application/vnd.jupyter.widget-view+json": {
       "model_id": "f40404815ba94027aa010bd2c72d9e85",
       "version_major": 2,
       "version_minor": 0
      },
      "text/plain": [
       "  0%|          | 0/158 [00:00<?, ?it/s]"
      ]
     },
     "metadata": {},
     "output_type": "display_data"
    },
    {
     "name": "stdout",
     "output_type": "stream",
     "text": [
      "train loss :  0.0005529399363885318\n",
      "val loss :  0.0005917348644983877\n"
     ]
    },
    {
     "data": {
      "application/vnd.jupyter.widget-view+json": {
       "model_id": "7209520bc36e4c8ca12d9913e7e305aa",
       "version_major": 2,
       "version_minor": 0
      },
      "text/plain": [
       "  0%|          | 0/527 [00:00<?, ?it/s]"
      ]
     },
     "metadata": {},
     "output_type": "display_data"
    },
    {
     "data": {
      "application/vnd.jupyter.widget-view+json": {
       "model_id": "3e874562cf7f41d985c0fa0d2238a8f4",
       "version_major": 2,
       "version_minor": 0
      },
      "text/plain": [
       "  0%|          | 0/158 [00:00<?, ?it/s]"
      ]
     },
     "metadata": {},
     "output_type": "display_data"
    },
    {
     "name": "stdout",
     "output_type": "stream",
     "text": [
      "train loss :  0.0005527224709074448\n",
      "val loss :  0.00057924253030778\n"
     ]
    },
    {
     "data": {
      "application/vnd.jupyter.widget-view+json": {
       "model_id": "85dc9b019a594ed8ab2e653a71c1d90b",
       "version_major": 2,
       "version_minor": 0
      },
      "text/plain": [
       "  0%|          | 0/527 [00:00<?, ?it/s]"
      ]
     },
     "metadata": {},
     "output_type": "display_data"
    },
    {
     "data": {
      "application/vnd.jupyter.widget-view+json": {
       "model_id": "1401a36eaa2c4a26b4858a569374d857",
       "version_major": 2,
       "version_minor": 0
      },
      "text/plain": [
       "  0%|          | 0/158 [00:00<?, ?it/s]"
      ]
     },
     "metadata": {},
     "output_type": "display_data"
    },
    {
     "name": "stdout",
     "output_type": "stream",
     "text": [
      "train loss :  0.0005499459438476563\n",
      "val loss :  0.000587305364015091\n"
     ]
    },
    {
     "data": {
      "application/vnd.jupyter.widget-view+json": {
       "model_id": "cb83c438c67942e091d3707cf93b6c67",
       "version_major": 2,
       "version_minor": 0
      },
      "text/plain": [
       "  0%|          | 0/527 [00:00<?, ?it/s]"
      ]
     },
     "metadata": {},
     "output_type": "display_data"
    },
    {
     "data": {
      "application/vnd.jupyter.widget-view+json": {
       "model_id": "ca49367300a343bdbc7c67726ca7cb2f",
       "version_major": 2,
       "version_minor": 0
      },
      "text/plain": [
       "  0%|          | 0/158 [00:00<?, ?it/s]"
      ]
     },
     "metadata": {},
     "output_type": "display_data"
    },
    {
     "name": "stdout",
     "output_type": "stream",
     "text": [
      "train loss :  0.0005467938935493045\n",
      "val loss :  0.0005940780652372558\n"
     ]
    },
    {
     "data": {
      "application/vnd.jupyter.widget-view+json": {
       "model_id": "5d0bf70425e949018adcb7c754b9a175",
       "version_major": 2,
       "version_minor": 0
      },
      "text/plain": [
       "  0%|          | 0/527 [00:00<?, ?it/s]"
      ]
     },
     "metadata": {},
     "output_type": "display_data"
    },
    {
     "data": {
      "application/vnd.jupyter.widget-view+json": {
       "model_id": "3b8ece71f61d45438b5f37227b55823c",
       "version_major": 2,
       "version_minor": 0
      },
      "text/plain": [
       "  0%|          | 0/158 [00:00<?, ?it/s]"
      ]
     },
     "metadata": {},
     "output_type": "display_data"
    },
    {
     "name": "stdout",
     "output_type": "stream",
     "text": [
      "train loss :  0.0005462240212109602\n",
      "val loss :  0.0005840712127195683\n"
     ]
    },
    {
     "data": {
      "application/vnd.jupyter.widget-view+json": {
       "model_id": "381c21c8d9924010ad13cfac97430301",
       "version_major": 2,
       "version_minor": 0
      },
      "text/plain": [
       "  0%|          | 0/527 [00:00<?, ?it/s]"
      ]
     },
     "metadata": {},
     "output_type": "display_data"
    },
    {
     "data": {
      "application/vnd.jupyter.widget-view+json": {
       "model_id": "09670e4a950e442e9b51a335bcc31489",
       "version_major": 2,
       "version_minor": 0
      },
      "text/plain": [
       "  0%|          | 0/158 [00:00<?, ?it/s]"
      ]
     },
     "metadata": {},
     "output_type": "display_data"
    },
    {
     "name": "stdout",
     "output_type": "stream",
     "text": [
      "train loss :  0.0005436059422374919\n",
      "val loss :  0.0005857928616742182\n"
     ]
    },
    {
     "data": {
      "application/vnd.jupyter.widget-view+json": {
       "model_id": "d71225a029a94042b548f8801d85b03a",
       "version_major": 2,
       "version_minor": 0
      },
      "text/plain": [
       "  0%|          | 0/527 [00:00<?, ?it/s]"
      ]
     },
     "metadata": {},
     "output_type": "display_data"
    },
    {
     "data": {
      "application/vnd.jupyter.widget-view+json": {
       "model_id": "eb0ca81a1a9f4f04bd5d3da81a6ff720",
       "version_major": 2,
       "version_minor": 0
      },
      "text/plain": [
       "  0%|          | 0/158 [00:00<?, ?it/s]"
      ]
     },
     "metadata": {},
     "output_type": "display_data"
    },
    {
     "name": "stdout",
     "output_type": "stream",
     "text": [
      "train loss :  0.0005407052470602187\n",
      "val loss :  0.0005945638003818407\n"
     ]
    },
    {
     "data": {
      "application/vnd.jupyter.widget-view+json": {
       "model_id": "7bef685c271c41dcaaa9ff47c2846d8e",
       "version_major": 2,
       "version_minor": 0
      },
      "text/plain": [
       "  0%|          | 0/527 [00:00<?, ?it/s]"
      ]
     },
     "metadata": {},
     "output_type": "display_data"
    },
    {
     "data": {
      "application/vnd.jupyter.widget-view+json": {
       "model_id": "14de30cbfe10468cb98416c721c98382",
       "version_major": 2,
       "version_minor": 0
      },
      "text/plain": [
       "  0%|          | 0/158 [00:00<?, ?it/s]"
      ]
     },
     "metadata": {},
     "output_type": "display_data"
    },
    {
     "name": "stdout",
     "output_type": "stream",
     "text": [
      "train loss :  0.0005380116513099861\n",
      "val loss :  0.0005949907509793949\n"
     ]
    },
    {
     "data": {
      "application/vnd.jupyter.widget-view+json": {
       "model_id": "5cc73cc6fef4433cb53a51a20dc59305",
       "version_major": 2,
       "version_minor": 0
      },
      "text/plain": [
       "  0%|          | 0/527 [00:00<?, ?it/s]"
      ]
     },
     "metadata": {},
     "output_type": "display_data"
    },
    {
     "data": {
      "application/vnd.jupyter.widget-view+json": {
       "model_id": "33b32bb243f74640b06cbbe3027404a8",
       "version_major": 2,
       "version_minor": 0
      },
      "text/plain": [
       "  0%|          | 0/158 [00:00<?, ?it/s]"
      ]
     },
     "metadata": {},
     "output_type": "display_data"
    },
    {
     "name": "stdout",
     "output_type": "stream",
     "text": [
      "train loss :  0.0005359411382763965\n",
      "val loss :  0.0005947345927814437\n"
     ]
    },
    {
     "data": {
      "application/vnd.jupyter.widget-view+json": {
       "model_id": "885209d64b494d20b7d9df388999fcd2",
       "version_major": 2,
       "version_minor": 0
      },
      "text/plain": [
       "  0%|          | 0/527 [00:00<?, ?it/s]"
      ]
     },
     "metadata": {},
     "output_type": "display_data"
    },
    {
     "data": {
      "application/vnd.jupyter.widget-view+json": {
       "model_id": "3e43f6d096034403ae1e0db96b40b7fe",
       "version_major": 2,
       "version_minor": 0
      },
      "text/plain": [
       "  0%|          | 0/158 [00:00<?, ?it/s]"
      ]
     },
     "metadata": {},
     "output_type": "display_data"
    },
    {
     "name": "stdout",
     "output_type": "stream",
     "text": [
      "train loss :  0.0005339920275004496\n",
      "val loss :  0.0005946290961230933\n"
     ]
    },
    {
     "data": {
      "application/vnd.jupyter.widget-view+json": {
       "model_id": "9ffe534d8bf5445e8b28c68c1b02f1aa",
       "version_major": 2,
       "version_minor": 0
      },
      "text/plain": [
       "  0%|          | 0/527 [00:00<?, ?it/s]"
      ]
     },
     "metadata": {},
     "output_type": "display_data"
    },
    {
     "data": {
      "application/vnd.jupyter.widget-view+json": {
       "model_id": "caac3222a8734e198908ebefde285ebf",
       "version_major": 2,
       "version_minor": 0
      },
      "text/plain": [
       "  0%|          | 0/158 [00:00<?, ?it/s]"
      ]
     },
     "metadata": {},
     "output_type": "display_data"
    },
    {
     "name": "stdout",
     "output_type": "stream",
     "text": [
      "train loss :  0.0005294968594676114\n",
      "val loss :  0.0005938697003486572\n"
     ]
    },
    {
     "data": {
      "application/vnd.jupyter.widget-view+json": {
       "model_id": "1ab7512da99b4eeab6ebc04f7d5f9d2d",
       "version_major": 2,
       "version_minor": 0
      },
      "text/plain": [
       "  0%|          | 0/527 [00:00<?, ?it/s]"
      ]
     },
     "metadata": {},
     "output_type": "display_data"
    },
    {
     "data": {
      "application/vnd.jupyter.widget-view+json": {
       "model_id": "a34cfeef24fb4e4ca78ca6db765f7874",
       "version_major": 2,
       "version_minor": 0
      },
      "text/plain": [
       "  0%|          | 0/158 [00:00<?, ?it/s]"
      ]
     },
     "metadata": {},
     "output_type": "display_data"
    },
    {
     "name": "stdout",
     "output_type": "stream",
     "text": [
      "train loss :  0.0005303955676037191\n",
      "val loss :  0.0006029012920349765\n"
     ]
    },
    {
     "data": {
      "application/vnd.jupyter.widget-view+json": {
       "model_id": "2944771658e44b79a4665dddd6008677",
       "version_major": 2,
       "version_minor": 0
      },
      "text/plain": [
       "  0%|          | 0/527 [00:00<?, ?it/s]"
      ]
     },
     "metadata": {},
     "output_type": "display_data"
    },
    {
     "data": {
      "application/vnd.jupyter.widget-view+json": {
       "model_id": "185929eb82cf47e8a8c9bedbc4d1e201",
       "version_major": 2,
       "version_minor": 0
      },
      "text/plain": [
       "  0%|          | 0/158 [00:00<?, ?it/s]"
      ]
     },
     "metadata": {},
     "output_type": "display_data"
    },
    {
     "name": "stdout",
     "output_type": "stream",
     "text": [
      "train loss :  0.0005267175714723932\n",
      "val loss :  0.0006052092602698928\n"
     ]
    },
    {
     "data": {
      "application/vnd.jupyter.widget-view+json": {
       "model_id": "08621a53b44445779db31ba223ed275b",
       "version_major": 2,
       "version_minor": 0
      },
      "text/plain": [
       "  0%|          | 0/527 [00:00<?, ?it/s]"
      ]
     },
     "metadata": {},
     "output_type": "display_data"
    },
    {
     "data": {
      "application/vnd.jupyter.widget-view+json": {
       "model_id": "9af5f888f0e24441863f41678ea56514",
       "version_major": 2,
       "version_minor": 0
      },
      "text/plain": [
       "  0%|          | 0/158 [00:00<?, ?it/s]"
      ]
     },
     "metadata": {},
     "output_type": "display_data"
    },
    {
     "name": "stdout",
     "output_type": "stream",
     "text": [
      "train loss :  0.0005242564448364834\n",
      "val loss :  0.0006056821634058668\n"
     ]
    },
    {
     "data": {
      "application/vnd.jupyter.widget-view+json": {
       "model_id": "a890a141439d4fd19a8af394e8872b79",
       "version_major": 2,
       "version_minor": 0
      },
      "text/plain": [
       "  0%|          | 0/527 [00:00<?, ?it/s]"
      ]
     },
     "metadata": {},
     "output_type": "display_data"
    },
    {
     "data": {
      "application/vnd.jupyter.widget-view+json": {
       "model_id": "e99f734e1983401399fe229c7594452d",
       "version_major": 2,
       "version_minor": 0
      },
      "text/plain": [
       "  0%|          | 0/158 [00:00<?, ?it/s]"
      ]
     },
     "metadata": {},
     "output_type": "display_data"
    },
    {
     "name": "stdout",
     "output_type": "stream",
     "text": [
      "train loss :  0.000521735093494817\n",
      "val loss :  0.0006065280777313243\n"
     ]
    },
    {
     "data": {
      "application/vnd.jupyter.widget-view+json": {
       "model_id": "05dfdae6a8664489b6e1021d248458a8",
       "version_major": 2,
       "version_minor": 0
      },
      "text/plain": [
       "  0%|          | 0/527 [00:00<?, ?it/s]"
      ]
     },
     "metadata": {},
     "output_type": "display_data"
    },
    {
     "data": {
      "application/vnd.jupyter.widget-view+json": {
       "model_id": "386b1b79d6c849748bf5b5c3d352febf",
       "version_major": 2,
       "version_minor": 0
      },
      "text/plain": [
       "  0%|          | 0/158 [00:00<?, ?it/s]"
      ]
     },
     "metadata": {},
     "output_type": "display_data"
    },
    {
     "name": "stdout",
     "output_type": "stream",
     "text": [
      "train loss :  0.0005196532122892621\n",
      "val loss :  0.0006090768990714909\n"
     ]
    },
    {
     "data": {
      "application/vnd.jupyter.widget-view+json": {
       "model_id": "327854e456a94cffa01e5c7163b2a738",
       "version_major": 2,
       "version_minor": 0
      },
      "text/plain": [
       "  0%|          | 0/527 [00:00<?, ?it/s]"
      ]
     },
     "metadata": {},
     "output_type": "display_data"
    },
    {
     "data": {
      "application/vnd.jupyter.widget-view+json": {
       "model_id": "fac0e3cbf6514c269642e2308295b004",
       "version_major": 2,
       "version_minor": 0
      },
      "text/plain": [
       "  0%|          | 0/158 [00:00<?, ?it/s]"
      ]
     },
     "metadata": {},
     "output_type": "display_data"
    },
    {
     "name": "stdout",
     "output_type": "stream",
     "text": [
      "train loss :  0.0005172432331178433\n",
      "val loss :  0.0005984174430216099\n"
     ]
    },
    {
     "data": {
      "application/vnd.jupyter.widget-view+json": {
       "model_id": "9b5cd03bca674ac98da212e5ced01af1",
       "version_major": 2,
       "version_minor": 0
      },
      "text/plain": [
       "  0%|          | 0/527 [00:00<?, ?it/s]"
      ]
     },
     "metadata": {},
     "output_type": "display_data"
    },
    {
     "data": {
      "application/vnd.jupyter.widget-view+json": {
       "model_id": "2f0189a820db40df945d517378429bb7",
       "version_major": 2,
       "version_minor": 0
      },
      "text/plain": [
       "  0%|          | 0/158 [00:00<?, ?it/s]"
      ]
     },
     "metadata": {},
     "output_type": "display_data"
    },
    {
     "name": "stdout",
     "output_type": "stream",
     "text": [
      "train loss :  0.000515579211098689\n",
      "val loss :  0.0006138793373358833\n"
     ]
    },
    {
     "data": {
      "application/vnd.jupyter.widget-view+json": {
       "model_id": "dc8fbd953a6941fc8b768734d6d4527a",
       "version_major": 2,
       "version_minor": 0
      },
      "text/plain": [
       "  0%|          | 0/527 [00:00<?, ?it/s]"
      ]
     },
     "metadata": {},
     "output_type": "display_data"
    },
    {
     "data": {
      "application/vnd.jupyter.widget-view+json": {
       "model_id": "32d6f8c11fc3444b8ff36d110d2b7984",
       "version_major": 2,
       "version_minor": 0
      },
      "text/plain": [
       "  0%|          | 0/158 [00:00<?, ?it/s]"
      ]
     },
     "metadata": {},
     "output_type": "display_data"
    },
    {
     "name": "stdout",
     "output_type": "stream",
     "text": [
      "train loss :  0.0005138986543966936\n",
      "val loss :  0.0006079104199566564\n"
     ]
    },
    {
     "data": {
      "application/vnd.jupyter.widget-view+json": {
       "model_id": "e9b257ab5378495b8cc21c461792de98",
       "version_major": 2,
       "version_minor": 0
      },
      "text/plain": [
       "  0%|          | 0/527 [00:00<?, ?it/s]"
      ]
     },
     "metadata": {},
     "output_type": "display_data"
    },
    {
     "data": {
      "application/vnd.jupyter.widget-view+json": {
       "model_id": "3f25184d018f4cbba4f40a61552005e1",
       "version_major": 2,
       "version_minor": 0
      },
      "text/plain": [
       "  0%|          | 0/158 [00:00<?, ?it/s]"
      ]
     },
     "metadata": {},
     "output_type": "display_data"
    },
    {
     "name": "stdout",
     "output_type": "stream",
     "text": [
      "train loss :  0.0005120274308934355\n",
      "val loss :  0.000605883074747873\n"
     ]
    },
    {
     "data": {
      "application/vnd.jupyter.widget-view+json": {
       "model_id": "6877db0caf4547688edeac9e34ad9f0d",
       "version_major": 2,
       "version_minor": 0
      },
      "text/plain": [
       "  0%|          | 0/527 [00:00<?, ?it/s]"
      ]
     },
     "metadata": {},
     "output_type": "display_data"
    },
    {
     "data": {
      "application/vnd.jupyter.widget-view+json": {
       "model_id": "4e84b2b4f5a9470280310eee594665b6",
       "version_major": 2,
       "version_minor": 0
      },
      "text/plain": [
       "  0%|          | 0/158 [00:00<?, ?it/s]"
      ]
     },
     "metadata": {},
     "output_type": "display_data"
    },
    {
     "name": "stdout",
     "output_type": "stream",
     "text": [
      "train loss :  0.0005098111350855085\n",
      "val loss :  0.0006067078812885733\n"
     ]
    }
   ],
   "source": [
    "train_losses = []\n",
    "val_losses = []\n",
    "avarage_train_losses = []\n",
    "avarage_val_losses = []\n",
    "learning_rates = []\n",
    "\n",
    "model_folder = configs[\"model_folder\"]\n",
    "best_loss = 1000000\n",
    "\n",
    "for epoch in tqdm(range(configs[\"epoch\"])) :\n",
    "\n",
    "    model.train()\n",
    "\n",
    "    learning_rates.append(optimizer.param_groups[0]['lr'])\n",
    "\n",
    "    cur_train_loss = []\n",
    "    for input,target in tqdm(train_loader) :\n",
    "\n",
    "        close_price_input = input[:,4,:,None]\n",
    "        close_price_target = target[:,4,:]\n",
    "        close_price_input = close_price_input.to(device)\n",
    "        close_price_target = close_price_target.to(device)\n",
    "\n",
    "        if(close_price_input.shape[0] != configs[\"batch_size\"]) :\n",
    "            continue\n",
    "\n",
    "        optimizer.zero_grad()\n",
    "\n",
    "        output = model(close_price_input)\n",
    "\n",
    "        loss = loss_fn(output,close_price_target)\n",
    "\n",
    "        loss.backward()\n",
    "\n",
    "        optimizer.step()\n",
    "\n",
    "        train_losses.append(loss.to(torch.device(\"cpu\")).item())\n",
    "        cur_train_loss.append(loss.to(torch.device(\"cpu\")).item())\n",
    "\n",
    "    avarage_train_loss = np.mean(np.array(cur_train_loss))\n",
    "    avarage_train_losses.append(avarage_train_loss)\n",
    "\n",
    "    model.eval()\n",
    "\n",
    "    with torch.no_grad() :\n",
    "        cur_val_loss = []\n",
    "        for input,target in tqdm(val_loader) :\n",
    "\n",
    "            close_price_input = input[:,4,:,None]\n",
    "            close_price_target = target[:,4,:]\n",
    "            close_price_input = close_price_input.to(device)\n",
    "            close_price_target = close_price_target.to(device)\n",
    "\n",
    "            if(close_price_input.shape[0] != configs[\"batch_size\"]) :\n",
    "                continue\n",
    "\n",
    "            output = model(close_price_input)\n",
    "\n",
    "            loss = loss_fn(output,close_price_target)\n",
    "\n",
    "            val_losses.append(loss.to(torch.device(\"cpu\")).item())\n",
    "            cur_val_loss.append(loss.to(torch.device(\"cpu\")).item())\n",
    "\n",
    "        avarage_val_loss = np.mean(np.array(cur_val_loss))\n",
    "        avarage_val_losses.append(avarage_val_loss)\n",
    "\n",
    "        scheduler.step(avarage_val_loss)\n",
    "        \n",
    "        if(best_loss > avarage_val_loss) :\n",
    "\n",
    "            state = {\n",
    "                'epoch': epoch,\n",
    "                'model': model.state_dict(),\n",
    "                'optimizer': optimizer.state_dict(),\n",
    "                'scheduler': scheduler.state_dict(),\n",
    "                'train_loss': avarage_train_loss,\n",
    "                'val_loss': avarage_val_loss,\n",
    "                'best_val_loss': best_loss,\n",
    "            }\n",
    "\n",
    "            best_loss = avarage_val_loss\n",
    "\n",
    "            torch.save(state, model_folder + \"GRU.pth.tar\")\n",
    "\n",
    "    print(\"train loss : \",avarage_train_loss)\n",
    "    print(\"val loss : \",avarage_val_loss)\n"
   ]
  },
  {
   "cell_type": "code",
   "execution_count": 9,
   "metadata": {},
   "outputs": [
    {
     "data": {
      "image/png": "[encoded data removed]",
      "text/plain": [
       "<Figure size 640x480 with 1 Axes>"
      ]
     },
     "metadata": {},
     "output_type": "display_data"
    },
    {
     "data": {
      "image/png": "[encoded data removed]",
      "text/plain": [
       "<Figure size 640x480 with 1 Axes>"
      ]
     },
     "metadata": {},
     "output_type": "display_data"
    }
   ],
   "source": [
    "plt.plot(avarage_train_losses)\n",
    "plt.show()\n",
    "plt.plot(avarage_val_losses)\n",
    "plt.show()"
   ]
  },
  {
   "cell_type": "code",
   "execution_count": 10,
   "metadata": {},
   "outputs": [],
   "source": [
    "train_losses_file = open(configs[\"model_folder\"] + \"train_losses.txt\",'w')\n",
    "val_losses_file = open(configs[\"model_folder\"] + \"val_losses.txt\",\"w\")\n",
    "\n",
    "for value in train_losses :\n",
    "    train_losses_file.write(f\"{value}\\n\")\n",
    "\n",
    "for value in val_losses :\n",
    "    val_losses_file.write(f\"{value}\\n\")\n",
    "\n",
    "train_losses_file.close()\n",
    "val_losses_file.close()"
   ]
  },
  {
   "cell_type": "code",
   "execution_count": 11,
   "metadata": {},
   "outputs": [
    {
     "data": {
      "text/plain": [
       "StockGRU(\n",
       "  (layer1): GRU(1, 512, num_layers=2, bias=False, batch_first=True)\n",
       "  (layer2): Sequential(\n",
       "    (0): Dropout(p=0.2, inplace=False)\n",
       "    (1): LayerNorm((512,), eps=1e-05, elementwise_affine=True)\n",
       "    (2): Linear(in_features=512, out_features=1, bias=False)\n",
       "  )\n",
       ")"
      ]
     },
     "execution_count": 11,
     "metadata": {},
     "output_type": "execute_result"
    }
   ],
   "source": [
    "best_model = StockGRU()\n",
    "# best_model.load_state_dict(torch.load(configs[\"model_folder\"] + \"GRU.pth.tar\")['model'])\n",
    "\n",
    "best_model.to(device)\n",
    "best_model.eval()    "
   ]
  },
  {
   "cell_type": "code",
   "execution_count": 12,
   "metadata": {},
   "outputs": [
    {
     "data": {
      "application/vnd.jupyter.widget-view+json": {
       "model_id": "26ee3cdd4b20425c99e985265335a85e",
       "version_major": 2,
       "version_minor": 0
      },
      "text/plain": [
       "  0%|          | 0/354 [00:00<?, ?it/s]"
      ]
     },
     "metadata": {},
     "output_type": "display_data"
    },
    {
     "name": "stdout",
     "output_type": "stream",
     "text": [
      "0.0005522300642598474\n"
     ]
    }
   ],
   "source": [
    "with torch.no_grad() :\n",
    "    cur_test_loss = []\n",
    "    for input,target in tqdm(test_loader) :\n",
    "\n",
    "        close_price_input = input[:,4,:,None]\n",
    "        close_price_target = target[:,4,:]\n",
    "        close_price_input = close_price_input.to(device)\n",
    "        close_price_target = close_price_target.to(device)\n",
    "\n",
    "        if(close_price_input.shape[0] != configs[\"batch_size\"]) :\n",
    "            continue\n",
    "\n",
    "        output = best_model(close_price_input)\n",
    "\n",
    "        loss = loss_fn(output,close_price_target)\n",
    "\n",
    "        cur_test_loss.append(loss.to(torch.device(\"cpu\")).item())\n",
    "\n",
    "    avarage_test_loss = np.mean(np.array(cur_test_loss))\n",
    "\n",
    "print(avarage_test_loss)"
   ]
  },
  {
   "cell_type": "code",
   "execution_count": 13,
   "metadata": {},
   "outputs": [],
   "source": [
    "def get_log_stock_prediction(model, stock_files) :\n",
    "    model.eval()\n",
    "    data_set = StockDatasetLogReturn(stock_files, configs[\"input_size\"], 1)\n",
    "    data_set.Preprocess()\n",
    "    data_loader = DataLoader(data_set,configs[\"batch_size\"])\n",
    "    predict_res = []\n",
    "    target_res = []\n",
    "    \n",
    "    with torch.no_grad() : \n",
    "        \n",
    "        for input,target in tqdm(data_loader) :\n",
    "            close_price_input = input[:,4,:,None]\n",
    "            close_price_target = target[:,4,:]\n",
    "            close_price_input = close_price_input.to(device)\n",
    "\n",
    "            output = model(close_price_input)\n",
    "\n",
    "            close_price_input = close_price_input.to(torch.device(\"cpu\"))\n",
    "            \n",
    "            predict_res += output.to(torch.device(\"cpu\")).reshape(-1).tolist()\n",
    "            target_res += close_price_target.to(torch.device(\"cpu\")).reshape(-1).tolist()\n",
    "\n",
    "    return np.array(predict_res),np.array(target_res)\n"
   ]
  },
  {
   "cell_type": "code",
   "execution_count": 14,
   "metadata": {},
   "outputs": [],
   "source": [
    "def trade_test(predict, real) :\n",
    "    buy_pos = predict > 0\n",
    "    total_profit = np.exp(np.sum(buy_pos * real))\n",
    "    return total_profit"
   ]
  },
  {
   "cell_type": "code",
   "execution_count": 15,
   "metadata": {},
   "outputs": [
    {
     "data": {
      "application/vnd.jupyter.widget-view+json": {
       "model_id": "5524d56f85c04caa82b636081038e283",
       "version_major": 2,
       "version_minor": 0
      },
      "text/plain": [
       "  0%|          | 0/1 [00:00<?, ?it/s]"
      ]
     },
     "metadata": {},
     "output_type": "display_data"
    },
    {
     "data": {
      "application/vnd.jupyter.widget-view+json": {
       "model_id": "9f4d448a27ed4bd88b1be9215075ed6f",
       "version_major": 2,
       "version_minor": 0
      },
      "text/plain": [
       "  0%|          | 0/6129 [00:00<?, ?it/s]"
      ]
     },
     "metadata": {},
     "output_type": "display_data"
    },
    {
     "data": {
      "application/vnd.jupyter.widget-view+json": {
       "model_id": "b23f60f58c334987a0dcc4559cf74e7d",
       "version_major": 2,
       "version_minor": 0
      },
      "text/plain": [
       "  0%|          | 0/48 [00:00<?, ?it/s]"
      ]
     },
     "metadata": {},
     "output_type": "display_data"
    }
   ],
   "source": [
    "predict,target = get_log_stock_prediction(best_model, [\"./data/A.csv\"])\n"
   ]
  },
  {
   "cell_type": "code",
   "execution_count": 16,
   "metadata": {},
   "outputs": [
    {
     "data": {
      "image/png": "[encoded data removed]",
      "text/plain": [
       "<Figure size 640x480 with 1 Axes>"
      ]
     },
     "metadata": {},
     "output_type": "display_data"
    }
   ],
   "source": [
    "predict_percent = np.exp(predict)\n",
    "target_percent = np.exp(target)\n",
    "predict_plot = np.cumprod(predict_percent) * 100\n",
    "target_plot = np.cumprod(target_percent) * 100\n",
    "plt.plot(target_plot)\n",
    "plt.plot(predict_plot)\n",
    "plt.show()"
   ]
  },
  {
   "cell_type": "code",
   "execution_count": 17,
   "metadata": {},
   "outputs": [
    {
     "name": "stdout",
     "output_type": "stream",
     "text": [
      "total_profit :  1.4599895713993836\n",
      "buy and hold :  4.5820224637360205\n",
      "random profit :  1.5341024673134895\n"
     ]
    }
   ],
   "source": [
    "total_profit = trade_test(predict,target)\n",
    "print(\"total_profit : \",total_profit)\n",
    "buy_and_hold_profit = trade_test(np.ones(target.shape),target)\n",
    "print(\"buy and hold : \",buy_and_hold_profit)\n",
    "random_profit = trade_test(np.random.randint(low=0,high=2,size=target.shape),target)\n",
    "print(\"random profit : \",random_profit)"
   ]
  },
  {
   "cell_type": "code",
   "execution_count": 18,
   "metadata": {},
   "outputs": [
    {
     "data": {
      "text/plain": [
       "[]"
      ]
     },
     "execution_count": 18,
     "metadata": {},
     "output_type": "execute_result"
    },
    {
     "data": {
      "image/png": "[encoded data removed]",
      "text/plain": [
       "<Figure size 640x480 with 1 Axes>"
      ]
     },
     "metadata": {},
     "output_type": "display_data"
    }
   ],
   "source": [
    "plt.plot(target_percent)\n",
    "plt.plot(predict_percent)\n",
    "plt.plot()"
   ]
  },
  {
   "cell_type": "code",
   "execution_count": 19,
   "metadata": {},
   "outputs": [
    {
     "name": "stdout",
     "output_type": "stream",
     "text": [
      "0.4968184043073911\n"
     ]
    }
   ],
   "source": [
    "print(np.mean((np.log(np.array(target_percent)) * np.log(np.array(predict_percent))) > 0))"
   ]
  },
  {
   "cell_type": "code",
   "execution_count": 20,
   "metadata": {},
   "outputs": [
    {
     "data": {
      "image/png": "[encoded data removed]",
      "text/plain": [
       "<Figure size 640x480 with 1 Axes>"
      ]
     },
     "metadata": {},
     "output_type": "display_data"
    }
   ],
   "source": [
    "plt.plot(learning_rates)\n",
    "plt.show()"
   ]
  }
 ],
 "metadata": {
  "kernelspec": {
   "display_name": "Python 3",
   "language": "python",
   "name": "python3"
  },
  "language_info": {
   "codemirror_mode": {
    "name": "ipython",
    "version": 3
   },
   "file_extension": ".py",
   "mimetype": "text/x-python",
   "name": "python",
   "nbconvert_exporter": "python",
   "pygments_lexer": "ipython3",
   "version": "3.12.1"
  }
 },
 "nbformat": 4,
 "nbformat_minor": 2
}
